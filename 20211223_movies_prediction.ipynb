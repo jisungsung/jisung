{
  "nbformat": 4,
  "nbformat_minor": 0,
  "metadata": {
    "colab": {
      "name": "20211223_movies_prediction1.ipynb",
      "provenance": [],
      "collapsed_sections": [],
      "toc_visible": true
    },
    "kernelspec": {
      "name": "python3",
      "display_name": "Python 3"
    },
    "language_info": {
      "name": "python"
    }
  },
  "cells": [
    {
      "cell_type": "code",
      "execution_count": 971,
      "metadata": {
        "id": "67A-cMRO0aWW"
      },
      "outputs": [],
      "source": [
        "import numpy as np\n",
        "import pandas as pd\n",
        "import matplotlib.pyplot as plt"
      ]
    },
    {
      "cell_type": "markdown",
      "source": [
        "# 첫번째 시도"
      ],
      "metadata": {
        "id": "E3n0dYmZ3zX6"
      }
    },
    {
      "cell_type": "markdown",
      "source": [
        "##데이터 읽기"
      ],
      "metadata": {
        "id": "0ukdL9pH4Coa"
      }
    },
    {
      "cell_type": "code",
      "source": [
        "train_df = pd.read_csv('movies_train.csv')\n",
        "train_df.head()"
      ],
      "metadata": {
        "colab": {
          "base_uri": "https://localhost:8080/",
          "height": 206
        },
        "id": "BE9wkjKU0tb5",
        "outputId": "859f1539-5bc7-45fe-a819-d0ede2b2b9be"
      },
      "execution_count": 972,
      "outputs": [
        {
          "output_type": "execute_result",
          "data": {
            "text/html": [
              "\n",
              "  <div id=\"df-f43e405e-0ac0-4987-b667-e64b5a923421\">\n",
              "    <div class=\"colab-df-container\">\n",
              "      <div>\n",
              "<style scoped>\n",
              "    .dataframe tbody tr th:only-of-type {\n",
              "        vertical-align: middle;\n",
              "    }\n",
              "\n",
              "    .dataframe tbody tr th {\n",
              "        vertical-align: top;\n",
              "    }\n",
              "\n",
              "    .dataframe thead th {\n",
              "        text-align: right;\n",
              "    }\n",
              "</style>\n",
              "<table border=\"1\" class=\"dataframe\">\n",
              "  <thead>\n",
              "    <tr style=\"text-align: right;\">\n",
              "      <th></th>\n",
              "      <th>title</th>\n",
              "      <th>distributor</th>\n",
              "      <th>genre</th>\n",
              "      <th>release_time</th>\n",
              "      <th>time</th>\n",
              "      <th>screening_rat</th>\n",
              "      <th>director</th>\n",
              "      <th>dir_prev_bfnum</th>\n",
              "      <th>dir_prev_num</th>\n",
              "      <th>num_staff</th>\n",
              "      <th>num_actor</th>\n",
              "      <th>box_off_num</th>\n",
              "    </tr>\n",
              "  </thead>\n",
              "  <tbody>\n",
              "    <tr>\n",
              "      <th>0</th>\n",
              "      <td>개들의 전쟁</td>\n",
              "      <td>롯데엔터테인먼트</td>\n",
              "      <td>액션</td>\n",
              "      <td>2012-11-22</td>\n",
              "      <td>96</td>\n",
              "      <td>청소년 관람불가</td>\n",
              "      <td>조병옥</td>\n",
              "      <td>NaN</td>\n",
              "      <td>0</td>\n",
              "      <td>91</td>\n",
              "      <td>2</td>\n",
              "      <td>23398</td>\n",
              "    </tr>\n",
              "    <tr>\n",
              "      <th>1</th>\n",
              "      <td>내부자들</td>\n",
              "      <td>(주)쇼박스</td>\n",
              "      <td>느와르</td>\n",
              "      <td>2015-11-19</td>\n",
              "      <td>130</td>\n",
              "      <td>청소년 관람불가</td>\n",
              "      <td>우민호</td>\n",
              "      <td>1161602.50</td>\n",
              "      <td>2</td>\n",
              "      <td>387</td>\n",
              "      <td>3</td>\n",
              "      <td>7072501</td>\n",
              "    </tr>\n",
              "    <tr>\n",
              "      <th>2</th>\n",
              "      <td>은밀하게 위대하게</td>\n",
              "      <td>(주)쇼박스</td>\n",
              "      <td>액션</td>\n",
              "      <td>2013-06-05</td>\n",
              "      <td>123</td>\n",
              "      <td>15세 관람가</td>\n",
              "      <td>장철수</td>\n",
              "      <td>220775.25</td>\n",
              "      <td>4</td>\n",
              "      <td>343</td>\n",
              "      <td>4</td>\n",
              "      <td>6959083</td>\n",
              "    </tr>\n",
              "    <tr>\n",
              "      <th>3</th>\n",
              "      <td>나는 공무원이다</td>\n",
              "      <td>(주)NEW</td>\n",
              "      <td>코미디</td>\n",
              "      <td>2012-07-12</td>\n",
              "      <td>101</td>\n",
              "      <td>전체 관람가</td>\n",
              "      <td>구자홍</td>\n",
              "      <td>23894.00</td>\n",
              "      <td>2</td>\n",
              "      <td>20</td>\n",
              "      <td>6</td>\n",
              "      <td>217866</td>\n",
              "    </tr>\n",
              "    <tr>\n",
              "      <th>4</th>\n",
              "      <td>불량남녀</td>\n",
              "      <td>쇼박스(주)미디어플렉스</td>\n",
              "      <td>코미디</td>\n",
              "      <td>2010-11-04</td>\n",
              "      <td>108</td>\n",
              "      <td>15세 관람가</td>\n",
              "      <td>신근호</td>\n",
              "      <td>1.00</td>\n",
              "      <td>1</td>\n",
              "      <td>251</td>\n",
              "      <td>2</td>\n",
              "      <td>483387</td>\n",
              "    </tr>\n",
              "  </tbody>\n",
              "</table>\n",
              "</div>\n",
              "      <button class=\"colab-df-convert\" onclick=\"convertToInteractive('df-f43e405e-0ac0-4987-b667-e64b5a923421')\"\n",
              "              title=\"Convert this dataframe to an interactive table.\"\n",
              "              style=\"display:none;\">\n",
              "        \n",
              "  <svg xmlns=\"http://www.w3.org/2000/svg\" height=\"24px\"viewBox=\"0 0 24 24\"\n",
              "       width=\"24px\">\n",
              "    <path d=\"M0 0h24v24H0V0z\" fill=\"none\"/>\n",
              "    <path d=\"M18.56 5.44l.94 2.06.94-2.06 2.06-.94-2.06-.94-.94-2.06-.94 2.06-2.06.94zm-11 1L8.5 8.5l.94-2.06 2.06-.94-2.06-.94L8.5 2.5l-.94 2.06-2.06.94zm10 10l.94 2.06.94-2.06 2.06-.94-2.06-.94-.94-2.06-.94 2.06-2.06.94z\"/><path d=\"M17.41 7.96l-1.37-1.37c-.4-.4-.92-.59-1.43-.59-.52 0-1.04.2-1.43.59L10.3 9.45l-7.72 7.72c-.78.78-.78 2.05 0 2.83L4 21.41c.39.39.9.59 1.41.59.51 0 1.02-.2 1.41-.59l7.78-7.78 2.81-2.81c.8-.78.8-2.07 0-2.86zM5.41 20L4 18.59l7.72-7.72 1.47 1.35L5.41 20z\"/>\n",
              "  </svg>\n",
              "      </button>\n",
              "      \n",
              "  <style>\n",
              "    .colab-df-container {\n",
              "      display:flex;\n",
              "      flex-wrap:wrap;\n",
              "      gap: 12px;\n",
              "    }\n",
              "\n",
              "    .colab-df-convert {\n",
              "      background-color: #E8F0FE;\n",
              "      border: none;\n",
              "      border-radius: 50%;\n",
              "      cursor: pointer;\n",
              "      display: none;\n",
              "      fill: #1967D2;\n",
              "      height: 32px;\n",
              "      padding: 0 0 0 0;\n",
              "      width: 32px;\n",
              "    }\n",
              "\n",
              "    .colab-df-convert:hover {\n",
              "      background-color: #E2EBFA;\n",
              "      box-shadow: 0px 1px 2px rgba(60, 64, 67, 0.3), 0px 1px 3px 1px rgba(60, 64, 67, 0.15);\n",
              "      fill: #174EA6;\n",
              "    }\n",
              "\n",
              "    [theme=dark] .colab-df-convert {\n",
              "      background-color: #3B4455;\n",
              "      fill: #D2E3FC;\n",
              "    }\n",
              "\n",
              "    [theme=dark] .colab-df-convert:hover {\n",
              "      background-color: #434B5C;\n",
              "      box-shadow: 0px 1px 3px 1px rgba(0, 0, 0, 0.15);\n",
              "      filter: drop-shadow(0px 1px 2px rgba(0, 0, 0, 0.3));\n",
              "      fill: #FFFFFF;\n",
              "    }\n",
              "  </style>\n",
              "\n",
              "      <script>\n",
              "        const buttonEl =\n",
              "          document.querySelector('#df-f43e405e-0ac0-4987-b667-e64b5a923421 button.colab-df-convert');\n",
              "        buttonEl.style.display =\n",
              "          google.colab.kernel.accessAllowed ? 'block' : 'none';\n",
              "\n",
              "        async function convertToInteractive(key) {\n",
              "          const element = document.querySelector('#df-f43e405e-0ac0-4987-b667-e64b5a923421');\n",
              "          const dataTable =\n",
              "            await google.colab.kernel.invokeFunction('convertToInteractive',\n",
              "                                                     [key], {});\n",
              "          if (!dataTable) return;\n",
              "\n",
              "          const docLinkHtml = 'Like what you see? Visit the ' +\n",
              "            '<a target=\"_blank\" href=https://colab.research.google.com/notebooks/data_table.ipynb>data table notebook</a>'\n",
              "            + ' to learn more about interactive tables.';\n",
              "          element.innerHTML = '';\n",
              "          dataTable['output_type'] = 'display_data';\n",
              "          await google.colab.output.renderOutput(dataTable, element);\n",
              "          const docLink = document.createElement('div');\n",
              "          docLink.innerHTML = docLinkHtml;\n",
              "          element.appendChild(docLink);\n",
              "        }\n",
              "      </script>\n",
              "    </div>\n",
              "  </div>\n",
              "  "
            ],
            "text/plain": [
              "       title   distributor genre  ... num_staff  num_actor box_off_num\n",
              "0     개들의 전쟁      롯데엔터테인먼트    액션  ...        91          2       23398\n",
              "1       내부자들        (주)쇼박스   느와르  ...       387          3     7072501\n",
              "2  은밀하게 위대하게        (주)쇼박스    액션  ...       343          4     6959083\n",
              "3   나는 공무원이다        (주)NEW   코미디  ...        20          6      217866\n",
              "4       불량남녀  쇼박스(주)미디어플렉스   코미디  ...       251          2      483387\n",
              "\n",
              "[5 rows x 12 columns]"
            ]
          },
          "metadata": {},
          "execution_count": 972
        }
      ]
    },
    {
      "cell_type": "code",
      "source": [
        "submission_df = pd.read_csv('movies_test.csv')\n",
        "submission_df.head()"
      ],
      "metadata": {
        "colab": {
          "base_uri": "https://localhost:8080/",
          "height": 206
        },
        "id": "uEgJLCCF0t5P",
        "outputId": "3b4afe00-e0b3-4032-cdf4-219084b69304"
      },
      "execution_count": 973,
      "outputs": [
        {
          "output_type": "execute_result",
          "data": {
            "text/html": [
              "\n",
              "  <div id=\"df-ba8f6356-06af-4bd8-8094-b27bf73f61b8\">\n",
              "    <div class=\"colab-df-container\">\n",
              "      <div>\n",
              "<style scoped>\n",
              "    .dataframe tbody tr th:only-of-type {\n",
              "        vertical-align: middle;\n",
              "    }\n",
              "\n",
              "    .dataframe tbody tr th {\n",
              "        vertical-align: top;\n",
              "    }\n",
              "\n",
              "    .dataframe thead th {\n",
              "        text-align: right;\n",
              "    }\n",
              "</style>\n",
              "<table border=\"1\" class=\"dataframe\">\n",
              "  <thead>\n",
              "    <tr style=\"text-align: right;\">\n",
              "      <th></th>\n",
              "      <th>title</th>\n",
              "      <th>distributor</th>\n",
              "      <th>genre</th>\n",
              "      <th>release_time</th>\n",
              "      <th>time</th>\n",
              "      <th>screening_rat</th>\n",
              "      <th>director</th>\n",
              "      <th>dir_prev_bfnum</th>\n",
              "      <th>dir_prev_num</th>\n",
              "      <th>num_staff</th>\n",
              "      <th>num_actor</th>\n",
              "    </tr>\n",
              "  </thead>\n",
              "  <tbody>\n",
              "    <tr>\n",
              "      <th>0</th>\n",
              "      <td>용서는 없다</td>\n",
              "      <td>시네마서비스</td>\n",
              "      <td>느와르</td>\n",
              "      <td>2010-01-07</td>\n",
              "      <td>125</td>\n",
              "      <td>청소년 관람불가</td>\n",
              "      <td>김형준</td>\n",
              "      <td>3.005290e+05</td>\n",
              "      <td>2</td>\n",
              "      <td>304</td>\n",
              "      <td>3</td>\n",
              "    </tr>\n",
              "    <tr>\n",
              "      <th>1</th>\n",
              "      <td>아빠가 여자를 좋아해</td>\n",
              "      <td>(주)쇼박스</td>\n",
              "      <td>멜로/로맨스</td>\n",
              "      <td>2010-01-14</td>\n",
              "      <td>113</td>\n",
              "      <td>12세 관람가</td>\n",
              "      <td>이광재</td>\n",
              "      <td>3.427002e+05</td>\n",
              "      <td>4</td>\n",
              "      <td>275</td>\n",
              "      <td>3</td>\n",
              "    </tr>\n",
              "    <tr>\n",
              "      <th>2</th>\n",
              "      <td>하모니</td>\n",
              "      <td>CJ 엔터테인먼트</td>\n",
              "      <td>드라마</td>\n",
              "      <td>2010-01-28</td>\n",
              "      <td>115</td>\n",
              "      <td>12세 관람가</td>\n",
              "      <td>강대규</td>\n",
              "      <td>4.206611e+06</td>\n",
              "      <td>3</td>\n",
              "      <td>419</td>\n",
              "      <td>7</td>\n",
              "    </tr>\n",
              "    <tr>\n",
              "      <th>3</th>\n",
              "      <td>의형제</td>\n",
              "      <td>(주)쇼박스</td>\n",
              "      <td>액션</td>\n",
              "      <td>2010-02-04</td>\n",
              "      <td>116</td>\n",
              "      <td>15세 관람가</td>\n",
              "      <td>장훈</td>\n",
              "      <td>6.913420e+05</td>\n",
              "      <td>2</td>\n",
              "      <td>408</td>\n",
              "      <td>2</td>\n",
              "    </tr>\n",
              "    <tr>\n",
              "      <th>4</th>\n",
              "      <td>평행 이론</td>\n",
              "      <td>CJ 엔터테인먼트</td>\n",
              "      <td>공포</td>\n",
              "      <td>2010-02-18</td>\n",
              "      <td>110</td>\n",
              "      <td>15세 관람가</td>\n",
              "      <td>권호영</td>\n",
              "      <td>3.173800e+04</td>\n",
              "      <td>1</td>\n",
              "      <td>380</td>\n",
              "      <td>1</td>\n",
              "    </tr>\n",
              "  </tbody>\n",
              "</table>\n",
              "</div>\n",
              "      <button class=\"colab-df-convert\" onclick=\"convertToInteractive('df-ba8f6356-06af-4bd8-8094-b27bf73f61b8')\"\n",
              "              title=\"Convert this dataframe to an interactive table.\"\n",
              "              style=\"display:none;\">\n",
              "        \n",
              "  <svg xmlns=\"http://www.w3.org/2000/svg\" height=\"24px\"viewBox=\"0 0 24 24\"\n",
              "       width=\"24px\">\n",
              "    <path d=\"M0 0h24v24H0V0z\" fill=\"none\"/>\n",
              "    <path d=\"M18.56 5.44l.94 2.06.94-2.06 2.06-.94-2.06-.94-.94-2.06-.94 2.06-2.06.94zm-11 1L8.5 8.5l.94-2.06 2.06-.94-2.06-.94L8.5 2.5l-.94 2.06-2.06.94zm10 10l.94 2.06.94-2.06 2.06-.94-2.06-.94-.94-2.06-.94 2.06-2.06.94z\"/><path d=\"M17.41 7.96l-1.37-1.37c-.4-.4-.92-.59-1.43-.59-.52 0-1.04.2-1.43.59L10.3 9.45l-7.72 7.72c-.78.78-.78 2.05 0 2.83L4 21.41c.39.39.9.59 1.41.59.51 0 1.02-.2 1.41-.59l7.78-7.78 2.81-2.81c.8-.78.8-2.07 0-2.86zM5.41 20L4 18.59l7.72-7.72 1.47 1.35L5.41 20z\"/>\n",
              "  </svg>\n",
              "      </button>\n",
              "      \n",
              "  <style>\n",
              "    .colab-df-container {\n",
              "      display:flex;\n",
              "      flex-wrap:wrap;\n",
              "      gap: 12px;\n",
              "    }\n",
              "\n",
              "    .colab-df-convert {\n",
              "      background-color: #E8F0FE;\n",
              "      border: none;\n",
              "      border-radius: 50%;\n",
              "      cursor: pointer;\n",
              "      display: none;\n",
              "      fill: #1967D2;\n",
              "      height: 32px;\n",
              "      padding: 0 0 0 0;\n",
              "      width: 32px;\n",
              "    }\n",
              "\n",
              "    .colab-df-convert:hover {\n",
              "      background-color: #E2EBFA;\n",
              "      box-shadow: 0px 1px 2px rgba(60, 64, 67, 0.3), 0px 1px 3px 1px rgba(60, 64, 67, 0.15);\n",
              "      fill: #174EA6;\n",
              "    }\n",
              "\n",
              "    [theme=dark] .colab-df-convert {\n",
              "      background-color: #3B4455;\n",
              "      fill: #D2E3FC;\n",
              "    }\n",
              "\n",
              "    [theme=dark] .colab-df-convert:hover {\n",
              "      background-color: #434B5C;\n",
              "      box-shadow: 0px 1px 3px 1px rgba(0, 0, 0, 0.15);\n",
              "      filter: drop-shadow(0px 1px 2px rgba(0, 0, 0, 0.3));\n",
              "      fill: #FFFFFF;\n",
              "    }\n",
              "  </style>\n",
              "\n",
              "      <script>\n",
              "        const buttonEl =\n",
              "          document.querySelector('#df-ba8f6356-06af-4bd8-8094-b27bf73f61b8 button.colab-df-convert');\n",
              "        buttonEl.style.display =\n",
              "          google.colab.kernel.accessAllowed ? 'block' : 'none';\n",
              "\n",
              "        async function convertToInteractive(key) {\n",
              "          const element = document.querySelector('#df-ba8f6356-06af-4bd8-8094-b27bf73f61b8');\n",
              "          const dataTable =\n",
              "            await google.colab.kernel.invokeFunction('convertToInteractive',\n",
              "                                                     [key], {});\n",
              "          if (!dataTable) return;\n",
              "\n",
              "          const docLinkHtml = 'Like what you see? Visit the ' +\n",
              "            '<a target=\"_blank\" href=https://colab.research.google.com/notebooks/data_table.ipynb>data table notebook</a>'\n",
              "            + ' to learn more about interactive tables.';\n",
              "          element.innerHTML = '';\n",
              "          dataTable['output_type'] = 'display_data';\n",
              "          await google.colab.output.renderOutput(dataTable, element);\n",
              "          const docLink = document.createElement('div');\n",
              "          docLink.innerHTML = docLinkHtml;\n",
              "          element.appendChild(docLink);\n",
              "        }\n",
              "      </script>\n",
              "    </div>\n",
              "  </div>\n",
              "  "
            ],
            "text/plain": [
              "         title distributor   genre  ... dir_prev_num  num_staff num_actor\n",
              "0       용서는 없다      시네마서비스     느와르  ...            2        304         3\n",
              "1  아빠가 여자를 좋아해      (주)쇼박스  멜로/로맨스  ...            4        275         3\n",
              "2          하모니   CJ 엔터테인먼트     드라마  ...            3        419         7\n",
              "3          의형제      (주)쇼박스      액션  ...            2        408         2\n",
              "4        평행 이론   CJ 엔터테인먼트      공포  ...            1        380         1\n",
              "\n",
              "[5 rows x 11 columns]"
            ]
          },
          "metadata": {},
          "execution_count": 973
        }
      ]
    },
    {
      "cell_type": "markdown",
      "source": [
        "## train+ submission데이터 합치기"
      ],
      "metadata": {
        "id": "Io59a4hS35eC"
      }
    },
    {
      "cell_type": "code",
      "source": [
        "all_df=pd.concat([train_df, submission_df])\n",
        "all_df.head()"
      ],
      "metadata": {
        "colab": {
          "base_uri": "https://localhost:8080/",
          "height": 206
        },
        "id": "oTuTIQ5l1Mtx",
        "outputId": "fbd247b1-1869-4ab5-86e2-77e5c245d6ec"
      },
      "execution_count": 974,
      "outputs": [
        {
          "output_type": "execute_result",
          "data": {
            "text/html": [
              "\n",
              "  <div id=\"df-ebbfea8f-3c2a-404c-a698-a799300b1cb4\">\n",
              "    <div class=\"colab-df-container\">\n",
              "      <div>\n",
              "<style scoped>\n",
              "    .dataframe tbody tr th:only-of-type {\n",
              "        vertical-align: middle;\n",
              "    }\n",
              "\n",
              "    .dataframe tbody tr th {\n",
              "        vertical-align: top;\n",
              "    }\n",
              "\n",
              "    .dataframe thead th {\n",
              "        text-align: right;\n",
              "    }\n",
              "</style>\n",
              "<table border=\"1\" class=\"dataframe\">\n",
              "  <thead>\n",
              "    <tr style=\"text-align: right;\">\n",
              "      <th></th>\n",
              "      <th>title</th>\n",
              "      <th>distributor</th>\n",
              "      <th>genre</th>\n",
              "      <th>release_time</th>\n",
              "      <th>time</th>\n",
              "      <th>screening_rat</th>\n",
              "      <th>director</th>\n",
              "      <th>dir_prev_bfnum</th>\n",
              "      <th>dir_prev_num</th>\n",
              "      <th>num_staff</th>\n",
              "      <th>num_actor</th>\n",
              "      <th>box_off_num</th>\n",
              "    </tr>\n",
              "  </thead>\n",
              "  <tbody>\n",
              "    <tr>\n",
              "      <th>0</th>\n",
              "      <td>개들의 전쟁</td>\n",
              "      <td>롯데엔터테인먼트</td>\n",
              "      <td>액션</td>\n",
              "      <td>2012-11-22</td>\n",
              "      <td>96</td>\n",
              "      <td>청소년 관람불가</td>\n",
              "      <td>조병옥</td>\n",
              "      <td>NaN</td>\n",
              "      <td>0</td>\n",
              "      <td>91</td>\n",
              "      <td>2</td>\n",
              "      <td>23398.0</td>\n",
              "    </tr>\n",
              "    <tr>\n",
              "      <th>1</th>\n",
              "      <td>내부자들</td>\n",
              "      <td>(주)쇼박스</td>\n",
              "      <td>느와르</td>\n",
              "      <td>2015-11-19</td>\n",
              "      <td>130</td>\n",
              "      <td>청소년 관람불가</td>\n",
              "      <td>우민호</td>\n",
              "      <td>1161602.50</td>\n",
              "      <td>2</td>\n",
              "      <td>387</td>\n",
              "      <td>3</td>\n",
              "      <td>7072501.0</td>\n",
              "    </tr>\n",
              "    <tr>\n",
              "      <th>2</th>\n",
              "      <td>은밀하게 위대하게</td>\n",
              "      <td>(주)쇼박스</td>\n",
              "      <td>액션</td>\n",
              "      <td>2013-06-05</td>\n",
              "      <td>123</td>\n",
              "      <td>15세 관람가</td>\n",
              "      <td>장철수</td>\n",
              "      <td>220775.25</td>\n",
              "      <td>4</td>\n",
              "      <td>343</td>\n",
              "      <td>4</td>\n",
              "      <td>6959083.0</td>\n",
              "    </tr>\n",
              "    <tr>\n",
              "      <th>3</th>\n",
              "      <td>나는 공무원이다</td>\n",
              "      <td>(주)NEW</td>\n",
              "      <td>코미디</td>\n",
              "      <td>2012-07-12</td>\n",
              "      <td>101</td>\n",
              "      <td>전체 관람가</td>\n",
              "      <td>구자홍</td>\n",
              "      <td>23894.00</td>\n",
              "      <td>2</td>\n",
              "      <td>20</td>\n",
              "      <td>6</td>\n",
              "      <td>217866.0</td>\n",
              "    </tr>\n",
              "    <tr>\n",
              "      <th>4</th>\n",
              "      <td>불량남녀</td>\n",
              "      <td>쇼박스(주)미디어플렉스</td>\n",
              "      <td>코미디</td>\n",
              "      <td>2010-11-04</td>\n",
              "      <td>108</td>\n",
              "      <td>15세 관람가</td>\n",
              "      <td>신근호</td>\n",
              "      <td>1.00</td>\n",
              "      <td>1</td>\n",
              "      <td>251</td>\n",
              "      <td>2</td>\n",
              "      <td>483387.0</td>\n",
              "    </tr>\n",
              "  </tbody>\n",
              "</table>\n",
              "</div>\n",
              "      <button class=\"colab-df-convert\" onclick=\"convertToInteractive('df-ebbfea8f-3c2a-404c-a698-a799300b1cb4')\"\n",
              "              title=\"Convert this dataframe to an interactive table.\"\n",
              "              style=\"display:none;\">\n",
              "        \n",
              "  <svg xmlns=\"http://www.w3.org/2000/svg\" height=\"24px\"viewBox=\"0 0 24 24\"\n",
              "       width=\"24px\">\n",
              "    <path d=\"M0 0h24v24H0V0z\" fill=\"none\"/>\n",
              "    <path d=\"M18.56 5.44l.94 2.06.94-2.06 2.06-.94-2.06-.94-.94-2.06-.94 2.06-2.06.94zm-11 1L8.5 8.5l.94-2.06 2.06-.94-2.06-.94L8.5 2.5l-.94 2.06-2.06.94zm10 10l.94 2.06.94-2.06 2.06-.94-2.06-.94-.94-2.06-.94 2.06-2.06.94z\"/><path d=\"M17.41 7.96l-1.37-1.37c-.4-.4-.92-.59-1.43-.59-.52 0-1.04.2-1.43.59L10.3 9.45l-7.72 7.72c-.78.78-.78 2.05 0 2.83L4 21.41c.39.39.9.59 1.41.59.51 0 1.02-.2 1.41-.59l7.78-7.78 2.81-2.81c.8-.78.8-2.07 0-2.86zM5.41 20L4 18.59l7.72-7.72 1.47 1.35L5.41 20z\"/>\n",
              "  </svg>\n",
              "      </button>\n",
              "      \n",
              "  <style>\n",
              "    .colab-df-container {\n",
              "      display:flex;\n",
              "      flex-wrap:wrap;\n",
              "      gap: 12px;\n",
              "    }\n",
              "\n",
              "    .colab-df-convert {\n",
              "      background-color: #E8F0FE;\n",
              "      border: none;\n",
              "      border-radius: 50%;\n",
              "      cursor: pointer;\n",
              "      display: none;\n",
              "      fill: #1967D2;\n",
              "      height: 32px;\n",
              "      padding: 0 0 0 0;\n",
              "      width: 32px;\n",
              "    }\n",
              "\n",
              "    .colab-df-convert:hover {\n",
              "      background-color: #E2EBFA;\n",
              "      box-shadow: 0px 1px 2px rgba(60, 64, 67, 0.3), 0px 1px 3px 1px rgba(60, 64, 67, 0.15);\n",
              "      fill: #174EA6;\n",
              "    }\n",
              "\n",
              "    [theme=dark] .colab-df-convert {\n",
              "      background-color: #3B4455;\n",
              "      fill: #D2E3FC;\n",
              "    }\n",
              "\n",
              "    [theme=dark] .colab-df-convert:hover {\n",
              "      background-color: #434B5C;\n",
              "      box-shadow: 0px 1px 3px 1px rgba(0, 0, 0, 0.15);\n",
              "      filter: drop-shadow(0px 1px 2px rgba(0, 0, 0, 0.3));\n",
              "      fill: #FFFFFF;\n",
              "    }\n",
              "  </style>\n",
              "\n",
              "      <script>\n",
              "        const buttonEl =\n",
              "          document.querySelector('#df-ebbfea8f-3c2a-404c-a698-a799300b1cb4 button.colab-df-convert');\n",
              "        buttonEl.style.display =\n",
              "          google.colab.kernel.accessAllowed ? 'block' : 'none';\n",
              "\n",
              "        async function convertToInteractive(key) {\n",
              "          const element = document.querySelector('#df-ebbfea8f-3c2a-404c-a698-a799300b1cb4');\n",
              "          const dataTable =\n",
              "            await google.colab.kernel.invokeFunction('convertToInteractive',\n",
              "                                                     [key], {});\n",
              "          if (!dataTable) return;\n",
              "\n",
              "          const docLinkHtml = 'Like what you see? Visit the ' +\n",
              "            '<a target=\"_blank\" href=https://colab.research.google.com/notebooks/data_table.ipynb>data table notebook</a>'\n",
              "            + ' to learn more about interactive tables.';\n",
              "          element.innerHTML = '';\n",
              "          dataTable['output_type'] = 'display_data';\n",
              "          await google.colab.output.renderOutput(dataTable, element);\n",
              "          const docLink = document.createElement('div');\n",
              "          docLink.innerHTML = docLinkHtml;\n",
              "          element.appendChild(docLink);\n",
              "        }\n",
              "      </script>\n",
              "    </div>\n",
              "  </div>\n",
              "  "
            ],
            "text/plain": [
              "       title   distributor genre  ... num_staff  num_actor box_off_num\n",
              "0     개들의 전쟁      롯데엔터테인먼트    액션  ...        91          2     23398.0\n",
              "1       내부자들        (주)쇼박스   느와르  ...       387          3   7072501.0\n",
              "2  은밀하게 위대하게        (주)쇼박스    액션  ...       343          4   6959083.0\n",
              "3   나는 공무원이다        (주)NEW   코미디  ...        20          6    217866.0\n",
              "4       불량남녀  쇼박스(주)미디어플렉스   코미디  ...       251          2    483387.0\n",
              "\n",
              "[5 rows x 12 columns]"
            ]
          },
          "metadata": {},
          "execution_count": 974
        }
      ]
    },
    {
      "cell_type": "code",
      "source": [
        "all_df.info()"
      ],
      "metadata": {
        "colab": {
          "base_uri": "https://localhost:8080/"
        },
        "id": "H21IfblU1Mwv",
        "outputId": "afb45cd9-d537-4158-8155-4322e91df66c"
      },
      "execution_count": 975,
      "outputs": [
        {
          "output_type": "stream",
          "name": "stdout",
          "text": [
            "<class 'pandas.core.frame.DataFrame'>\n",
            "Int64Index: 843 entries, 0 to 242\n",
            "Data columns (total 12 columns):\n",
            " #   Column          Non-Null Count  Dtype  \n",
            "---  ------          --------------  -----  \n",
            " 0   title           843 non-null    object \n",
            " 1   distributor     843 non-null    object \n",
            " 2   genre           843 non-null    object \n",
            " 3   release_time    843 non-null    object \n",
            " 4   time            843 non-null    int64  \n",
            " 5   screening_rat   843 non-null    object \n",
            " 6   director        843 non-null    object \n",
            " 7   dir_prev_bfnum  377 non-null    float64\n",
            " 8   dir_prev_num    843 non-null    int64  \n",
            " 9   num_staff       843 non-null    int64  \n",
            " 10  num_actor       843 non-null    int64  \n",
            " 11  box_off_num     600 non-null    float64\n",
            "dtypes: float64(2), int64(4), object(6)\n",
            "memory usage: 85.6+ KB\n"
          ]
        }
      ]
    },
    {
      "cell_type": "markdown",
      "source": [
        "##안쓸 컬럼 삭제"
      ],
      "metadata": {
        "id": "jLiJe5an1Mzw"
      }
    },
    {
      "cell_type": "code",
      "source": [
        "all_df.drop(columns=['title','distributor','genre','release_time','screening_rat','director'],inplace=True)\n",
        "all_df.info()"
      ],
      "metadata": {
        "colab": {
          "base_uri": "https://localhost:8080/"
        },
        "id": "tXp_9kFN1M2v",
        "outputId": "50c271e7-5f7b-46d3-83ae-49399690b528"
      },
      "execution_count": 976,
      "outputs": [
        {
          "output_type": "stream",
          "name": "stdout",
          "text": [
            "<class 'pandas.core.frame.DataFrame'>\n",
            "Int64Index: 843 entries, 0 to 242\n",
            "Data columns (total 6 columns):\n",
            " #   Column          Non-Null Count  Dtype  \n",
            "---  ------          --------------  -----  \n",
            " 0   time            843 non-null    int64  \n",
            " 1   dir_prev_bfnum  377 non-null    float64\n",
            " 2   dir_prev_num    843 non-null    int64  \n",
            " 3   num_staff       843 non-null    int64  \n",
            " 4   num_actor       843 non-null    int64  \n",
            " 5   box_off_num     600 non-null    float64\n",
            "dtypes: float64(2), int64(4)\n",
            "memory usage: 46.1 KB\n"
          ]
        }
      ]
    },
    {
      "cell_type": "markdown",
      "source": [
        "##결측치 처리"
      ],
      "metadata": {
        "id": "L1LBvd6h8bA0"
      }
    },
    {
      "cell_type": "code",
      "source": [
        "all_df = all_df.fillna(0)"
      ],
      "metadata": {
        "id": "sSHARPOf8fk8"
      },
      "execution_count": 977,
      "outputs": []
    },
    {
      "cell_type": "code",
      "source": [
        "all_df.info()"
      ],
      "metadata": {
        "colab": {
          "base_uri": "https://localhost:8080/"
        },
        "id": "07PMRQXK82R_",
        "outputId": "1f01da08-640d-4f7c-e0be-1710ec156cda"
      },
      "execution_count": 978,
      "outputs": [
        {
          "output_type": "stream",
          "name": "stdout",
          "text": [
            "<class 'pandas.core.frame.DataFrame'>\n",
            "Int64Index: 843 entries, 0 to 242\n",
            "Data columns (total 6 columns):\n",
            " #   Column          Non-Null Count  Dtype  \n",
            "---  ------          --------------  -----  \n",
            " 0   time            843 non-null    int64  \n",
            " 1   dir_prev_bfnum  843 non-null    float64\n",
            " 2   dir_prev_num    843 non-null    int64  \n",
            " 3   num_staff       843 non-null    int64  \n",
            " 4   num_actor       843 non-null    int64  \n",
            " 5   box_off_num     843 non-null    float64\n",
            "dtypes: float64(2), int64(4)\n",
            "memory usage: 46.1 KB\n"
          ]
        }
      ]
    },
    {
      "cell_type": "markdown",
      "source": [
        "##전처리 전의 데이터 분포 보기"
      ],
      "metadata": {
        "id": "X08cQRRw_h9l"
      }
    },
    {
      "cell_type": "markdown",
      "source": [
        "###time"
      ],
      "metadata": {
        "id": "wPdcwpXF_h9l"
      }
    },
    {
      "cell_type": "code",
      "source": [
        "plt.hist(all_df.time, bins=100)\n",
        "plt.show()"
      ],
      "metadata": {
        "colab": {
          "base_uri": "https://localhost:8080/",
          "height": 264
        },
        "outputId": "be61ef81-86c2-4a01-b978-4645a7f6ec1c",
        "id": "jAW1iQzt_h9l"
      },
      "execution_count": 979,
      "outputs": [
        {
          "output_type": "display_data",
          "data": {
            "image/png": "[encoded data removed]",
            "text/plain": [
              "<Figure size 432x288 with 1 Axes>"
            ]
          },
          "metadata": {
            "needs_background": "light"
          }
        }
      ]
    },
    {
      "cell_type": "markdown",
      "source": [
        "###dir_prev_bfnum"
      ],
      "metadata": {
        "id": "Zibn4fRI_h9l"
      }
    },
    {
      "cell_type": "code",
      "source": [
        "plt.hist(all_df.dir_prev_bfnum, bins=100)\n",
        "plt.show()"
      ],
      "metadata": {
        "colab": {
          "base_uri": "https://localhost:8080/",
          "height": 277
        },
        "outputId": "1aa1ab27-ed08-437f-93b3-56c74e43714b",
        "id": "gTuzha6b_h9l"
      },
      "execution_count": 980,
      "outputs": [
        {
          "output_type": "display_data",
          "data": {
            "image/png": "[encoded data removed]",
            "text/plain": [
              "<Figure size 432x288 with 1 Axes>"
            ]
          },
          "metadata": {
            "needs_background": "light"
          }
        }
      ]
    },
    {
      "cell_type": "markdown",
      "source": [
        "###dir_prev_num"
      ],
      "metadata": {
        "id": "uAq96Cs0_h9l"
      }
    },
    {
      "cell_type": "code",
      "source": [
        "plt.hist(all_df.dir_prev_num, bins=100)\n",
        "plt.show()"
      ],
      "metadata": {
        "colab": {
          "base_uri": "https://localhost:8080/",
          "height": 264
        },
        "outputId": "7d935852-f0f2-4b2b-c6ef-45918a127fa6",
        "id": "cU7nfE9G_h9l"
      },
      "execution_count": 981,
      "outputs": [
        {
          "output_type": "display_data",
          "data": {
            "image/png": "[encoded data removed]",
            "text/plain": [
              "<Figure size 432x288 with 1 Axes>"
            ]
          },
          "metadata": {
            "needs_background": "light"
          }
        }
      ]
    },
    {
      "cell_type": "markdown",
      "source": [
        "###num_staff"
      ],
      "metadata": {
        "id": "WZKkXd0s_h9m"
      }
    },
    {
      "cell_type": "code",
      "source": [
        "plt.hist(all_df.num_staff, bins=100)\n",
        "plt.show()"
      ],
      "metadata": {
        "colab": {
          "base_uri": "https://localhost:8080/",
          "height": 265
        },
        "outputId": "aaf4b918-5aa4-4e0a-fecf-655d36cc922d",
        "id": "GJFnQeVk_h9m"
      },
      "execution_count": 982,
      "outputs": [
        {
          "output_type": "display_data",
          "data": {
            "image/png": "[encoded data removed]",
            "text/plain": [
              "<Figure size 432x288 with 1 Axes>"
            ]
          },
          "metadata": {
            "needs_background": "light"
          }
        }
      ]
    },
    {
      "cell_type": "markdown",
      "source": [
        "###num_actor"
      ],
      "metadata": {
        "id": "lEV9n4-7_h9m"
      }
    },
    {
      "cell_type": "code",
      "source": [
        "plt.hist(all_df.num_actor, bins=100)\n",
        "plt.show()"
      ],
      "metadata": {
        "colab": {
          "base_uri": "https://localhost:8080/",
          "height": 264
        },
        "outputId": "6e5ae9d9-a4dc-469e-c890-7e63ce79bac5",
        "id": "IwZS3o0D_h9m"
      },
      "execution_count": 983,
      "outputs": [
        {
          "output_type": "display_data",
          "data": {
            "image/png": "[encoded data removed]",
            "text/plain": [
              "<Figure size 432x288 with 1 Axes>"
            ]
          },
          "metadata": {
            "needs_background": "light"
          }
        }
      ]
    },
    {
      "cell_type": "markdown",
      "source": [
        "###box_off_num"
      ],
      "metadata": {
        "id": "jy9oBCw8_xAd"
      }
    },
    {
      "cell_type": "code",
      "source": [
        "plt.hist(all_df.box_off_num, bins=100)\n",
        "plt.show()"
      ],
      "metadata": {
        "colab": {
          "base_uri": "https://localhost:8080/",
          "height": 277
        },
        "id": "Zmer0HB1_1Mt",
        "outputId": "65cedd1a-d796-4ef9-e15e-0e2f33e8bbef"
      },
      "execution_count": 984,
      "outputs": [
        {
          "output_type": "display_data",
          "data": {
            "image/png": "[encoded data removed]",
            "text/plain": [
              "<Figure size 432x288 with 1 Axes>"
            ]
          },
          "metadata": {
            "needs_background": "light"
          }
        }
      ]
    },
    {
      "cell_type": "markdown",
      "source": [
        "##컬럼 별 전처리"
      ],
      "metadata": {
        "id": "LWc7QiGJANWN"
      }
    },
    {
      "cell_type": "markdown",
      "source": [
        "###time\n"
      ],
      "metadata": {
        "id": "xg9eyGsLAU1t"
      }
    },
    {
      "cell_type": "code",
      "source": [
        "all_df.loc[all_df.time>200, 'time'] =200"
      ],
      "metadata": {
        "id": "7IsnvbI6AX81"
      },
      "execution_count": 985,
      "outputs": []
    },
    {
      "cell_type": "markdown",
      "source": [
        "###dir_prev_bfum"
      ],
      "metadata": {
        "id": "iHv8-K-9Ao8d"
      }
    },
    {
      "cell_type": "code",
      "source": [
        "all_df['dir_prev_bfnum']=np.log1p(all_df.dir_prev_bfnum)"
      ],
      "metadata": {
        "id": "TtXq62TRApRU"
      },
      "execution_count": 986,
      "outputs": []
    },
    {
      "cell_type": "markdown",
      "source": [
        "###num_staff \n",
        "####1을 더한 로그처리한다."
      ],
      "metadata": {
        "id": "hesYIAlcBclC"
      }
    },
    {
      "cell_type": "code",
      "source": [
        "all_df['num_staff']= np.log1p(all_df.num_staff)"
      ],
      "metadata": {
        "id": "AwWz3LuBBcsg"
      },
      "execution_count": 987,
      "outputs": []
    },
    {
      "cell_type": "markdown",
      "source": [
        "###num_actor\n",
        "####10보다 큰 이상치를 10으로 변환"
      ],
      "metadata": {
        "id": "lBN_36nxB2sE"
      }
    },
    {
      "cell_type": "code",
      "source": [
        "all_df.loc[all_df.num_actor>10, 'num_actor'] = 10"
      ],
      "metadata": {
        "id": "qYPchMDTB2vM"
      },
      "execution_count": 988,
      "outputs": []
    },
    {
      "cell_type": "markdown",
      "source": [
        "###box_off_num\n",
        "####1을 더한 로그처리한다."
      ],
      "metadata": {
        "id": "9jwucAGQCM1M"
      }
    },
    {
      "cell_type": "code",
      "source": [
        "all_df['box_off_num']= np.log1p(all_df.box_off_num)"
      ],
      "metadata": {
        "id": "rObpACRvCM47"
      },
      "execution_count": 989,
      "outputs": []
    },
    {
      "cell_type": "markdown",
      "source": [
        "## Normalization"
      ],
      "metadata": {
        "id": "VH1WbBn1EHsU"
      }
    },
    {
      "cell_type": "code",
      "source": [
        "all_df['time']            = (all_df.time - all_df.time.min()) / ( all_df.time.max() - all_df.time.min())\n",
        "all_df['dir_prev_bfnum']  = (all_df.dir_prev_bfnum - all_df.dir_prev_bfnum.min()) / ( all_df.dir_prev_bfnum.max() - all_df.dir_prev_bfnum.min())\n",
        "all_df['dir_prev_num']    = (all_df.dir_prev_num - all_df.dir_prev_num.min()) / ( all_df.dir_prev_num.max() - all_df.dir_prev_num.min())\n",
        "all_df['num_staff']       = (all_df.num_staff - all_df.num_staff.min()) / ( all_df.num_staff.max() - all_df.num_staff.min())\n",
        "all_df['num_actor']       = (all_df.num_actor - all_df.num_actor.min()) / ( all_df.num_actor.max() - all_df.num_actor.min())"
      ],
      "metadata": {
        "id": "bMXN_8txE5Vt"
      },
      "execution_count": 990,
      "outputs": []
    },
    {
      "cell_type": "code",
      "source": [
        "y_max= all_df.box_off_num.max()\n",
        "y_min= all_df.box_off_num.min()\n",
        "\n",
        "all_df['box_off_num'] = (all_df.box_off_num - y_min) / ( y_max - y_min )"
      ],
      "metadata": {
        "id": "_-glqjJjF8Bx"
      },
      "execution_count": 991,
      "outputs": []
    },
    {
      "cell_type": "markdown",
      "source": [
        "##전처리 후의 데이터 분포 보기"
      ],
      "metadata": {
        "id": "LPRDe6lr9JUs"
      }
    },
    {
      "cell_type": "markdown",
      "source": [
        "###time"
      ],
      "metadata": {
        "id": "XZfXKpMq9PpU"
      }
    },
    {
      "cell_type": "code",
      "source": [
        "plt.hist(all_df.time, bins=100)\n",
        "plt.show()"
      ],
      "metadata": {
        "colab": {
          "base_uri": "https://localhost:8080/",
          "height": 264
        },
        "id": "Ka_eFb0r9Mf1",
        "outputId": "e6597c47-d34f-4541-a662-fa750ed83765"
      },
      "execution_count": 992,
      "outputs": [
        {
          "output_type": "display_data",
          "data": {
            "image/png": "[encoded data removed]",
            "text/plain": [
              "<Figure size 432x288 with 1 Axes>"
            ]
          },
          "metadata": {
            "needs_background": "light"
          }
        }
      ]
    },
    {
      "cell_type": "markdown",
      "source": [
        "###dir_prev_bfnum"
      ],
      "metadata": {
        "id": "C8SEnxeH9Mjr"
      }
    },
    {
      "cell_type": "code",
      "source": [
        "plt.hist(all_df.dir_prev_bfnum, bins=100)\n",
        "plt.show()"
      ],
      "metadata": {
        "colab": {
          "base_uri": "https://localhost:8080/",
          "height": 264
        },
        "id": "C71ZBqtX-OJA",
        "outputId": "9b27e931-87f0-4979-ff5d-20f2f422806e"
      },
      "execution_count": 993,
      "outputs": [
        {
          "output_type": "display_data",
          "data": {
            "image/png": "[encoded data removed]",
            "text/plain": [
              "<Figure size 432x288 with 1 Axes>"
            ]
          },
          "metadata": {
            "needs_background": "light"
          }
        }
      ]
    },
    {
      "cell_type": "markdown",
      "source": [
        "###dir_prev_num"
      ],
      "metadata": {
        "id": "sKWj-r539Mmc"
      }
    },
    {
      "cell_type": "code",
      "source": [
        "plt.hist(all_df.dir_prev_num, bins=100)\n",
        "plt.show()"
      ],
      "metadata": {
        "colab": {
          "base_uri": "https://localhost:8080/",
          "height": 264
        },
        "id": "gJBOUz5L-Ofv",
        "outputId": "abc52b32-1441-40ba-8349-72a15a0920d0"
      },
      "execution_count": 994,
      "outputs": [
        {
          "output_type": "display_data",
          "data": {
            "image/png": "[encoded data removed]",
            "text/plain": [
              "<Figure size 432x288 with 1 Axes>"
            ]
          },
          "metadata": {
            "needs_background": "light"
          }
        }
      ]
    },
    {
      "cell_type": "markdown",
      "source": [
        "###num_staff"
      ],
      "metadata": {
        "id": "OtSIoY8a9Mol"
      }
    },
    {
      "cell_type": "code",
      "source": [
        "plt.hist(all_df.num_staff, bins=100)\n",
        "plt.show()"
      ],
      "metadata": {
        "colab": {
          "base_uri": "https://localhost:8080/",
          "height": 264
        },
        "id": "JUnGzb1i-Pao",
        "outputId": "5660004d-d6bf-4b54-e6e7-0da320481a87"
      },
      "execution_count": 995,
      "outputs": [
        {
          "output_type": "display_data",
          "data": {
            "image/png": "[encoded data removed]",
            "text/plain": [
              "<Figure size 432x288 with 1 Axes>"
            ]
          },
          "metadata": {
            "needs_background": "light"
          }
        }
      ]
    },
    {
      "cell_type": "markdown",
      "source": [
        "###num_actor"
      ],
      "metadata": {
        "id": "EJhaIyCH-E2J"
      }
    },
    {
      "cell_type": "code",
      "source": [
        "plt.hist(all_df.num_actor, bins=100)\n",
        "plt.show()"
      ],
      "metadata": {
        "colab": {
          "base_uri": "https://localhost:8080/",
          "height": 264
        },
        "id": "jrO3Te2U-E-e",
        "outputId": "c88b94aa-de4f-4be4-c935-132508228255"
      },
      "execution_count": 996,
      "outputs": [
        {
          "output_type": "display_data",
          "data": {
            "image/png": "[encoded data removed]",
            "text/plain": [
              "<Figure size 432x288 with 1 Axes>"
            ]
          },
          "metadata": {
            "needs_background": "light"
          }
        }
      ]
    },
    {
      "cell_type": "markdown",
      "source": [
        "###box_off_num"
      ],
      "metadata": {
        "id": "NqAN7fz7__5_"
      }
    },
    {
      "cell_type": "code",
      "source": [
        "plt.hist(all_df.box_off_num, bins=100)\n",
        "plt.show()"
      ],
      "metadata": {
        "colab": {
          "base_uri": "https://localhost:8080/",
          "height": 264
        },
        "outputId": "42857dc3-4e57-4963-d284-2787f0332fd5",
        "id": "FJ_3K7_r__5_"
      },
      "execution_count": 997,
      "outputs": [
        {
          "output_type": "display_data",
          "data": {
            "image/png": "[encoded data removed]",
            "text/plain": [
              "<Figure size 432x288 with 1 Axes>"
            ]
          },
          "metadata": {
            "needs_background": "light"
          }
        }
      ]
    },
    {
      "cell_type": "markdown",
      "source": [
        "##train, test, submission 데이터 분리"
      ],
      "metadata": {
        "id": "3FpUYgUq1M5z"
      }
    },
    {
      "cell_type": "code",
      "source": [
        "train_df = all_df[0:500]\n",
        "test_df = all_df[500:600]\n",
        "submission_df = all_df[600:]\n",
        "\n",
        "print(len(train_df))\n",
        "print(len(test_df))\n",
        "print(len(submission_df))"
      ],
      "metadata": {
        "colab": {
          "base_uri": "https://localhost:8080/"
        },
        "id": "X7TNn8SL1M8o",
        "outputId": "2f7ad563-e1db-4864-fc0c-d474f210cf35"
      },
      "execution_count": 998,
      "outputs": [
        {
          "output_type": "stream",
          "name": "stdout",
          "text": [
            "500\n",
            "100\n",
            "243\n"
          ]
        }
      ]
    },
    {
      "cell_type": "markdown",
      "source": [
        "## x,y로 분리"
      ],
      "metadata": {
        "id": "UfUfIn8G0t8X"
      }
    },
    {
      "cell_type": "code",
      "source": [
        "train_y = train_df.box_off_num.to_numpy()\n",
        "\n",
        "train_x_df= train_df.drop(columns=['box_off_num'])\n",
        "\n",
        "train_x = train_x_df.to_numpy()\n",
        "\n",
        "print(train_x.shape)\n",
        "print(train_y.shape)"
      ],
      "metadata": {
        "colab": {
          "base_uri": "https://localhost:8080/"
        },
        "id": "3calPJ2B0t_g",
        "outputId": "8bcebb3b-ad13-4d52-901c-646cee48b828"
      },
      "execution_count": 999,
      "outputs": [
        {
          "output_type": "stream",
          "name": "stdout",
          "text": [
            "(500, 5)\n",
            "(500,)\n"
          ]
        }
      ]
    },
    {
      "cell_type": "code",
      "source": [
        "test_y = test_df.box_off_num.to_numpy()\n",
        "\n",
        "test_x_df= test_df.drop(columns=['box_off_num'])\n",
        "\n",
        "test_x = test_x_df.to_numpy()\n",
        "\n",
        "print(test_x.shape)\n",
        "print(test_y.shape)"
      ],
      "metadata": {
        "colab": {
          "base_uri": "https://localhost:8080/"
        },
        "id": "u5J12P2s0uGI",
        "outputId": "f2943783-075a-4c0c-c2be-5daecefba0d6"
      },
      "execution_count": 1000,
      "outputs": [
        {
          "output_type": "stream",
          "name": "stdout",
          "text": [
            "(100, 5)\n",
            "(100,)\n"
          ]
        }
      ]
    },
    {
      "cell_type": "code",
      "source": [
        "submission_x_df= submission_df.drop(columns=['box_off_num'])\n",
        "submission_x = submission_x_df.to_numpy()\n",
        "print(submission_x.shape)"
      ],
      "metadata": {
        "colab": {
          "base_uri": "https://localhost:8080/"
        },
        "id": "vPui78qA0uJn",
        "outputId": "212ecf6e-aa08-4fed-98e7-4b8b3fed2215"
      },
      "execution_count": 1001,
      "outputs": [
        {
          "output_type": "stream",
          "name": "stdout",
          "text": [
            "(243, 5)\n"
          ]
        }
      ]
    },
    {
      "cell_type": "code",
      "source": [
        ""
      ],
      "metadata": {
        "id": "8NIjqKTuhibg"
      },
      "execution_count": 1001,
      "outputs": []
    },
    {
      "cell_type": "markdown",
      "source": [
        "##딥러닝 학습"
      ],
      "metadata": {
        "id": "DIdX8oNR6QbL"
      }
    },
    {
      "cell_type": "code",
      "source": [
        "import numpy as np\n",
        "import pandas as pd\n",
        "import matplotlib.pyplot as plt\n",
        "\n",
        "import tensorflow as tf\n",
        "\n",
        "from tensorflow import keras\n",
        "from tensorflow.keras import optimizers\n",
        "from tensorflow.keras.layers import Dense\n",
        "\n",
        "model = keras.Sequential()\n",
        "model.add(Dense(10, activation='relu', input_shape=(5,)))\n",
        "model.add(Dense(10, activation='relu'))\n",
        "model.add(Dense(1))\n",
        "\n",
        "model.compile(optimizer=\"SGD\", loss=\"mse\", metrics=[\"mape\"])\n",
        "model.summary()\n",
        "\n",
        "history = model.fit(train_x, train_y, epochs=10, verbose=0, batch_size=128, validation_split=0.1)\n",
        "\n",
        "plt.plot(history.history['loss'])\n",
        "plt.plot(history.history['val_loss'])\n",
        "plt.show()\n",
        "\n",
        "\n",
        "\n",
        "loss, mape = model.evaluate(test_x, test_y)\n",
        "print(\"loss=\", loss)\n",
        "print(\"mape=\", mape)\n",
        "\n",
        "y_ = model.predict(test_x)\n",
        "\n",
        "plt.scatter(test_y, y_)\n",
        "plt.show()"
      ],
      "metadata": {
        "colab": {
          "base_uri": "https://localhost:8080/",
          "height": 845
        },
        "id": "qndcWaDH6QeC",
        "outputId": "9f9c315c-477a-41bb-a2e6-8119f906cd4e"
      },
      "execution_count": 1002,
      "outputs": [
        {
          "output_type": "stream",
          "name": "stdout",
          "text": [
            "Model: \"sequential_34\"\n",
            "_________________________________________________________________\n",
            " Layer (type)                Output Shape              Param #   \n",
            "=================================================================\n",
            " dense_96 (Dense)            (None, 10)                60        \n",
            "                                                                 \n",
            " dense_97 (Dense)            (None, 10)                110       \n",
            "                                                                 \n",
            " dense_98 (Dense)            (None, 1)                 11        \n",
            "                                                                 \n",
            "=================================================================\n",
            "Total params: 181\n",
            "Trainable params: 181\n",
            "Non-trainable params: 0\n",
            "_________________________________________________________________\n"
          ]
        },
        {
          "output_type": "display_data",
          "data": {
            "image/png": "[encoded data removed]",
            "text/plain": [
              "<Figure size 432x288 with 1 Axes>"
            ]
          },
          "metadata": {
            "needs_background": "light"
          }
        },
        {
          "output_type": "stream",
          "name": "stdout",
          "text": [
            "4/4 [==============================] - 0s 2ms/step - loss: 0.0289 - mape: 24.6586\n",
            "loss= 0.02893628366291523\n",
            "mape= 24.658611297607422\n"
          ]
        },
        {
          "output_type": "display_data",
          "data": {
            "image/png": "[encoded data removed]",
            "text/plain": [
              "<Figure size 432x288 with 1 Axes>"
            ]
          },
          "metadata": {
            "needs_background": "light"
          }
        }
      ]
    },
    {
      "cell_type": "markdown",
      "source": [
        "#RMSE 계산하기"
      ],
      "metadata": {
        "id": "04slbk5Phog_"
      }
    },
    {
      "cell_type": "code",
      "source": [
        "from tensorflow.keras.metrics import RootMeanSquaredError\n",
        "\n",
        "predicted = y_ * ( y_max - y_min) + y_min\n",
        "predicted = np.exp(predicted) - 1.\n",
        "\n",
        "org_test_y = test_y * ( y_max - y_min) + y_min\n",
        "org_test_y = np.exp(org_test_y) - 1.\n",
        "\n",
        "\n",
        "rmse = RootMeanSquaredError()(org_test_y, predicted)\n",
        "print(\"rmse = \", rmse)\n",
        "\n",
        "plt.hist(predicted, bins=100)\n",
        "plt.show()\n",
        "plt.hist(org_test_y, bins=100)\n",
        "plt.show()  \n"
      ],
      "metadata": {
        "colab": {
          "base_uri": "https://localhost:8080/",
          "height": 560
        },
        "id": "-c106JnqhtC3",
        "outputId": "3787f237-60cc-4827-d73d-8dc381cfed9b"
      },
      "execution_count": 1003,
      "outputs": [
        {
          "output_type": "stream",
          "name": "stdout",
          "text": [
            "rmse =  tf.Tensor(1870476.4, shape=(), dtype=float32)\n"
          ]
        },
        {
          "output_type": "display_data",
          "data": {
            "image/png": "[encoded data removed]",
            "text/plain": [
              "<Figure size 432x288 with 1 Axes>"
            ]
          },
          "metadata": {
            "needs_background": "light"
          }
        },
        {
          "output_type": "display_data",
          "data": {
            "image/png": "[encoded data removed]",
            "text/plain": [
              "<Figure size 432x288 with 1 Axes>"
            ]
          },
          "metadata": {
            "needs_background": "light"
          }
        }
      ]
    },
    {
      "cell_type": "markdown",
      "source": [
        "#예측하기"
      ],
      "metadata": {
        "id": "w3ftUjYq6Qg6"
      }
    },
    {
      "cell_type": "code",
      "source": [
        "predicted = model.predict(submission_x)"
      ],
      "metadata": {
        "id": "f6I09QmZ010y"
      },
      "execution_count": 1004,
      "outputs": []
    },
    {
      "cell_type": "code",
      "source": [
        "plt.hist(predicted, bins=100)\n",
        "plt.show()"
      ],
      "metadata": {
        "colab": {
          "base_uri": "https://localhost:8080/",
          "height": 264
        },
        "id": "-CNLNSSHddk9",
        "outputId": "11964418-75f6-4aa9-9fe2-58a2fac86796"
      },
      "execution_count": 1005,
      "outputs": [
        {
          "output_type": "display_data",
          "data": {
            "image/png": "[encoded data removed]",
            "text/plain": [
              "<Figure size 432x288 with 1 Axes>"
            ]
          },
          "metadata": {
            "needs_background": "light"
          }
        }
      ]
    },
    {
      "cell_type": "markdown",
      "source": [
        "normalized = (t-min) / (max-min)\n",
        "\n",
        "t-min = mormalized*(min-max)\n",
        "\n",
        "t=normalized*(max-min)+min"
      ],
      "metadata": {
        "id": "nHFfbowEd3CL"
      }
    },
    {
      "cell_type": "code",
      "source": [
        "predicted = predicted * (y_max - y_min) + y_min"
      ],
      "metadata": {
        "id": "18dpSPCSdlKd"
      },
      "execution_count": 1006,
      "outputs": []
    },
    {
      "cell_type": "code",
      "source": [
        "plt.hist(predicted, bins=100)\n",
        "plt.show()"
      ],
      "metadata": {
        "colab": {
          "base_uri": "https://localhost:8080/",
          "height": 264
        },
        "id": "7S8osVrpdlNE",
        "outputId": "1bdc8b7f-380e-4437-c91a-34532f815df3"
      },
      "execution_count": 1007,
      "outputs": [
        {
          "output_type": "display_data",
          "data": {
            "image/png": "[encoded data removed]",
            "text/plain": [
              "<Figure size 432x288 with 1 Axes>"
            ]
          },
          "metadata": {
            "needs_background": "light"
          }
        }
      ]
    },
    {
      "cell_type": "code",
      "source": [
        "predicted = np.exp(predicted) - 1"
      ],
      "metadata": {
        "id": "IyHGdnTbdlP_"
      },
      "execution_count": 1008,
      "outputs": []
    },
    {
      "cell_type": "code",
      "source": [
        "plt.hist(predicted, bins=100)\n",
        "plt.show()"
      ],
      "metadata": {
        "colab": {
          "base_uri": "https://localhost:8080/",
          "height": 277
        },
        "id": "9oXc5A-wdlSU",
        "outputId": "29c6ce2e-8672-4af8-d071-ae0cb72d907e"
      },
      "execution_count": 1009,
      "outputs": [
        {
          "output_type": "display_data",
          "data": {
            "image/png": "[encoded data removed]",
            "text/plain": [
              "<Figure size 432x288 with 1 Axes>"
            ]
          },
          "metadata": {
            "needs_background": "light"
          }
        }
      ]
    },
    {
      "cell_type": "markdown",
      "source": [
        "#submisssion 파일 만들기"
      ],
      "metadata": {
        "id": "C3eFDDZidlU0"
      }
    },
    {
      "cell_type": "code",
      "source": [
        "!head submission.csv"
      ],
      "metadata": {
        "colab": {
          "base_uri": "https://localhost:8080/"
        },
        "id": "M9YisSXoexs7",
        "outputId": "70dda7ba-e41f-4893-ff40-eb66cfa3d840"
      },
      "execution_count": 1010,
      "outputs": [
        {
          "output_type": "stream",
          "name": "stdout",
          "text": [
            "title,box_off_num\n",
            "용서는 없다,106013\n",
            "아빠가 여자를 좋아해,850550\n",
            "하모니,540355\n",
            "의형제,6048391\n",
            "평행 이론,2958844\n",
            "회오리 바람,23035\n",
            "경계도시 2,1334\n",
            "이웃집 남자,4112\n",
            "아마존의 눈물 극장판,8449\n"
          ]
        }
      ]
    },
    {
      "cell_type": "code",
      "source": [
        "submission_df= pd.read_csv('movies_test.csv')"
      ],
      "metadata": {
        "id": "uIMGgdGJfcXB"
      },
      "execution_count": 1011,
      "outputs": []
    },
    {
      "cell_type": "code",
      "source": [
        "final_df = pd.DataFrame(submission_df.title)\n",
        "final_df.head()"
      ],
      "metadata": {
        "colab": {
          "base_uri": "https://localhost:8080/",
          "height": 206
        },
        "id": "skrIkgb_fASM",
        "outputId": "93f286aa-f932-4ba7-d1c1-ce6f108392d8"
      },
      "execution_count": 1012,
      "outputs": [
        {
          "output_type": "execute_result",
          "data": {
            "text/html": [
              "\n",
              "  <div id=\"df-5f347646-fa72-4643-a012-dc15e3e01392\">\n",
              "    <div class=\"colab-df-container\">\n",
              "      <div>\n",
              "<style scoped>\n",
              "    .dataframe tbody tr th:only-of-type {\n",
              "        vertical-align: middle;\n",
              "    }\n",
              "\n",
              "    .dataframe tbody tr th {\n",
              "        vertical-align: top;\n",
              "    }\n",
              "\n",
              "    .dataframe thead th {\n",
              "        text-align: right;\n",
              "    }\n",
              "</style>\n",
              "<table border=\"1\" class=\"dataframe\">\n",
              "  <thead>\n",
              "    <tr style=\"text-align: right;\">\n",
              "      <th></th>\n",
              "      <th>title</th>\n",
              "    </tr>\n",
              "  </thead>\n",
              "  <tbody>\n",
              "    <tr>\n",
              "      <th>0</th>\n",
              "      <td>용서는 없다</td>\n",
              "    </tr>\n",
              "    <tr>\n",
              "      <th>1</th>\n",
              "      <td>아빠가 여자를 좋아해</td>\n",
              "    </tr>\n",
              "    <tr>\n",
              "      <th>2</th>\n",
              "      <td>하모니</td>\n",
              "    </tr>\n",
              "    <tr>\n",
              "      <th>3</th>\n",
              "      <td>의형제</td>\n",
              "    </tr>\n",
              "    <tr>\n",
              "      <th>4</th>\n",
              "      <td>평행 이론</td>\n",
              "    </tr>\n",
              "  </tbody>\n",
              "</table>\n",
              "</div>\n",
              "      <button class=\"colab-df-convert\" onclick=\"convertToInteractive('df-5f347646-fa72-4643-a012-dc15e3e01392')\"\n",
              "              title=\"Convert this dataframe to an interactive table.\"\n",
              "              style=\"display:none;\">\n",
              "        \n",
              "  <svg xmlns=\"http://www.w3.org/2000/svg\" height=\"24px\"viewBox=\"0 0 24 24\"\n",
              "       width=\"24px\">\n",
              "    <path d=\"M0 0h24v24H0V0z\" fill=\"none\"/>\n",
              "    <path d=\"M18.56 5.44l.94 2.06.94-2.06 2.06-.94-2.06-.94-.94-2.06-.94 2.06-2.06.94zm-11 1L8.5 8.5l.94-2.06 2.06-.94-2.06-.94L8.5 2.5l-.94 2.06-2.06.94zm10 10l.94 2.06.94-2.06 2.06-.94-2.06-.94-.94-2.06-.94 2.06-2.06.94z\"/><path d=\"M17.41 7.96l-1.37-1.37c-.4-.4-.92-.59-1.43-.59-.52 0-1.04.2-1.43.59L10.3 9.45l-7.72 7.72c-.78.78-.78 2.05 0 2.83L4 21.41c.39.39.9.59 1.41.59.51 0 1.02-.2 1.41-.59l7.78-7.78 2.81-2.81c.8-.78.8-2.07 0-2.86zM5.41 20L4 18.59l7.72-7.72 1.47 1.35L5.41 20z\"/>\n",
              "  </svg>\n",
              "      </button>\n",
              "      \n",
              "  <style>\n",
              "    .colab-df-container {\n",
              "      display:flex;\n",
              "      flex-wrap:wrap;\n",
              "      gap: 12px;\n",
              "    }\n",
              "\n",
              "    .colab-df-convert {\n",
              "      background-color: #E8F0FE;\n",
              "      border: none;\n",
              "      border-radius: 50%;\n",
              "      cursor: pointer;\n",
              "      display: none;\n",
              "      fill: #1967D2;\n",
              "      height: 32px;\n",
              "      padding: 0 0 0 0;\n",
              "      width: 32px;\n",
              "    }\n",
              "\n",
              "    .colab-df-convert:hover {\n",
              "      background-color: #E2EBFA;\n",
              "      box-shadow: 0px 1px 2px rgba(60, 64, 67, 0.3), 0px 1px 3px 1px rgba(60, 64, 67, 0.15);\n",
              "      fill: #174EA6;\n",
              "    }\n",
              "\n",
              "    [theme=dark] .colab-df-convert {\n",
              "      background-color: #3B4455;\n",
              "      fill: #D2E3FC;\n",
              "    }\n",
              "\n",
              "    [theme=dark] .colab-df-convert:hover {\n",
              "      background-color: #434B5C;\n",
              "      box-shadow: 0px 1px 3px 1px rgba(0, 0, 0, 0.15);\n",
              "      filter: drop-shadow(0px 1px 2px rgba(0, 0, 0, 0.3));\n",
              "      fill: #FFFFFF;\n",
              "    }\n",
              "  </style>\n",
              "\n",
              "      <script>\n",
              "        const buttonEl =\n",
              "          document.querySelector('#df-5f347646-fa72-4643-a012-dc15e3e01392 button.colab-df-convert');\n",
              "        buttonEl.style.display =\n",
              "          google.colab.kernel.accessAllowed ? 'block' : 'none';\n",
              "\n",
              "        async function convertToInteractive(key) {\n",
              "          const element = document.querySelector('#df-5f347646-fa72-4643-a012-dc15e3e01392');\n",
              "          const dataTable =\n",
              "            await google.colab.kernel.invokeFunction('convertToInteractive',\n",
              "                                                     [key], {});\n",
              "          if (!dataTable) return;\n",
              "\n",
              "          const docLinkHtml = 'Like what you see? Visit the ' +\n",
              "            '<a target=\"_blank\" href=https://colab.research.google.com/notebooks/data_table.ipynb>data table notebook</a>'\n",
              "            + ' to learn more about interactive tables.';\n",
              "          element.innerHTML = '';\n",
              "          dataTable['output_type'] = 'display_data';\n",
              "          await google.colab.output.renderOutput(dataTable, element);\n",
              "          const docLink = document.createElement('div');\n",
              "          docLink.innerHTML = docLinkHtml;\n",
              "          element.appendChild(docLink);\n",
              "        }\n",
              "      </script>\n",
              "    </div>\n",
              "  </div>\n",
              "  "
            ],
            "text/plain": [
              "         title\n",
              "0       용서는 없다\n",
              "1  아빠가 여자를 좋아해\n",
              "2          하모니\n",
              "3          의형제\n",
              "4        평행 이론"
            ]
          },
          "metadata": {},
          "execution_count": 1012
        }
      ]
    },
    {
      "cell_type": "code",
      "source": [
        "final_df['box_off_num'] = predicted.astype(np.int)\n",
        "final_df.head()"
      ],
      "metadata": {
        "colab": {
          "base_uri": "https://localhost:8080/",
          "height": 206
        },
        "id": "dYUU-bKqfAV1",
        "outputId": "e8ef44f6-a7cb-48f6-c848-67a03734902f"
      },
      "execution_count": 1013,
      "outputs": [
        {
          "output_type": "execute_result",
          "data": {
            "text/html": [
              "\n",
              "  <div id=\"df-b8d9e2b9-4dfc-4a25-98af-8604f92a4ed6\">\n",
              "    <div class=\"colab-df-container\">\n",
              "      <div>\n",
              "<style scoped>\n",
              "    .dataframe tbody tr th:only-of-type {\n",
              "        vertical-align: middle;\n",
              "    }\n",
              "\n",
              "    .dataframe tbody tr th {\n",
              "        vertical-align: top;\n",
              "    }\n",
              "\n",
              "    .dataframe thead th {\n",
              "        text-align: right;\n",
              "    }\n",
              "</style>\n",
              "<table border=\"1\" class=\"dataframe\">\n",
              "  <thead>\n",
              "    <tr style=\"text-align: right;\">\n",
              "      <th></th>\n",
              "      <th>title</th>\n",
              "      <th>box_off_num</th>\n",
              "    </tr>\n",
              "  </thead>\n",
              "  <tbody>\n",
              "    <tr>\n",
              "      <th>0</th>\n",
              "      <td>용서는 없다</td>\n",
              "      <td>161296</td>\n",
              "    </tr>\n",
              "    <tr>\n",
              "      <th>1</th>\n",
              "      <td>아빠가 여자를 좋아해</td>\n",
              "      <td>32093</td>\n",
              "    </tr>\n",
              "    <tr>\n",
              "      <th>2</th>\n",
              "      <td>하모니</td>\n",
              "      <td>1246616</td>\n",
              "    </tr>\n",
              "    <tr>\n",
              "      <th>3</th>\n",
              "      <td>의형제</td>\n",
              "      <td>393784</td>\n",
              "    </tr>\n",
              "    <tr>\n",
              "      <th>4</th>\n",
              "      <td>평행 이론</td>\n",
              "      <td>424880</td>\n",
              "    </tr>\n",
              "  </tbody>\n",
              "</table>\n",
              "</div>\n",
              "      <button class=\"colab-df-convert\" onclick=\"convertToInteractive('df-b8d9e2b9-4dfc-4a25-98af-8604f92a4ed6')\"\n",
              "              title=\"Convert this dataframe to an interactive table.\"\n",
              "              style=\"display:none;\">\n",
              "        \n",
              "  <svg xmlns=\"http://www.w3.org/2000/svg\" height=\"24px\"viewBox=\"0 0 24 24\"\n",
              "       width=\"24px\">\n",
              "    <path d=\"M0 0h24v24H0V0z\" fill=\"none\"/>\n",
              "    <path d=\"M18.56 5.44l.94 2.06.94-2.06 2.06-.94-2.06-.94-.94-2.06-.94 2.06-2.06.94zm-11 1L8.5 8.5l.94-2.06 2.06-.94-2.06-.94L8.5 2.5l-.94 2.06-2.06.94zm10 10l.94 2.06.94-2.06 2.06-.94-2.06-.94-.94-2.06-.94 2.06-2.06.94z\"/><path d=\"M17.41 7.96l-1.37-1.37c-.4-.4-.92-.59-1.43-.59-.52 0-1.04.2-1.43.59L10.3 9.45l-7.72 7.72c-.78.78-.78 2.05 0 2.83L4 21.41c.39.39.9.59 1.41.59.51 0 1.02-.2 1.41-.59l7.78-7.78 2.81-2.81c.8-.78.8-2.07 0-2.86zM5.41 20L4 18.59l7.72-7.72 1.47 1.35L5.41 20z\"/>\n",
              "  </svg>\n",
              "      </button>\n",
              "      \n",
              "  <style>\n",
              "    .colab-df-container {\n",
              "      display:flex;\n",
              "      flex-wrap:wrap;\n",
              "      gap: 12px;\n",
              "    }\n",
              "\n",
              "    .colab-df-convert {\n",
              "      background-color: #E8F0FE;\n",
              "      border: none;\n",
              "      border-radius: 50%;\n",
              "      cursor: pointer;\n",
              "      display: none;\n",
              "      fill: #1967D2;\n",
              "      height: 32px;\n",
              "      padding: 0 0 0 0;\n",
              "      width: 32px;\n",
              "    }\n",
              "\n",
              "    .colab-df-convert:hover {\n",
              "      background-color: #E2EBFA;\n",
              "      box-shadow: 0px 1px 2px rgba(60, 64, 67, 0.3), 0px 1px 3px 1px rgba(60, 64, 67, 0.15);\n",
              "      fill: #174EA6;\n",
              "    }\n",
              "\n",
              "    [theme=dark] .colab-df-convert {\n",
              "      background-color: #3B4455;\n",
              "      fill: #D2E3FC;\n",
              "    }\n",
              "\n",
              "    [theme=dark] .colab-df-convert:hover {\n",
              "      background-color: #434B5C;\n",
              "      box-shadow: 0px 1px 3px 1px rgba(0, 0, 0, 0.15);\n",
              "      filter: drop-shadow(0px 1px 2px rgba(0, 0, 0, 0.3));\n",
              "      fill: #FFFFFF;\n",
              "    }\n",
              "  </style>\n",
              "\n",
              "      <script>\n",
              "        const buttonEl =\n",
              "          document.querySelector('#df-b8d9e2b9-4dfc-4a25-98af-8604f92a4ed6 button.colab-df-convert');\n",
              "        buttonEl.style.display =\n",
              "          google.colab.kernel.accessAllowed ? 'block' : 'none';\n",
              "\n",
              "        async function convertToInteractive(key) {\n",
              "          const element = document.querySelector('#df-b8d9e2b9-4dfc-4a25-98af-8604f92a4ed6');\n",
              "          const dataTable =\n",
              "            await google.colab.kernel.invokeFunction('convertToInteractive',\n",
              "                                                     [key], {});\n",
              "          if (!dataTable) return;\n",
              "\n",
              "          const docLinkHtml = 'Like what you see? Visit the ' +\n",
              "            '<a target=\"_blank\" href=https://colab.research.google.com/notebooks/data_table.ipynb>data table notebook</a>'\n",
              "            + ' to learn more about interactive tables.';\n",
              "          element.innerHTML = '';\n",
              "          dataTable['output_type'] = 'display_data';\n",
              "          await google.colab.output.renderOutput(dataTable, element);\n",
              "          const docLink = document.createElement('div');\n",
              "          docLink.innerHTML = docLinkHtml;\n",
              "          element.appendChild(docLink);\n",
              "        }\n",
              "      </script>\n",
              "    </div>\n",
              "  </div>\n",
              "  "
            ],
            "text/plain": [
              "         title  box_off_num\n",
              "0       용서는 없다       161296\n",
              "1  아빠가 여자를 좋아해        32093\n",
              "2          하모니      1246616\n",
              "3          의형제       393784\n",
              "4        평행 이론       424880"
            ]
          },
          "metadata": {},
          "execution_count": 1013
        }
      ]
    },
    {
      "cell_type": "code",
      "source": [
        "final_df.to_csv(\"submission.csv\", index=False)"
      ],
      "metadata": {
        "id": "vgsRmo2OfAaV"
      },
      "execution_count": 1014,
      "outputs": []
    },
    {
      "cell_type": "code",
      "source": [
        "!head submission.csv"
      ],
      "metadata": {
        "colab": {
          "base_uri": "https://localhost:8080/"
        },
        "id": "C0bVrNSGgUKG",
        "outputId": "464d0692-2d5d-4d45-9b01-7d069d9c10e6"
      },
      "execution_count": 1015,
      "outputs": [
        {
          "output_type": "stream",
          "name": "stdout",
          "text": [
            "title,box_off_num\n",
            "용서는 없다,161296\n",
            "아빠가 여자를 좋아해,32093\n",
            "하모니,1246616\n",
            "의형제,393784\n",
            "평행 이론,424880\n",
            "회오리 바람,24700\n",
            "경계도시 2,271\n",
            "이웃집 남자,27561\n",
            "아마존의 눈물 극장판,9343\n"
          ]
        }
      ]
    },
    {
      "cell_type": "code",
      "source": [
        ""
      ],
      "metadata": {
        "id": "jduYpkoqrWdq"
      },
      "execution_count": 1015,
      "outputs": []
    },
    {
      "cell_type": "markdown",
      "source": [
        "# 두번째 시도\n",
        "\n",
        "카테고리 데이터도 사용하자."
      ],
      "metadata": {
        "id": "9E1gHJ9DrYQt"
      }
    },
    {
      "cell_type": "code",
      "source": [
        ""
      ],
      "metadata": {
        "id": "_YINPStIxQJ9"
      },
      "execution_count": 1015,
      "outputs": []
    },
    {
      "cell_type": "markdown",
      "source": [
        "##데이터 읽기"
      ],
      "metadata": {
        "id": "WXm8o-bIrYQt"
      }
    },
    {
      "cell_type": "code",
      "source": [
        "train_df = pd.read_csv('movies_train.csv')\n",
        "train_df.head()"
      ],
      "metadata": {
        "colab": {
          "base_uri": "https://localhost:8080/",
          "height": 206
        },
        "outputId": "97fef335-909f-4907-dea6-ba183b40b8fd",
        "id": "_giCnDIsrYQt"
      },
      "execution_count": 1016,
      "outputs": [
        {
          "output_type": "execute_result",
          "data": {
            "text/html": [
              "\n",
              "  <div id=\"df-86059f37-2ea4-4d2f-bab2-0ec6e5e7a443\">\n",
              "    <div class=\"colab-df-container\">\n",
              "      <div>\n",
              "<style scoped>\n",
              "    .dataframe tbody tr th:only-of-type {\n",
              "        vertical-align: middle;\n",
              "    }\n",
              "\n",
              "    .dataframe tbody tr th {\n",
              "        vertical-align: top;\n",
              "    }\n",
              "\n",
              "    .dataframe thead th {\n",
              "        text-align: right;\n",
              "    }\n",
              "</style>\n",
              "<table border=\"1\" class=\"dataframe\">\n",
              "  <thead>\n",
              "    <tr style=\"text-align: right;\">\n",
              "      <th></th>\n",
              "      <th>title</th>\n",
              "      <th>distributor</th>\n",
              "      <th>genre</th>\n",
              "      <th>release_time</th>\n",
              "      <th>time</th>\n",
              "      <th>screening_rat</th>\n",
              "      <th>director</th>\n",
              "      <th>dir_prev_bfnum</th>\n",
              "      <th>dir_prev_num</th>\n",
              "      <th>num_staff</th>\n",
              "      <th>num_actor</th>\n",
              "      <th>box_off_num</th>\n",
              "    </tr>\n",
              "  </thead>\n",
              "  <tbody>\n",
              "    <tr>\n",
              "      <th>0</th>\n",
              "      <td>개들의 전쟁</td>\n",
              "      <td>롯데엔터테인먼트</td>\n",
              "      <td>액션</td>\n",
              "      <td>2012-11-22</td>\n",
              "      <td>96</td>\n",
              "      <td>청소년 관람불가</td>\n",
              "      <td>조병옥</td>\n",
              "      <td>NaN</td>\n",
              "      <td>0</td>\n",
              "      <td>91</td>\n",
              "      <td>2</td>\n",
              "      <td>23398</td>\n",
              "    </tr>\n",
              "    <tr>\n",
              "      <th>1</th>\n",
              "      <td>내부자들</td>\n",
              "      <td>(주)쇼박스</td>\n",
              "      <td>느와르</td>\n",
              "      <td>2015-11-19</td>\n",
              "      <td>130</td>\n",
              "      <td>청소년 관람불가</td>\n",
              "      <td>우민호</td>\n",
              "      <td>1161602.50</td>\n",
              "      <td>2</td>\n",
              "      <td>387</td>\n",
              "      <td>3</td>\n",
              "      <td>7072501</td>\n",
              "    </tr>\n",
              "    <tr>\n",
              "      <th>2</th>\n",
              "      <td>은밀하게 위대하게</td>\n",
              "      <td>(주)쇼박스</td>\n",
              "      <td>액션</td>\n",
              "      <td>2013-06-05</td>\n",
              "      <td>123</td>\n",
              "      <td>15세 관람가</td>\n",
              "      <td>장철수</td>\n",
              "      <td>220775.25</td>\n",
              "      <td>4</td>\n",
              "      <td>343</td>\n",
              "      <td>4</td>\n",
              "      <td>6959083</td>\n",
              "    </tr>\n",
              "    <tr>\n",
              "      <th>3</th>\n",
              "      <td>나는 공무원이다</td>\n",
              "      <td>(주)NEW</td>\n",
              "      <td>코미디</td>\n",
              "      <td>2012-07-12</td>\n",
              "      <td>101</td>\n",
              "      <td>전체 관람가</td>\n",
              "      <td>구자홍</td>\n",
              "      <td>23894.00</td>\n",
              "      <td>2</td>\n",
              "      <td>20</td>\n",
              "      <td>6</td>\n",
              "      <td>217866</td>\n",
              "    </tr>\n",
              "    <tr>\n",
              "      <th>4</th>\n",
              "      <td>불량남녀</td>\n",
              "      <td>쇼박스(주)미디어플렉스</td>\n",
              "      <td>코미디</td>\n",
              "      <td>2010-11-04</td>\n",
              "      <td>108</td>\n",
              "      <td>15세 관람가</td>\n",
              "      <td>신근호</td>\n",
              "      <td>1.00</td>\n",
              "      <td>1</td>\n",
              "      <td>251</td>\n",
              "      <td>2</td>\n",
              "      <td>483387</td>\n",
              "    </tr>\n",
              "  </tbody>\n",
              "</table>\n",
              "</div>\n",
              "      <button class=\"colab-df-convert\" onclick=\"convertToInteractive('df-86059f37-2ea4-4d2f-bab2-0ec6e5e7a443')\"\n",
              "              title=\"Convert this dataframe to an interactive table.\"\n",
              "              style=\"display:none;\">\n",
              "        \n",
              "  <svg xmlns=\"http://www.w3.org/2000/svg\" height=\"24px\"viewBox=\"0 0 24 24\"\n",
              "       width=\"24px\">\n",
              "    <path d=\"M0 0h24v24H0V0z\" fill=\"none\"/>\n",
              "    <path d=\"M18.56 5.44l.94 2.06.94-2.06 2.06-.94-2.06-.94-.94-2.06-.94 2.06-2.06.94zm-11 1L8.5 8.5l.94-2.06 2.06-.94-2.06-.94L8.5 2.5l-.94 2.06-2.06.94zm10 10l.94 2.06.94-2.06 2.06-.94-2.06-.94-.94-2.06-.94 2.06-2.06.94z\"/><path d=\"M17.41 7.96l-1.37-1.37c-.4-.4-.92-.59-1.43-.59-.52 0-1.04.2-1.43.59L10.3 9.45l-7.72 7.72c-.78.78-.78 2.05 0 2.83L4 21.41c.39.39.9.59 1.41.59.51 0 1.02-.2 1.41-.59l7.78-7.78 2.81-2.81c.8-.78.8-2.07 0-2.86zM5.41 20L4 18.59l7.72-7.72 1.47 1.35L5.41 20z\"/>\n",
              "  </svg>\n",
              "      </button>\n",
              "      \n",
              "  <style>\n",
              "    .colab-df-container {\n",
              "      display:flex;\n",
              "      flex-wrap:wrap;\n",
              "      gap: 12px;\n",
              "    }\n",
              "\n",
              "    .colab-df-convert {\n",
              "      background-color: #E8F0FE;\n",
              "      border: none;\n",
              "      border-radius: 50%;\n",
              "      cursor: pointer;\n",
              "      display: none;\n",
              "      fill: #1967D2;\n",
              "      height: 32px;\n",
              "      padding: 0 0 0 0;\n",
              "      width: 32px;\n",
              "    }\n",
              "\n",
              "    .colab-df-convert:hover {\n",
              "      background-color: #E2EBFA;\n",
              "      box-shadow: 0px 1px 2px rgba(60, 64, 67, 0.3), 0px 1px 3px 1px rgba(60, 64, 67, 0.15);\n",
              "      fill: #174EA6;\n",
              "    }\n",
              "\n",
              "    [theme=dark] .colab-df-convert {\n",
              "      background-color: #3B4455;\n",
              "      fill: #D2E3FC;\n",
              "    }\n",
              "\n",
              "    [theme=dark] .colab-df-convert:hover {\n",
              "      background-color: #434B5C;\n",
              "      box-shadow: 0px 1px 3px 1px rgba(0, 0, 0, 0.15);\n",
              "      filter: drop-shadow(0px 1px 2px rgba(0, 0, 0, 0.3));\n",
              "      fill: #FFFFFF;\n",
              "    }\n",
              "  </style>\n",
              "\n",
              "      <script>\n",
              "        const buttonEl =\n",
              "          document.querySelector('#df-86059f37-2ea4-4d2f-bab2-0ec6e5e7a443 button.colab-df-convert');\n",
              "        buttonEl.style.display =\n",
              "          google.colab.kernel.accessAllowed ? 'block' : 'none';\n",
              "\n",
              "        async function convertToInteractive(key) {\n",
              "          const element = document.querySelector('#df-86059f37-2ea4-4d2f-bab2-0ec6e5e7a443');\n",
              "          const dataTable =\n",
              "            await google.colab.kernel.invokeFunction('convertToInteractive',\n",
              "                                                     [key], {});\n",
              "          if (!dataTable) return;\n",
              "\n",
              "          const docLinkHtml = 'Like what you see? Visit the ' +\n",
              "            '<a target=\"_blank\" href=https://colab.research.google.com/notebooks/data_table.ipynb>data table notebook</a>'\n",
              "            + ' to learn more about interactive tables.';\n",
              "          element.innerHTML = '';\n",
              "          dataTable['output_type'] = 'display_data';\n",
              "          await google.colab.output.renderOutput(dataTable, element);\n",
              "          const docLink = document.createElement('div');\n",
              "          docLink.innerHTML = docLinkHtml;\n",
              "          element.appendChild(docLink);\n",
              "        }\n",
              "      </script>\n",
              "    </div>\n",
              "  </div>\n",
              "  "
            ],
            "text/plain": [
              "       title   distributor genre  ... num_staff  num_actor box_off_num\n",
              "0     개들의 전쟁      롯데엔터테인먼트    액션  ...        91          2       23398\n",
              "1       내부자들        (주)쇼박스   느와르  ...       387          3     7072501\n",
              "2  은밀하게 위대하게        (주)쇼박스    액션  ...       343          4     6959083\n",
              "3   나는 공무원이다        (주)NEW   코미디  ...        20          6      217866\n",
              "4       불량남녀  쇼박스(주)미디어플렉스   코미디  ...       251          2      483387\n",
              "\n",
              "[5 rows x 12 columns]"
            ]
          },
          "metadata": {},
          "execution_count": 1016
        }
      ]
    },
    {
      "cell_type": "code",
      "source": [
        "submission_df = pd.read_csv('movies_test.csv')\n",
        "submission_df.head()"
      ],
      "metadata": {
        "colab": {
          "base_uri": "https://localhost:8080/",
          "height": 206
        },
        "outputId": "803a4dae-8a9f-4a65-88a0-9f1886293796",
        "id": "RVPGhJmOrYQt"
      },
      "execution_count": 1017,
      "outputs": [
        {
          "output_type": "execute_result",
          "data": {
            "text/html": [
              "\n",
              "  <div id=\"df-de285d4b-7d5e-4455-a6fd-5d82ef23a8b1\">\n",
              "    <div class=\"colab-df-container\">\n",
              "      <div>\n",
              "<style scoped>\n",
              "    .dataframe tbody tr th:only-of-type {\n",
              "        vertical-align: middle;\n",
              "    }\n",
              "\n",
              "    .dataframe tbody tr th {\n",
              "        vertical-align: top;\n",
              "    }\n",
              "\n",
              "    .dataframe thead th {\n",
              "        text-align: right;\n",
              "    }\n",
              "</style>\n",
              "<table border=\"1\" class=\"dataframe\">\n",
              "  <thead>\n",
              "    <tr style=\"text-align: right;\">\n",
              "      <th></th>\n",
              "      <th>title</th>\n",
              "      <th>distributor</th>\n",
              "      <th>genre</th>\n",
              "      <th>release_time</th>\n",
              "      <th>time</th>\n",
              "      <th>screening_rat</th>\n",
              "      <th>director</th>\n",
              "      <th>dir_prev_bfnum</th>\n",
              "      <th>dir_prev_num</th>\n",
              "      <th>num_staff</th>\n",
              "      <th>num_actor</th>\n",
              "    </tr>\n",
              "  </thead>\n",
              "  <tbody>\n",
              "    <tr>\n",
              "      <th>0</th>\n",
              "      <td>용서는 없다</td>\n",
              "      <td>시네마서비스</td>\n",
              "      <td>느와르</td>\n",
              "      <td>2010-01-07</td>\n",
              "      <td>125</td>\n",
              "      <td>청소년 관람불가</td>\n",
              "      <td>김형준</td>\n",
              "      <td>3.005290e+05</td>\n",
              "      <td>2</td>\n",
              "      <td>304</td>\n",
              "      <td>3</td>\n",
              "    </tr>\n",
              "    <tr>\n",
              "      <th>1</th>\n",
              "      <td>아빠가 여자를 좋아해</td>\n",
              "      <td>(주)쇼박스</td>\n",
              "      <td>멜로/로맨스</td>\n",
              "      <td>2010-01-14</td>\n",
              "      <td>113</td>\n",
              "      <td>12세 관람가</td>\n",
              "      <td>이광재</td>\n",
              "      <td>3.427002e+05</td>\n",
              "      <td>4</td>\n",
              "      <td>275</td>\n",
              "      <td>3</td>\n",
              "    </tr>\n",
              "    <tr>\n",
              "      <th>2</th>\n",
              "      <td>하모니</td>\n",
              "      <td>CJ 엔터테인먼트</td>\n",
              "      <td>드라마</td>\n",
              "      <td>2010-01-28</td>\n",
              "      <td>115</td>\n",
              "      <td>12세 관람가</td>\n",
              "      <td>강대규</td>\n",
              "      <td>4.206611e+06</td>\n",
              "      <td>3</td>\n",
              "      <td>419</td>\n",
              "      <td>7</td>\n",
              "    </tr>\n",
              "    <tr>\n",
              "      <th>3</th>\n",
              "      <td>의형제</td>\n",
              "      <td>(주)쇼박스</td>\n",
              "      <td>액션</td>\n",
              "      <td>2010-02-04</td>\n",
              "      <td>116</td>\n",
              "      <td>15세 관람가</td>\n",
              "      <td>장훈</td>\n",
              "      <td>6.913420e+05</td>\n",
              "      <td>2</td>\n",
              "      <td>408</td>\n",
              "      <td>2</td>\n",
              "    </tr>\n",
              "    <tr>\n",
              "      <th>4</th>\n",
              "      <td>평행 이론</td>\n",
              "      <td>CJ 엔터테인먼트</td>\n",
              "      <td>공포</td>\n",
              "      <td>2010-02-18</td>\n",
              "      <td>110</td>\n",
              "      <td>15세 관람가</td>\n",
              "      <td>권호영</td>\n",
              "      <td>3.173800e+04</td>\n",
              "      <td>1</td>\n",
              "      <td>380</td>\n",
              "      <td>1</td>\n",
              "    </tr>\n",
              "  </tbody>\n",
              "</table>\n",
              "</div>\n",
              "      <button class=\"colab-df-convert\" onclick=\"convertToInteractive('df-de285d4b-7d5e-4455-a6fd-5d82ef23a8b1')\"\n",
              "              title=\"Convert this dataframe to an interactive table.\"\n",
              "              style=\"display:none;\">\n",
              "        \n",
              "  <svg xmlns=\"http://www.w3.org/2000/svg\" height=\"24px\"viewBox=\"0 0 24 24\"\n",
              "       width=\"24px\">\n",
              "    <path d=\"M0 0h24v24H0V0z\" fill=\"none\"/>\n",
              "    <path d=\"M18.56 5.44l.94 2.06.94-2.06 2.06-.94-2.06-.94-.94-2.06-.94 2.06-2.06.94zm-11 1L8.5 8.5l.94-2.06 2.06-.94-2.06-.94L8.5 2.5l-.94 2.06-2.06.94zm10 10l.94 2.06.94-2.06 2.06-.94-2.06-.94-.94-2.06-.94 2.06-2.06.94z\"/><path d=\"M17.41 7.96l-1.37-1.37c-.4-.4-.92-.59-1.43-.59-.52 0-1.04.2-1.43.59L10.3 9.45l-7.72 7.72c-.78.78-.78 2.05 0 2.83L4 21.41c.39.39.9.59 1.41.59.51 0 1.02-.2 1.41-.59l7.78-7.78 2.81-2.81c.8-.78.8-2.07 0-2.86zM5.41 20L4 18.59l7.72-7.72 1.47 1.35L5.41 20z\"/>\n",
              "  </svg>\n",
              "      </button>\n",
              "      \n",
              "  <style>\n",
              "    .colab-df-container {\n",
              "      display:flex;\n",
              "      flex-wrap:wrap;\n",
              "      gap: 12px;\n",
              "    }\n",
              "\n",
              "    .colab-df-convert {\n",
              "      background-color: #E8F0FE;\n",
              "      border: none;\n",
              "      border-radius: 50%;\n",
              "      cursor: pointer;\n",
              "      display: none;\n",
              "      fill: #1967D2;\n",
              "      height: 32px;\n",
              "      padding: 0 0 0 0;\n",
              "      width: 32px;\n",
              "    }\n",
              "\n",
              "    .colab-df-convert:hover {\n",
              "      background-color: #E2EBFA;\n",
              "      box-shadow: 0px 1px 2px rgba(60, 64, 67, 0.3), 0px 1px 3px 1px rgba(60, 64, 67, 0.15);\n",
              "      fill: #174EA6;\n",
              "    }\n",
              "\n",
              "    [theme=dark] .colab-df-convert {\n",
              "      background-color: #3B4455;\n",
              "      fill: #D2E3FC;\n",
              "    }\n",
              "\n",
              "    [theme=dark] .colab-df-convert:hover {\n",
              "      background-color: #434B5C;\n",
              "      box-shadow: 0px 1px 3px 1px rgba(0, 0, 0, 0.15);\n",
              "      filter: drop-shadow(0px 1px 2px rgba(0, 0, 0, 0.3));\n",
              "      fill: #FFFFFF;\n",
              "    }\n",
              "  </style>\n",
              "\n",
              "      <script>\n",
              "        const buttonEl =\n",
              "          document.querySelector('#df-de285d4b-7d5e-4455-a6fd-5d82ef23a8b1 button.colab-df-convert');\n",
              "        buttonEl.style.display =\n",
              "          google.colab.kernel.accessAllowed ? 'block' : 'none';\n",
              "\n",
              "        async function convertToInteractive(key) {\n",
              "          const element = document.querySelector('#df-de285d4b-7d5e-4455-a6fd-5d82ef23a8b1');\n",
              "          const dataTable =\n",
              "            await google.colab.kernel.invokeFunction('convertToInteractive',\n",
              "                                                     [key], {});\n",
              "          if (!dataTable) return;\n",
              "\n",
              "          const docLinkHtml = 'Like what you see? Visit the ' +\n",
              "            '<a target=\"_blank\" href=https://colab.research.google.com/notebooks/data_table.ipynb>data table notebook</a>'\n",
              "            + ' to learn more about interactive tables.';\n",
              "          element.innerHTML = '';\n",
              "          dataTable['output_type'] = 'display_data';\n",
              "          await google.colab.output.renderOutput(dataTable, element);\n",
              "          const docLink = document.createElement('div');\n",
              "          docLink.innerHTML = docLinkHtml;\n",
              "          element.appendChild(docLink);\n",
              "        }\n",
              "      </script>\n",
              "    </div>\n",
              "  </div>\n",
              "  "
            ],
            "text/plain": [
              "         title distributor   genre  ... dir_prev_num  num_staff num_actor\n",
              "0       용서는 없다      시네마서비스     느와르  ...            2        304         3\n",
              "1  아빠가 여자를 좋아해      (주)쇼박스  멜로/로맨스  ...            4        275         3\n",
              "2          하모니   CJ 엔터테인먼트     드라마  ...            3        419         7\n",
              "3          의형제      (주)쇼박스      액션  ...            2        408         2\n",
              "4        평행 이론   CJ 엔터테인먼트      공포  ...            1        380         1\n",
              "\n",
              "[5 rows x 11 columns]"
            ]
          },
          "metadata": {},
          "execution_count": 1017
        }
      ]
    },
    {
      "cell_type": "markdown",
      "source": [
        "## train+ submission데이터 합치기"
      ],
      "metadata": {
        "id": "N-0QjK82rYQt"
      }
    },
    {
      "cell_type": "code",
      "source": [
        "all_df=pd.concat([train_df, submission_df])\n",
        "all_df.head()"
      ],
      "metadata": {
        "colab": {
          "base_uri": "https://localhost:8080/",
          "height": 206
        },
        "outputId": "bff342ba-5b9f-41f5-c681-fa1b4c8f340e",
        "id": "FuT3bQoIrYQt"
      },
      "execution_count": 1018,
      "outputs": [
        {
          "output_type": "execute_result",
          "data": {
            "text/html": [
              "\n",
              "  <div id=\"df-7a6d1fbb-0208-4569-b888-1b7184a5a2e6\">\n",
              "    <div class=\"colab-df-container\">\n",
              "      <div>\n",
              "<style scoped>\n",
              "    .dataframe tbody tr th:only-of-type {\n",
              "        vertical-align: middle;\n",
              "    }\n",
              "\n",
              "    .dataframe tbody tr th {\n",
              "        vertical-align: top;\n",
              "    }\n",
              "\n",
              "    .dataframe thead th {\n",
              "        text-align: right;\n",
              "    }\n",
              "</style>\n",
              "<table border=\"1\" class=\"dataframe\">\n",
              "  <thead>\n",
              "    <tr style=\"text-align: right;\">\n",
              "      <th></th>\n",
              "      <th>title</th>\n",
              "      <th>distributor</th>\n",
              "      <th>genre</th>\n",
              "      <th>release_time</th>\n",
              "      <th>time</th>\n",
              "      <th>screening_rat</th>\n",
              "      <th>director</th>\n",
              "      <th>dir_prev_bfnum</th>\n",
              "      <th>dir_prev_num</th>\n",
              "      <th>num_staff</th>\n",
              "      <th>num_actor</th>\n",
              "      <th>box_off_num</th>\n",
              "    </tr>\n",
              "  </thead>\n",
              "  <tbody>\n",
              "    <tr>\n",
              "      <th>0</th>\n",
              "      <td>개들의 전쟁</td>\n",
              "      <td>롯데엔터테인먼트</td>\n",
              "      <td>액션</td>\n",
              "      <td>2012-11-22</td>\n",
              "      <td>96</td>\n",
              "      <td>청소년 관람불가</td>\n",
              "      <td>조병옥</td>\n",
              "      <td>NaN</td>\n",
              "      <td>0</td>\n",
              "      <td>91</td>\n",
              "      <td>2</td>\n",
              "      <td>23398.0</td>\n",
              "    </tr>\n",
              "    <tr>\n",
              "      <th>1</th>\n",
              "      <td>내부자들</td>\n",
              "      <td>(주)쇼박스</td>\n",
              "      <td>느와르</td>\n",
              "      <td>2015-11-19</td>\n",
              "      <td>130</td>\n",
              "      <td>청소년 관람불가</td>\n",
              "      <td>우민호</td>\n",
              "      <td>1161602.50</td>\n",
              "      <td>2</td>\n",
              "      <td>387</td>\n",
              "      <td>3</td>\n",
              "      <td>7072501.0</td>\n",
              "    </tr>\n",
              "    <tr>\n",
              "      <th>2</th>\n",
              "      <td>은밀하게 위대하게</td>\n",
              "      <td>(주)쇼박스</td>\n",
              "      <td>액션</td>\n",
              "      <td>2013-06-05</td>\n",
              "      <td>123</td>\n",
              "      <td>15세 관람가</td>\n",
              "      <td>장철수</td>\n",
              "      <td>220775.25</td>\n",
              "      <td>4</td>\n",
              "      <td>343</td>\n",
              "      <td>4</td>\n",
              "      <td>6959083.0</td>\n",
              "    </tr>\n",
              "    <tr>\n",
              "      <th>3</th>\n",
              "      <td>나는 공무원이다</td>\n",
              "      <td>(주)NEW</td>\n",
              "      <td>코미디</td>\n",
              "      <td>2012-07-12</td>\n",
              "      <td>101</td>\n",
              "      <td>전체 관람가</td>\n",
              "      <td>구자홍</td>\n",
              "      <td>23894.00</td>\n",
              "      <td>2</td>\n",
              "      <td>20</td>\n",
              "      <td>6</td>\n",
              "      <td>217866.0</td>\n",
              "    </tr>\n",
              "    <tr>\n",
              "      <th>4</th>\n",
              "      <td>불량남녀</td>\n",
              "      <td>쇼박스(주)미디어플렉스</td>\n",
              "      <td>코미디</td>\n",
              "      <td>2010-11-04</td>\n",
              "      <td>108</td>\n",
              "      <td>15세 관람가</td>\n",
              "      <td>신근호</td>\n",
              "      <td>1.00</td>\n",
              "      <td>1</td>\n",
              "      <td>251</td>\n",
              "      <td>2</td>\n",
              "      <td>483387.0</td>\n",
              "    </tr>\n",
              "  </tbody>\n",
              "</table>\n",
              "</div>\n",
              "      <button class=\"colab-df-convert\" onclick=\"convertToInteractive('df-7a6d1fbb-0208-4569-b888-1b7184a5a2e6')\"\n",
              "              title=\"Convert this dataframe to an interactive table.\"\n",
              "              style=\"display:none;\">\n",
              "        \n",
              "  <svg xmlns=\"http://www.w3.org/2000/svg\" height=\"24px\"viewBox=\"0 0 24 24\"\n",
              "       width=\"24px\">\n",
              "    <path d=\"M0 0h24v24H0V0z\" fill=\"none\"/>\n",
              "    <path d=\"M18.56 5.44l.94 2.06.94-2.06 2.06-.94-2.06-.94-.94-2.06-.94 2.06-2.06.94zm-11 1L8.5 8.5l.94-2.06 2.06-.94-2.06-.94L8.5 2.5l-.94 2.06-2.06.94zm10 10l.94 2.06.94-2.06 2.06-.94-2.06-.94-.94-2.06-.94 2.06-2.06.94z\"/><path d=\"M17.41 7.96l-1.37-1.37c-.4-.4-.92-.59-1.43-.59-.52 0-1.04.2-1.43.59L10.3 9.45l-7.72 7.72c-.78.78-.78 2.05 0 2.83L4 21.41c.39.39.9.59 1.41.59.51 0 1.02-.2 1.41-.59l7.78-7.78 2.81-2.81c.8-.78.8-2.07 0-2.86zM5.41 20L4 18.59l7.72-7.72 1.47 1.35L5.41 20z\"/>\n",
              "  </svg>\n",
              "      </button>\n",
              "      \n",
              "  <style>\n",
              "    .colab-df-container {\n",
              "      display:flex;\n",
              "      flex-wrap:wrap;\n",
              "      gap: 12px;\n",
              "    }\n",
              "\n",
              "    .colab-df-convert {\n",
              "      background-color: #E8F0FE;\n",
              "      border: none;\n",
              "      border-radius: 50%;\n",
              "      cursor: pointer;\n",
              "      display: none;\n",
              "      fill: #1967D2;\n",
              "      height: 32px;\n",
              "      padding: 0 0 0 0;\n",
              "      width: 32px;\n",
              "    }\n",
              "\n",
              "    .colab-df-convert:hover {\n",
              "      background-color: #E2EBFA;\n",
              "      box-shadow: 0px 1px 2px rgba(60, 64, 67, 0.3), 0px 1px 3px 1px rgba(60, 64, 67, 0.15);\n",
              "      fill: #174EA6;\n",
              "    }\n",
              "\n",
              "    [theme=dark] .colab-df-convert {\n",
              "      background-color: #3B4455;\n",
              "      fill: #D2E3FC;\n",
              "    }\n",
              "\n",
              "    [theme=dark] .colab-df-convert:hover {\n",
              "      background-color: #434B5C;\n",
              "      box-shadow: 0px 1px 3px 1px rgba(0, 0, 0, 0.15);\n",
              "      filter: drop-shadow(0px 1px 2px rgba(0, 0, 0, 0.3));\n",
              "      fill: #FFFFFF;\n",
              "    }\n",
              "  </style>\n",
              "\n",
              "      <script>\n",
              "        const buttonEl =\n",
              "          document.querySelector('#df-7a6d1fbb-0208-4569-b888-1b7184a5a2e6 button.colab-df-convert');\n",
              "        buttonEl.style.display =\n",
              "          google.colab.kernel.accessAllowed ? 'block' : 'none';\n",
              "\n",
              "        async function convertToInteractive(key) {\n",
              "          const element = document.querySelector('#df-7a6d1fbb-0208-4569-b888-1b7184a5a2e6');\n",
              "          const dataTable =\n",
              "            await google.colab.kernel.invokeFunction('convertToInteractive',\n",
              "                                                     [key], {});\n",
              "          if (!dataTable) return;\n",
              "\n",
              "          const docLinkHtml = 'Like what you see? Visit the ' +\n",
              "            '<a target=\"_blank\" href=https://colab.research.google.com/notebooks/data_table.ipynb>data table notebook</a>'\n",
              "            + ' to learn more about interactive tables.';\n",
              "          element.innerHTML = '';\n",
              "          dataTable['output_type'] = 'display_data';\n",
              "          await google.colab.output.renderOutput(dataTable, element);\n",
              "          const docLink = document.createElement('div');\n",
              "          docLink.innerHTML = docLinkHtml;\n",
              "          element.appendChild(docLink);\n",
              "        }\n",
              "      </script>\n",
              "    </div>\n",
              "  </div>\n",
              "  "
            ],
            "text/plain": [
              "       title   distributor genre  ... num_staff  num_actor box_off_num\n",
              "0     개들의 전쟁      롯데엔터테인먼트    액션  ...        91          2     23398.0\n",
              "1       내부자들        (주)쇼박스   느와르  ...       387          3   7072501.0\n",
              "2  은밀하게 위대하게        (주)쇼박스    액션  ...       343          4   6959083.0\n",
              "3   나는 공무원이다        (주)NEW   코미디  ...        20          6    217866.0\n",
              "4       불량남녀  쇼박스(주)미디어플렉스   코미디  ...       251          2    483387.0\n",
              "\n",
              "[5 rows x 12 columns]"
            ]
          },
          "metadata": {},
          "execution_count": 1018
        }
      ]
    },
    {
      "cell_type": "code",
      "source": [
        "all_df.info()"
      ],
      "metadata": {
        "colab": {
          "base_uri": "https://localhost:8080/"
        },
        "outputId": "2d68e0db-6ce9-4aee-9ad4-a74bda2adeab",
        "id": "LIGY_6e8rYQt"
      },
      "execution_count": 1019,
      "outputs": [
        {
          "output_type": "stream",
          "name": "stdout",
          "text": [
            "<class 'pandas.core.frame.DataFrame'>\n",
            "Int64Index: 843 entries, 0 to 242\n",
            "Data columns (total 12 columns):\n",
            " #   Column          Non-Null Count  Dtype  \n",
            "---  ------          --------------  -----  \n",
            " 0   title           843 non-null    object \n",
            " 1   distributor     843 non-null    object \n",
            " 2   genre           843 non-null    object \n",
            " 3   release_time    843 non-null    object \n",
            " 4   time            843 non-null    int64  \n",
            " 5   screening_rat   843 non-null    object \n",
            " 6   director        843 non-null    object \n",
            " 7   dir_prev_bfnum  377 non-null    float64\n",
            " 8   dir_prev_num    843 non-null    int64  \n",
            " 9   num_staff       843 non-null    int64  \n",
            " 10  num_actor       843 non-null    int64  \n",
            " 11  box_off_num     600 non-null    float64\n",
            "dtypes: float64(2), int64(4), object(6)\n",
            "memory usage: 85.6+ KB\n"
          ]
        }
      ]
    },
    {
      "cell_type": "markdown",
      "source": [
        "##카테고리 데이터 인고딩"
      ],
      "metadata": {
        "id": "ZTA2NaxZrz6k"
      }
    },
    {
      "cell_type": "code",
      "source": [
        "all_df.distributor = all_df.distributor.astype('category')\n",
        "all_df['distributor_code'] = all_df.distributor.cat.codes\n",
        "\n",
        "all_df.genre = all_df.genre.astype('category')\n",
        "all_df['genre_code'] = all_df.genre.cat.codes\n",
        "\n",
        "all_df.screening_rat = all_df.screening_rat.astype('category')\n",
        "all_df['screening_rat_code'] = all_df.screening_rat.cat.codes\n",
        "\n"
      ],
      "metadata": {
        "id": "F-DVOOA5r4VS"
      },
      "execution_count": 1020,
      "outputs": []
    },
    {
      "cell_type": "markdown",
      "source": [
        "##카테코리 데이터 one-hot 인코딩"
      ],
      "metadata": {
        "id": "H71JMp4as5ij"
      }
    },
    {
      "cell_type": "code",
      "source": [
        "all_df = pd.get_dummies(all_df, columns = ['distributor_code'])\n",
        "all_df = pd.get_dummies(all_df, columns = ['genre_code'])\n",
        "all_df = pd.get_dummies(all_df, columns = ['screening_rat_code'])"
      ],
      "metadata": {
        "id": "OWCL8VSqs5VZ"
      },
      "execution_count": 1021,
      "outputs": []
    },
    {
      "cell_type": "code",
      "source": [
        "all_df.info()"
      ],
      "metadata": {
        "colab": {
          "base_uri": "https://localhost:8080/"
        },
        "id": "MKs-wdRHtQUb",
        "outputId": "ce54d3cf-8462-4ad4-f1d0-79967542c3ef"
      },
      "execution_count": 1022,
      "outputs": [
        {
          "output_type": "stream",
          "name": "stdout",
          "text": [
            "<class 'pandas.core.frame.DataFrame'>\n",
            "Int64Index: 843 entries, 0 to 242\n",
            "Columns: 232 entries, title to screening_rat_code_3\n",
            "dtypes: category(3), float64(2), int64(4), object(3), uint8(220)\n",
            "memory usage: 262.5+ KB\n"
          ]
        }
      ]
    },
    {
      "cell_type": "markdown",
      "source": [
        "##안쓸 컬럼 삭제"
      ],
      "metadata": {
        "id": "IlzjG1IPrYQv"
      }
    },
    {
      "cell_type": "code",
      "source": [
        "all_df.drop(columns=['title','distributor','genre','release_time','screening_rat','director'],inplace=True)\n",
        "all_df.info()"
      ],
      "metadata": {
        "colab": {
          "base_uri": "https://localhost:8080/"
        },
        "outputId": "32c25f69-1f83-40c4-c943-ad9b97468e0a",
        "id": "89fUL_2nrYQv"
      },
      "execution_count": 1023,
      "outputs": [
        {
          "output_type": "stream",
          "name": "stdout",
          "text": [
            "<class 'pandas.core.frame.DataFrame'>\n",
            "Int64Index: 843 entries, 0 to 242\n",
            "Columns: 226 entries, time to screening_rat_code_3\n",
            "dtypes: float64(2), int64(4), uint8(220)\n",
            "memory usage: 227.2 KB\n"
          ]
        }
      ]
    },
    {
      "cell_type": "markdown",
      "source": [
        "##결측치 처리"
      ],
      "metadata": {
        "id": "g3gRxC4frYQv"
      }
    },
    {
      "cell_type": "code",
      "source": [
        "all_df = all_df.fillna(0)"
      ],
      "metadata": {
        "id": "l6fBP-AhrYQw"
      },
      "execution_count": 1024,
      "outputs": []
    },
    {
      "cell_type": "code",
      "source": [
        "all_df.info()"
      ],
      "metadata": {
        "colab": {
          "base_uri": "https://localhost:8080/"
        },
        "outputId": "3597422e-41f1-4474-b755-e1eda1fe4db2",
        "id": "RIISEyaorYQw"
      },
      "execution_count": 1025,
      "outputs": [
        {
          "output_type": "stream",
          "name": "stdout",
          "text": [
            "<class 'pandas.core.frame.DataFrame'>\n",
            "Int64Index: 843 entries, 0 to 242\n",
            "Columns: 226 entries, time to screening_rat_code_3\n",
            "dtypes: float64(2), int64(4), uint8(220)\n",
            "memory usage: 227.2 KB\n"
          ]
        }
      ]
    },
    {
      "cell_type": "markdown",
      "source": [
        "##전처리 전의 데이터 분포 보기"
      ],
      "metadata": {
        "id": "A79OkbVUrYQw"
      }
    },
    {
      "cell_type": "markdown",
      "source": [
        "###time"
      ],
      "metadata": {
        "id": "S7N4aPEIrYQw"
      }
    },
    {
      "cell_type": "code",
      "source": [
        "plt.hist(all_df.time, bins=100)\n",
        "plt.show()"
      ],
      "metadata": {
        "colab": {
          "base_uri": "https://localhost:8080/",
          "height": 264
        },
        "outputId": "122d0d93-20d1-4953-9c21-32fd6123e684",
        "id": "l5lLVxrlrYQw"
      },
      "execution_count": 1026,
      "outputs": [
        {
          "output_type": "display_data",
          "data": {
            "image/png": "[encoded data removed]",
            "text/plain": [
              "<Figure size 432x288 with 1 Axes>"
            ]
          },
          "metadata": {
            "needs_background": "light"
          }
        }
      ]
    },
    {
      "cell_type": "markdown",
      "source": [
        "###dir_prev_bfnum"
      ],
      "metadata": {
        "id": "iIS6wtOyrYQw"
      }
    },
    {
      "cell_type": "code",
      "source": [
        "plt.hist(all_df.dir_prev_bfnum, bins=100)\n",
        "plt.show()"
      ],
      "metadata": {
        "colab": {
          "base_uri": "https://localhost:8080/",
          "height": 277
        },
        "outputId": "ece2d3eb-53eb-4d29-84d2-465ad6e57bee",
        "id": "45eYyRb8rYQw"
      },
      "execution_count": 1027,
      "outputs": [
        {
          "output_type": "display_data",
          "data": {
            "image/png": "[encoded data removed]",
            "text/plain": [
              "<Figure size 432x288 with 1 Axes>"
            ]
          },
          "metadata": {
            "needs_background": "light"
          }
        }
      ]
    },
    {
      "cell_type": "markdown",
      "source": [
        "###dir_prev_num"
      ],
      "metadata": {
        "id": "-NySO9TXrYQw"
      }
    },
    {
      "cell_type": "code",
      "source": [
        "plt.hist(all_df.dir_prev_num, bins=100)\n",
        "plt.show()"
      ],
      "metadata": {
        "colab": {
          "base_uri": "https://localhost:8080/",
          "height": 264
        },
        "outputId": "d182a104-31b0-46dd-9fe0-bb9a86dbf779",
        "id": "e-_i5zgvrYQw"
      },
      "execution_count": 1028,
      "outputs": [
        {
          "output_type": "display_data",
          "data": {
            "image/png": "[encoded data removed]",
            "text/plain": [
              "<Figure size 432x288 with 1 Axes>"
            ]
          },
          "metadata": {
            "needs_background": "light"
          }
        }
      ]
    },
    {
      "cell_type": "markdown",
      "source": [
        "###num_staff"
      ],
      "metadata": {
        "id": "VsRVlzgsrYQw"
      }
    },
    {
      "cell_type": "code",
      "source": [
        "plt.hist(all_df.num_staff, bins=100)\n",
        "plt.show()"
      ],
      "metadata": {
        "colab": {
          "base_uri": "https://localhost:8080/",
          "height": 265
        },
        "outputId": "8d5ee5d7-cc14-4046-ae8b-9ec2f0473454",
        "id": "KFo8HaAirYQw"
      },
      "execution_count": 1029,
      "outputs": [
        {
          "output_type": "display_data",
          "data": {
            "image/png": "[encoded data removed]",
            "text/plain": [
              "<Figure size 432x288 with 1 Axes>"
            ]
          },
          "metadata": {
            "needs_background": "light"
          }
        }
      ]
    },
    {
      "cell_type": "markdown",
      "source": [
        "###num_actor"
      ],
      "metadata": {
        "id": "nVh25T2PrYQw"
      }
    },
    {
      "cell_type": "code",
      "source": [
        "plt.hist(all_df.num_actor, bins=100)\n",
        "plt.show()"
      ],
      "metadata": {
        "colab": {
          "base_uri": "https://localhost:8080/",
          "height": 264
        },
        "outputId": "ffb69494-1c73-456e-a94e-219705069a6d",
        "id": "mbedYns0rYQw"
      },
      "execution_count": 1030,
      "outputs": [
        {
          "output_type": "display_data",
          "data": {
            "image/png": "[encoded data removed]",
            "text/plain": [
              "<Figure size 432x288 with 1 Axes>"
            ]
          },
          "metadata": {
            "needs_background": "light"
          }
        }
      ]
    },
    {
      "cell_type": "markdown",
      "source": [
        "###box_off_num"
      ],
      "metadata": {
        "id": "kuoxvRacrYQx"
      }
    },
    {
      "cell_type": "code",
      "source": [
        "plt.hist(all_df.box_off_num, bins=100)\n",
        "plt.show()"
      ],
      "metadata": {
        "colab": {
          "base_uri": "https://localhost:8080/",
          "height": 277
        },
        "outputId": "95d1e1fb-6590-41ed-a068-e31a670efa79",
        "id": "Go5QhxQlrYQx"
      },
      "execution_count": 1031,
      "outputs": [
        {
          "output_type": "display_data",
          "data": {
            "image/png": "[encoded data removed]",
            "text/plain": [
              "<Figure size 432x288 with 1 Axes>"
            ]
          },
          "metadata": {
            "needs_background": "light"
          }
        }
      ]
    },
    {
      "cell_type": "markdown",
      "source": [
        "##컬럼 별 전처리"
      ],
      "metadata": {
        "id": "XZ40T5FurYQx"
      }
    },
    {
      "cell_type": "markdown",
      "source": [
        "###time\n"
      ],
      "metadata": {
        "id": "tkRWhRaurYQx"
      }
    },
    {
      "cell_type": "code",
      "source": [
        "all_df.loc[all_df.time>200, 'time'] =200"
      ],
      "metadata": {
        "id": "-fKdWzc9rYQx"
      },
      "execution_count": 1032,
      "outputs": []
    },
    {
      "cell_type": "markdown",
      "source": [
        "###dir_prev_bfum"
      ],
      "metadata": {
        "id": "cJ4hLamyrYQx"
      }
    },
    {
      "cell_type": "code",
      "source": [
        "all_df['dir_prev_bfnum']=np.log1p(all_df.dir_prev_bfnum)"
      ],
      "metadata": {
        "id": "Nbu6t-BurYQx"
      },
      "execution_count": 1033,
      "outputs": []
    },
    {
      "cell_type": "markdown",
      "source": [
        "###num_staff \n",
        "####1을 더한 로그처리한다."
      ],
      "metadata": {
        "id": "oi_yczverYQx"
      }
    },
    {
      "cell_type": "code",
      "source": [
        "all_df['num_staff']= np.log1p(all_df.num_staff)"
      ],
      "metadata": {
        "id": "m1G_hiXQrYQx"
      },
      "execution_count": 1034,
      "outputs": []
    },
    {
      "cell_type": "markdown",
      "source": [
        "###num_actor\n",
        "####10보다 큰 이상치를 10으로 변환"
      ],
      "metadata": {
        "id": "Qb9Ds89CrYQx"
      }
    },
    {
      "cell_type": "code",
      "source": [
        "all_df.loc[all_df.num_actor>10, 'num_actor'] = 10"
      ],
      "metadata": {
        "id": "eHZXFuTfrYQx"
      },
      "execution_count": 1035,
      "outputs": []
    },
    {
      "cell_type": "markdown",
      "source": [
        "###box_off_num\n",
        "####1을 더한 로그처리한다."
      ],
      "metadata": {
        "id": "klmEUWQ4rYQx"
      }
    },
    {
      "cell_type": "code",
      "source": [
        "all_df['box_off_num']= np.log1p(all_df.box_off_num)"
      ],
      "metadata": {
        "id": "rzb0fVLMrYQx"
      },
      "execution_count": 1036,
      "outputs": []
    },
    {
      "cell_type": "markdown",
      "source": [
        "## Normalization"
      ],
      "metadata": {
        "id": "ir-WlvQGrYQx"
      }
    },
    {
      "cell_type": "code",
      "source": [
        "all_df['time']            = (all_df.time - all_df.time.min()) / ( all_df.time.max() - all_df.time.min())\n",
        "all_df['dir_prev_bfnum']  = (all_df.dir_prev_bfnum - all_df.dir_prev_bfnum.min()) / ( all_df.dir_prev_bfnum.max() - all_df.dir_prev_bfnum.min())\n",
        "all_df['dir_prev_num']    = (all_df.dir_prev_num - all_df.dir_prev_num.min()) / ( all_df.dir_prev_num.max() - all_df.dir_prev_num.min())\n",
        "all_df['num_staff']       = (all_df.num_staff - all_df.num_staff.min()) / ( all_df.num_staff.max() - all_df.num_staff.min())\n",
        "all_df['num_actor']       = (all_df.num_actor - all_df.num_actor.min()) / ( all_df.num_actor.max() - all_df.num_actor.min())"
      ],
      "metadata": {
        "id": "y_RxSqQBrYQx"
      },
      "execution_count": 1037,
      "outputs": []
    },
    {
      "cell_type": "code",
      "source": [
        "y_max= all_df.box_off_num.max()\n",
        "y_min= all_df.box_off_num.min()\n",
        "\n",
        "all_df['box_off_num'] = (all_df.box_off_num - y_min) / ( y_max - y_min )"
      ],
      "metadata": {
        "id": "Kb7Z1crYrYQy"
      },
      "execution_count": 1038,
      "outputs": []
    },
    {
      "cell_type": "markdown",
      "source": [
        "##전처리 후의 데이터 분포 보기"
      ],
      "metadata": {
        "id": "M7XaWGrIrYQy"
      }
    },
    {
      "cell_type": "markdown",
      "source": [
        "###time"
      ],
      "metadata": {
        "id": "KMg-2RHwrYQy"
      }
    },
    {
      "cell_type": "code",
      "source": [
        "plt.hist(all_df.time, bins=100)\n",
        "plt.show()"
      ],
      "metadata": {
        "colab": {
          "base_uri": "https://localhost:8080/",
          "height": 264
        },
        "outputId": "715c8d05-ef88-462b-b831-9f83f1f228cc",
        "id": "gx5OMmS7rYQz"
      },
      "execution_count": 1039,
      "outputs": [
        {
          "output_type": "display_data",
          "data": {
            "image/png": "[encoded data removed]",
            "text/plain": [
              "<Figure size 432x288 with 1 Axes>"
            ]
          },
          "metadata": {
            "needs_background": "light"
          }
        }
      ]
    },
    {
      "cell_type": "markdown",
      "source": [
        "###dir_prev_bfnum"
      ],
      "metadata": {
        "id": "TYUkOAFgrYQz"
      }
    },
    {
      "cell_type": "code",
      "source": [
        "plt.hist(all_df.dir_prev_bfnum, bins=100)\n",
        "plt.show()"
      ],
      "metadata": {
        "colab": {
          "base_uri": "https://localhost:8080/",
          "height": 264
        },
        "outputId": "b7814bfc-10d6-4782-dad8-e97f5dea8221",
        "id": "g3AOJTVLrYQz"
      },
      "execution_count": 1040,
      "outputs": [
        {
          "output_type": "display_data",
          "data": {
            "image/png": "[encoded data removed]",
            "text/plain": [
              "<Figure size 432x288 with 1 Axes>"
            ]
          },
          "metadata": {
            "needs_background": "light"
          }
        }
      ]
    },
    {
      "cell_type": "markdown",
      "source": [
        "###dir_prev_num"
      ],
      "metadata": {
        "id": "TmPnA600rYQz"
      }
    },
    {
      "cell_type": "code",
      "source": [
        "plt.hist(all_df.dir_prev_num, bins=100)\n",
        "plt.show()"
      ],
      "metadata": {
        "colab": {
          "base_uri": "https://localhost:8080/",
          "height": 264
        },
        "outputId": "a99592ea-794f-40b6-87bf-074b7cdce04a",
        "id": "JPufzrX1rYQz"
      },
      "execution_count": 1041,
      "outputs": [
        {
          "output_type": "display_data",
          "data": {
            "image/png": "[encoded data removed]",
            "text/plain": [
              "<Figure size 432x288 with 1 Axes>"
            ]
          },
          "metadata": {
            "needs_background": "light"
          }
        }
      ]
    },
    {
      "cell_type": "markdown",
      "source": [
        "###num_staff"
      ],
      "metadata": {
        "id": "6ENF6DxFrYQ0"
      }
    },
    {
      "cell_type": "code",
      "source": [
        "plt.hist(all_df.num_staff, bins=100)\n",
        "plt.show()"
      ],
      "metadata": {
        "colab": {
          "base_uri": "https://localhost:8080/",
          "height": 264
        },
        "outputId": "704d76e4-5f74-475a-e9cd-dc6310eda1c9",
        "id": "1cdT82xBrYQ0"
      },
      "execution_count": 1042,
      "outputs": [
        {
          "output_type": "display_data",
          "data": {
            "image/png": "[encoded data removed]",
            "text/plain": [
              "<Figure size 432x288 with 1 Axes>"
            ]
          },
          "metadata": {
            "needs_background": "light"
          }
        }
      ]
    },
    {
      "cell_type": "markdown",
      "source": [
        "###num_actor"
      ],
      "metadata": {
        "id": "_Oqj6ZBorYQ0"
      }
    },
    {
      "cell_type": "code",
      "source": [
        "plt.hist(all_df.num_actor, bins=100)\n",
        "plt.show()"
      ],
      "metadata": {
        "colab": {
          "base_uri": "https://localhost:8080/",
          "height": 264
        },
        "outputId": "aba76eee-77a1-4653-a659-160f8e433920",
        "id": "EZQzo52HrYQ0"
      },
      "execution_count": 1043,
      "outputs": [
        {
          "output_type": "display_data",
          "data": {
            "image/png": "[encoded data removed]",
            "text/plain": [
              "<Figure size 432x288 with 1 Axes>"
            ]
          },
          "metadata": {
            "needs_background": "light"
          }
        }
      ]
    },
    {
      "cell_type": "markdown",
      "source": [
        "###box_off_num"
      ],
      "metadata": {
        "id": "woa1iPNUrYQ0"
      }
    },
    {
      "cell_type": "code",
      "source": [
        "plt.hist(all_df.box_off_num, bins=100)\n",
        "plt.show()"
      ],
      "metadata": {
        "colab": {
          "base_uri": "https://localhost:8080/",
          "height": 264
        },
        "outputId": "c6fd6bb9-e037-4eba-d0c8-0989c3b4c3f1",
        "id": "gYzq-QT3rYQ0"
      },
      "execution_count": 1044,
      "outputs": [
        {
          "output_type": "display_data",
          "data": {
            "image/png": "[encoded data removed]",
            "text/plain": [
              "<Figure size 432x288 with 1 Axes>"
            ]
          },
          "metadata": {
            "needs_background": "light"
          }
        }
      ]
    },
    {
      "cell_type": "markdown",
      "source": [
        "##train, test, submission 데이터 분리"
      ],
      "metadata": {
        "id": "SVtcwsAirYQ0"
      }
    },
    {
      "cell_type": "code",
      "source": [
        "train_df = all_df[0:500]\n",
        "test_df = all_df[500:600]\n",
        "submission_df = all_df[600:]\n",
        "\n",
        "print(len(train_df))\n",
        "print(len(test_df))\n",
        "print(len(submission_df))"
      ],
      "metadata": {
        "colab": {
          "base_uri": "https://localhost:8080/"
        },
        "outputId": "c3b75a96-defe-4104-f680-e8ec6d1bf2b3",
        "id": "kpZdVCgNrYQ0"
      },
      "execution_count": 1045,
      "outputs": [
        {
          "output_type": "stream",
          "name": "stdout",
          "text": [
            "500\n",
            "100\n",
            "243\n"
          ]
        }
      ]
    },
    {
      "cell_type": "markdown",
      "source": [
        "## x,y로 분리"
      ],
      "metadata": {
        "id": "skExtxtxrYQ0"
      }
    },
    {
      "cell_type": "code",
      "source": [
        "train_y = train_df.box_off_num.to_numpy()\n",
        "\n",
        "train_x_df= train_df.drop(columns=['box_off_num'])\n",
        "\n",
        "train_x = train_x_df.to_numpy()\n",
        "\n",
        "print(train_x.shape)\n",
        "print(train_y.shape)"
      ],
      "metadata": {
        "colab": {
          "base_uri": "https://localhost:8080/"
        },
        "outputId": "25594b92-a4a3-4c2e-d742-d50b06ab253e",
        "id": "8thHwGsUrYQ0"
      },
      "execution_count": 1046,
      "outputs": [
        {
          "output_type": "stream",
          "name": "stdout",
          "text": [
            "(500, 225)\n",
            "(500,)\n"
          ]
        }
      ]
    },
    {
      "cell_type": "code",
      "source": [
        "test_y = test_df.box_off_num.to_numpy()\n",
        "\n",
        "test_x_df= test_df.drop(columns=['box_off_num'])\n",
        "\n",
        "test_x = test_x_df.to_numpy()\n",
        "\n",
        "print(test_x.shape)\n",
        "print(test_y.shape)"
      ],
      "metadata": {
        "colab": {
          "base_uri": "https://localhost:8080/"
        },
        "outputId": "cb18fe54-9682-484b-fc2b-b76fe71a7fc9",
        "id": "CT9YVJ7brYQ0"
      },
      "execution_count": 1047,
      "outputs": [
        {
          "output_type": "stream",
          "name": "stdout",
          "text": [
            "(100, 225)\n",
            "(100,)\n"
          ]
        }
      ]
    },
    {
      "cell_type": "code",
      "source": [
        "submission_x_df= submission_df.drop(columns=['box_off_num'])\n",
        "submission_x = submission_x_df.to_numpy()\n",
        "print(submission_x.shape)"
      ],
      "metadata": {
        "colab": {
          "base_uri": "https://localhost:8080/"
        },
        "outputId": "4dfdadcd-4e2f-43a1-d602-4eca2001725f",
        "id": "dpcPBWPprYQ0"
      },
      "execution_count": 1048,
      "outputs": [
        {
          "output_type": "stream",
          "name": "stdout",
          "text": [
            "(243, 225)\n"
          ]
        }
      ]
    },
    {
      "cell_type": "code",
      "source": [
        ""
      ],
      "metadata": {
        "id": "oUsKn_snrYQ1"
      },
      "execution_count": 1048,
      "outputs": []
    },
    {
      "cell_type": "markdown",
      "source": [
        "##딥러닝 학습"
      ],
      "metadata": {
        "id": "0mjNpYperYQ1"
      }
    },
    {
      "cell_type": "code",
      "source": [
        "print(train_x.shape)\n",
        "print(train_x.shape[1])"
      ],
      "metadata": {
        "colab": {
          "base_uri": "https://localhost:8080/"
        },
        "id": "qK_qf_3FuFLU",
        "outputId": "6a7610a3-5146-412b-b5f8-bfe40c5cfd3e"
      },
      "execution_count": 1049,
      "outputs": [
        {
          "output_type": "stream",
          "name": "stdout",
          "text": [
            "(500, 225)\n",
            "225\n"
          ]
        }
      ]
    },
    {
      "cell_type": "code",
      "source": [
        "import numpy as np\n",
        "import pandas as pd\n",
        "import matplotlib.pyplot as plt\n",
        "\n",
        "import tensorflow as tf\n",
        "\n",
        "from tensorflow import keras\n",
        "from tensorflow.keras import optimizers\n",
        "from tensorflow.keras.layers import Dense\n",
        "\n",
        "model = keras.Sequential()\n",
        "model.add(Dense(10, activation='relu', input_shape=(train_x.shape[1],)))\n",
        "model.add(Dense(10, activation='relu'))\n",
        "model.add(Dense(1))\n",
        "\n",
        "model.compile(optimizer=\"SGD\", loss=\"mse\", metrics=[\"mape\"])\n",
        "model.summary()\n",
        "\n",
        "history = model.fit(train_x, train_y, epochs=10, verbose=0, batch_size=512, validation_split=0.1)\n",
        "\n",
        "plt.plot(history.history['loss'])\n",
        "plt.plot(history.history['val_loss'])\n",
        "plt.show()\n",
        "\n",
        "\n",
        "\n",
        "loss, mape = model.evaluate(test_x, test_y)\n",
        "print(\"loss=\", loss)\n",
        "print(\"mape=\", mape)\n",
        "\n",
        "y_ = model.predict(test_x)\n",
        "\n",
        "plt.scatter(test_y, y_)\n",
        "plt.show()"
      ],
      "metadata": {
        "colab": {
          "base_uri": "https://localhost:8080/",
          "height": 845
        },
        "outputId": "d5f8f060-432e-4b5c-cc5c-8e65aac02bc8",
        "id": "nSYEAkhyrYQ1"
      },
      "execution_count": 1050,
      "outputs": [
        {
          "output_type": "stream",
          "name": "stdout",
          "text": [
            "Model: \"sequential_35\"\n",
            "_________________________________________________________________\n",
            " Layer (type)                Output Shape              Param #   \n",
            "=================================================================\n",
            " dense_99 (Dense)            (None, 10)                2260      \n",
            "                                                                 \n",
            " dense_100 (Dense)           (None, 10)                110       \n",
            "                                                                 \n",
            " dense_101 (Dense)           (None, 1)                 11        \n",
            "                                                                 \n",
            "=================================================================\n",
            "Total params: 2,381\n",
            "Trainable params: 2,381\n",
            "Non-trainable params: 0\n",
            "_________________________________________________________________\n"
          ]
        },
        {
          "output_type": "display_data",
          "data": {
            "image/png": "[encoded data removed]",
            "text/plain": [
              "<Figure size 432x288 with 1 Axes>"
            ]
          },
          "metadata": {
            "needs_background": "light"
          }
        },
        {
          "output_type": "stream",
          "name": "stdout",
          "text": [
            "4/4 [==============================] - 0s 3ms/step - loss: 0.3136 - mape: 84.9438\n",
            "loss= 0.31364941596984863\n",
            "mape= 84.94378662109375\n"
          ]
        },
        {
          "output_type": "display_data",
          "data": {
            "image/png": "[encoded data removed]",
            "text/plain": [
              "<Figure size 432x288 with 1 Axes>"
            ]
          },
          "metadata": {
            "needs_background": "light"
          }
        }
      ]
    },
    {
      "cell_type": "markdown",
      "source": [
        "##RMSE계산하기"
      ],
      "metadata": {
        "id": "8JK5l-vou_P7"
      }
    },
    {
      "cell_type": "code",
      "source": [
        "from tensorflow.keras.metrics import RootMeanSquaredError\n",
        "\n",
        "predicted = y_ * ( y_max - y_min) + y_min\n",
        "predicted = np.exp(predicted) - 1.\n",
        "\n",
        "org_test_y = test_y * ( y_max - y_min) + y_min\n",
        "org_test_y = np.exp(org_test_y) - 1.\n",
        "\n",
        "\n",
        "rmse = RootMeanSquaredError()(org_test_y, predicted)\n",
        "print(\"rmse = \", rmse)\n",
        "\n",
        "plt.hist(predicted, bins=100)\n",
        "plt.show()\n",
        "plt.hist(org_test_y, bins=100)\n",
        "plt.show()  \n"
      ],
      "metadata": {
        "colab": {
          "base_uri": "https://localhost:8080/",
          "height": 547
        },
        "id": "jVNKdoCEvCo7",
        "outputId": "43123240-1165-4c6e-8f59-6acceb09c79c"
      },
      "execution_count": 1051,
      "outputs": [
        {
          "output_type": "stream",
          "name": "stdout",
          "text": [
            "rmse =  tf.Tensor(1953054.4, shape=(), dtype=float32)\n"
          ]
        },
        {
          "output_type": "display_data",
          "data": {
            "image/png": "[encoded data removed]",
            "text/plain": [
              "<Figure size 432x288 with 1 Axes>"
            ]
          },
          "metadata": {
            "needs_background": "light"
          }
        },
        {
          "output_type": "display_data",
          "data": {
            "image/png": "[encoded data removed]",
            "text/plain": [
              "<Figure size 432x288 with 1 Axes>"
            ]
          },
          "metadata": {
            "needs_background": "light"
          }
        }
      ]
    },
    {
      "cell_type": "code",
      "source": [
        ""
      ],
      "metadata": {
        "id": "V5uSMhR8vCvz"
      },
      "execution_count": 1051,
      "outputs": []
    },
    {
      "cell_type": "markdown",
      "source": [
        "##예측하기"
      ],
      "metadata": {
        "id": "L70VCIQ_vL6R"
      }
    },
    {
      "cell_type": "code",
      "source": [
        "predicted = model.predict(submission_x)"
      ],
      "metadata": {
        "id": "Kp7BQfrzvL6R"
      },
      "execution_count": 1052,
      "outputs": []
    },
    {
      "cell_type": "code",
      "source": [
        "plt.hist(predicted, bins=100)\n",
        "plt.show()"
      ],
      "metadata": {
        "colab": {
          "base_uri": "https://localhost:8080/",
          "height": 264
        },
        "outputId": "e71b8012-a028-4503-8afd-123e85558b5a",
        "id": "V_T4r_o6vL6R"
      },
      "execution_count": 1053,
      "outputs": [
        {
          "output_type": "display_data",
          "data": {
            "image/png": "[encoded data removed]",
            "text/plain": [
              "<Figure size 432x288 with 1 Axes>"
            ]
          },
          "metadata": {
            "needs_background": "light"
          }
        }
      ]
    },
    {
      "cell_type": "markdown",
      "source": [
        "normalized = (t-min) / (max-min)\n",
        "\n",
        "t-min = mormalized*(min-max)\n",
        "\n",
        "t=normalized*(max-min)+min"
      ],
      "metadata": {
        "id": "BvLfhwQUvL6S"
      }
    },
    {
      "cell_type": "code",
      "source": [
        "predicted = predicted * (y_max - y_min) + y_min"
      ],
      "metadata": {
        "id": "U9jmLtxLvL6S"
      },
      "execution_count": 1054,
      "outputs": []
    },
    {
      "cell_type": "code",
      "source": [
        "plt.hist(predicted, bins=100)\n",
        "plt.show()"
      ],
      "metadata": {
        "colab": {
          "base_uri": "https://localhost:8080/",
          "height": 264
        },
        "outputId": "b6e0f48e-730a-476d-d1f9-8cbf3fd45b43",
        "id": "z1_QrNhbvL6S"
      },
      "execution_count": 1055,
      "outputs": [
        {
          "output_type": "display_data",
          "data": {
            "image/png": "[encoded data removed]",
            "text/plain": [
              "<Figure size 432x288 with 1 Axes>"
            ]
          },
          "metadata": {
            "needs_background": "light"
          }
        }
      ]
    },
    {
      "cell_type": "code",
      "source": [
        "predicted = np.exp(predicted) - 1"
      ],
      "metadata": {
        "id": "OF0IzredvL6S"
      },
      "execution_count": 1056,
      "outputs": []
    },
    {
      "cell_type": "code",
      "source": [
        "plt.hist(predicted, bins=100)\n",
        "plt.show()"
      ],
      "metadata": {
        "colab": {
          "base_uri": "https://localhost:8080/",
          "height": 264
        },
        "outputId": "6b0b21b4-0d42-417c-dea3-35626bdebc1b",
        "id": "epXTPY9uvL6S"
      },
      "execution_count": 1057,
      "outputs": [
        {
          "output_type": "display_data",
          "data": {
            "image/png": "[encoded data removed]",
            "text/plain": [
              "<Figure size 432x288 with 1 Axes>"
            ]
          },
          "metadata": {
            "needs_background": "light"
          }
        }
      ]
    },
    {
      "cell_type": "markdown",
      "source": [
        "##submisssion 파일 만들기"
      ],
      "metadata": {
        "id": "YRCVM4xivL6S"
      }
    },
    {
      "cell_type": "code",
      "source": [
        "!head submission.csv"
      ],
      "metadata": {
        "colab": {
          "base_uri": "https://localhost:8080/"
        },
        "outputId": "322f803e-6b21-4a34-8bda-3587dde50cd0",
        "id": "lbTIRNSkvL6S"
      },
      "execution_count": 1058,
      "outputs": [
        {
          "output_type": "stream",
          "name": "stdout",
          "text": [
            "title,box_off_num\n",
            "용서는 없다,161296\n",
            "아빠가 여자를 좋아해,32093\n",
            "하모니,1246616\n",
            "의형제,393784\n",
            "평행 이론,424880\n",
            "회오리 바람,24700\n",
            "경계도시 2,271\n",
            "이웃집 남자,27561\n",
            "아마존의 눈물 극장판,9343\n"
          ]
        }
      ]
    },
    {
      "cell_type": "code",
      "source": [
        "submission_df= pd.read_csv('movies_test.csv')"
      ],
      "metadata": {
        "id": "oQEf1AEOvL6S"
      },
      "execution_count": 1059,
      "outputs": []
    },
    {
      "cell_type": "code",
      "source": [
        "final_df = pd.DataFrame(submission_df.title)\n",
        "final_df.head()"
      ],
      "metadata": {
        "colab": {
          "base_uri": "https://localhost:8080/",
          "height": 206
        },
        "outputId": "1fd72c44-50b5-4a6f-ca3b-90fc2de32314",
        "id": "uZywa3zTvL6S"
      },
      "execution_count": 1060,
      "outputs": [
        {
          "output_type": "execute_result",
          "data": {
            "text/html": [
              "\n",
              "  <div id=\"df-eb147393-82e0-4d69-be14-5c38f340414f\">\n",
              "    <div class=\"colab-df-container\">\n",
              "      <div>\n",
              "<style scoped>\n",
              "    .dataframe tbody tr th:only-of-type {\n",
              "        vertical-align: middle;\n",
              "    }\n",
              "\n",
              "    .dataframe tbody tr th {\n",
              "        vertical-align: top;\n",
              "    }\n",
              "\n",
              "    .dataframe thead th {\n",
              "        text-align: right;\n",
              "    }\n",
              "</style>\n",
              "<table border=\"1\" class=\"dataframe\">\n",
              "  <thead>\n",
              "    <tr style=\"text-align: right;\">\n",
              "      <th></th>\n",
              "      <th>title</th>\n",
              "    </tr>\n",
              "  </thead>\n",
              "  <tbody>\n",
              "    <tr>\n",
              "      <th>0</th>\n",
              "      <td>용서는 없다</td>\n",
              "    </tr>\n",
              "    <tr>\n",
              "      <th>1</th>\n",
              "      <td>아빠가 여자를 좋아해</td>\n",
              "    </tr>\n",
              "    <tr>\n",
              "      <th>2</th>\n",
              "      <td>하모니</td>\n",
              "    </tr>\n",
              "    <tr>\n",
              "      <th>3</th>\n",
              "      <td>의형제</td>\n",
              "    </tr>\n",
              "    <tr>\n",
              "      <th>4</th>\n",
              "      <td>평행 이론</td>\n",
              "    </tr>\n",
              "  </tbody>\n",
              "</table>\n",
              "</div>\n",
              "      <button class=\"colab-df-convert\" onclick=\"convertToInteractive('df-eb147393-82e0-4d69-be14-5c38f340414f')\"\n",
              "              title=\"Convert this dataframe to an interactive table.\"\n",
              "              style=\"display:none;\">\n",
              "        \n",
              "  <svg xmlns=\"http://www.w3.org/2000/svg\" height=\"24px\"viewBox=\"0 0 24 24\"\n",
              "       width=\"24px\">\n",
              "    <path d=\"M0 0h24v24H0V0z\" fill=\"none\"/>\n",
              "    <path d=\"M18.56 5.44l.94 2.06.94-2.06 2.06-.94-2.06-.94-.94-2.06-.94 2.06-2.06.94zm-11 1L8.5 8.5l.94-2.06 2.06-.94-2.06-.94L8.5 2.5l-.94 2.06-2.06.94zm10 10l.94 2.06.94-2.06 2.06-.94-2.06-.94-.94-2.06-.94 2.06-2.06.94z\"/><path d=\"M17.41 7.96l-1.37-1.37c-.4-.4-.92-.59-1.43-.59-.52 0-1.04.2-1.43.59L10.3 9.45l-7.72 7.72c-.78.78-.78 2.05 0 2.83L4 21.41c.39.39.9.59 1.41.59.51 0 1.02-.2 1.41-.59l7.78-7.78 2.81-2.81c.8-.78.8-2.07 0-2.86zM5.41 20L4 18.59l7.72-7.72 1.47 1.35L5.41 20z\"/>\n",
              "  </svg>\n",
              "      </button>\n",
              "      \n",
              "  <style>\n",
              "    .colab-df-container {\n",
              "      display:flex;\n",
              "      flex-wrap:wrap;\n",
              "      gap: 12px;\n",
              "    }\n",
              "\n",
              "    .colab-df-convert {\n",
              "      background-color: #E8F0FE;\n",
              "      border: none;\n",
              "      border-radius: 50%;\n",
              "      cursor: pointer;\n",
              "      display: none;\n",
              "      fill: #1967D2;\n",
              "      height: 32px;\n",
              "      padding: 0 0 0 0;\n",
              "      width: 32px;\n",
              "    }\n",
              "\n",
              "    .colab-df-convert:hover {\n",
              "      background-color: #E2EBFA;\n",
              "      box-shadow: 0px 1px 2px rgba(60, 64, 67, 0.3), 0px 1px 3px 1px rgba(60, 64, 67, 0.15);\n",
              "      fill: #174EA6;\n",
              "    }\n",
              "\n",
              "    [theme=dark] .colab-df-convert {\n",
              "      background-color: #3B4455;\n",
              "      fill: #D2E3FC;\n",
              "    }\n",
              "\n",
              "    [theme=dark] .colab-df-convert:hover {\n",
              "      background-color: #434B5C;\n",
              "      box-shadow: 0px 1px 3px 1px rgba(0, 0, 0, 0.15);\n",
              "      filter: drop-shadow(0px 1px 2px rgba(0, 0, 0, 0.3));\n",
              "      fill: #FFFFFF;\n",
              "    }\n",
              "  </style>\n",
              "\n",
              "      <script>\n",
              "        const buttonEl =\n",
              "          document.querySelector('#df-eb147393-82e0-4d69-be14-5c38f340414f button.colab-df-convert');\n",
              "        buttonEl.style.display =\n",
              "          google.colab.kernel.accessAllowed ? 'block' : 'none';\n",
              "\n",
              "        async function convertToInteractive(key) {\n",
              "          const element = document.querySelector('#df-eb147393-82e0-4d69-be14-5c38f340414f');\n",
              "          const dataTable =\n",
              "            await google.colab.kernel.invokeFunction('convertToInteractive',\n",
              "                                                     [key], {});\n",
              "          if (!dataTable) return;\n",
              "\n",
              "          const docLinkHtml = 'Like what you see? Visit the ' +\n",
              "            '<a target=\"_blank\" href=https://colab.research.google.com/notebooks/data_table.ipynb>data table notebook</a>'\n",
              "            + ' to learn more about interactive tables.';\n",
              "          element.innerHTML = '';\n",
              "          dataTable['output_type'] = 'display_data';\n",
              "          await google.colab.output.renderOutput(dataTable, element);\n",
              "          const docLink = document.createElement('div');\n",
              "          docLink.innerHTML = docLinkHtml;\n",
              "          element.appendChild(docLink);\n",
              "        }\n",
              "      </script>\n",
              "    </div>\n",
              "  </div>\n",
              "  "
            ],
            "text/plain": [
              "         title\n",
              "0       용서는 없다\n",
              "1  아빠가 여자를 좋아해\n",
              "2          하모니\n",
              "3          의형제\n",
              "4        평행 이론"
            ]
          },
          "metadata": {},
          "execution_count": 1060
        }
      ]
    },
    {
      "cell_type": "code",
      "source": [
        "final_df['box_off_num'] = predicted.astype(np.int)\n",
        "final_df.head()"
      ],
      "metadata": {
        "colab": {
          "base_uri": "https://localhost:8080/",
          "height": 206
        },
        "outputId": "0bccf007-9edb-4b1b-a354-4f23bf28441e",
        "id": "dD4wam1UvL6S"
      },
      "execution_count": 1061,
      "outputs": [
        {
          "output_type": "execute_result",
          "data": {
            "text/html": [
              "\n",
              "  <div id=\"df-9fff8748-7f0a-479d-9d61-b3bfa83da66f\">\n",
              "    <div class=\"colab-df-container\">\n",
              "      <div>\n",
              "<style scoped>\n",
              "    .dataframe tbody tr th:only-of-type {\n",
              "        vertical-align: middle;\n",
              "    }\n",
              "\n",
              "    .dataframe tbody tr th {\n",
              "        vertical-align: top;\n",
              "    }\n",
              "\n",
              "    .dataframe thead th {\n",
              "        text-align: right;\n",
              "    }\n",
              "</style>\n",
              "<table border=\"1\" class=\"dataframe\">\n",
              "  <thead>\n",
              "    <tr style=\"text-align: right;\">\n",
              "      <th></th>\n",
              "      <th>title</th>\n",
              "      <th>box_off_num</th>\n",
              "    </tr>\n",
              "  </thead>\n",
              "  <tbody>\n",
              "    <tr>\n",
              "      <th>0</th>\n",
              "      <td>용서는 없다</td>\n",
              "      <td>4</td>\n",
              "    </tr>\n",
              "    <tr>\n",
              "      <th>1</th>\n",
              "      <td>아빠가 여자를 좋아해</td>\n",
              "      <td>2</td>\n",
              "    </tr>\n",
              "    <tr>\n",
              "      <th>2</th>\n",
              "      <td>하모니</td>\n",
              "      <td>7</td>\n",
              "    </tr>\n",
              "    <tr>\n",
              "      <th>3</th>\n",
              "      <td>의형제</td>\n",
              "      <td>2</td>\n",
              "    </tr>\n",
              "    <tr>\n",
              "      <th>4</th>\n",
              "      <td>평행 이론</td>\n",
              "      <td>5</td>\n",
              "    </tr>\n",
              "  </tbody>\n",
              "</table>\n",
              "</div>\n",
              "      <button class=\"colab-df-convert\" onclick=\"convertToInteractive('df-9fff8748-7f0a-479d-9d61-b3bfa83da66f')\"\n",
              "              title=\"Convert this dataframe to an interactive table.\"\n",
              "              style=\"display:none;\">\n",
              "        \n",
              "  <svg xmlns=\"http://www.w3.org/2000/svg\" height=\"24px\"viewBox=\"0 0 24 24\"\n",
              "       width=\"24px\">\n",
              "    <path d=\"M0 0h24v24H0V0z\" fill=\"none\"/>\n",
              "    <path d=\"M18.56 5.44l.94 2.06.94-2.06 2.06-.94-2.06-.94-.94-2.06-.94 2.06-2.06.94zm-11 1L8.5 8.5l.94-2.06 2.06-.94-2.06-.94L8.5 2.5l-.94 2.06-2.06.94zm10 10l.94 2.06.94-2.06 2.06-.94-2.06-.94-.94-2.06-.94 2.06-2.06.94z\"/><path d=\"M17.41 7.96l-1.37-1.37c-.4-.4-.92-.59-1.43-.59-.52 0-1.04.2-1.43.59L10.3 9.45l-7.72 7.72c-.78.78-.78 2.05 0 2.83L4 21.41c.39.39.9.59 1.41.59.51 0 1.02-.2 1.41-.59l7.78-7.78 2.81-2.81c.8-.78.8-2.07 0-2.86zM5.41 20L4 18.59l7.72-7.72 1.47 1.35L5.41 20z\"/>\n",
              "  </svg>\n",
              "      </button>\n",
              "      \n",
              "  <style>\n",
              "    .colab-df-container {\n",
              "      display:flex;\n",
              "      flex-wrap:wrap;\n",
              "      gap: 12px;\n",
              "    }\n",
              "\n",
              "    .colab-df-convert {\n",
              "      background-color: #E8F0FE;\n",
              "      border: none;\n",
              "      border-radius: 50%;\n",
              "      cursor: pointer;\n",
              "      display: none;\n",
              "      fill: #1967D2;\n",
              "      height: 32px;\n",
              "      padding: 0 0 0 0;\n",
              "      width: 32px;\n",
              "    }\n",
              "\n",
              "    .colab-df-convert:hover {\n",
              "      background-color: #E2EBFA;\n",
              "      box-shadow: 0px 1px 2px rgba(60, 64, 67, 0.3), 0px 1px 3px 1px rgba(60, 64, 67, 0.15);\n",
              "      fill: #174EA6;\n",
              "    }\n",
              "\n",
              "    [theme=dark] .colab-df-convert {\n",
              "      background-color: #3B4455;\n",
              "      fill: #D2E3FC;\n",
              "    }\n",
              "\n",
              "    [theme=dark] .colab-df-convert:hover {\n",
              "      background-color: #434B5C;\n",
              "      box-shadow: 0px 1px 3px 1px rgba(0, 0, 0, 0.15);\n",
              "      filter: drop-shadow(0px 1px 2px rgba(0, 0, 0, 0.3));\n",
              "      fill: #FFFFFF;\n",
              "    }\n",
              "  </style>\n",
              "\n",
              "      <script>\n",
              "        const buttonEl =\n",
              "          document.querySelector('#df-9fff8748-7f0a-479d-9d61-b3bfa83da66f button.colab-df-convert');\n",
              "        buttonEl.style.display =\n",
              "          google.colab.kernel.accessAllowed ? 'block' : 'none';\n",
              "\n",
              "        async function convertToInteractive(key) {\n",
              "          const element = document.querySelector('#df-9fff8748-7f0a-479d-9d61-b3bfa83da66f');\n",
              "          const dataTable =\n",
              "            await google.colab.kernel.invokeFunction('convertToInteractive',\n",
              "                                                     [key], {});\n",
              "          if (!dataTable) return;\n",
              "\n",
              "          const docLinkHtml = 'Like what you see? Visit the ' +\n",
              "            '<a target=\"_blank\" href=https://colab.research.google.com/notebooks/data_table.ipynb>data table notebook</a>'\n",
              "            + ' to learn more about interactive tables.';\n",
              "          element.innerHTML = '';\n",
              "          dataTable['output_type'] = 'display_data';\n",
              "          await google.colab.output.renderOutput(dataTable, element);\n",
              "          const docLink = document.createElement('div');\n",
              "          docLink.innerHTML = docLinkHtml;\n",
              "          element.appendChild(docLink);\n",
              "        }\n",
              "      </script>\n",
              "    </div>\n",
              "  </div>\n",
              "  "
            ],
            "text/plain": [
              "         title  box_off_num\n",
              "0       용서는 없다            4\n",
              "1  아빠가 여자를 좋아해            2\n",
              "2          하모니            7\n",
              "3          의형제            2\n",
              "4        평행 이론            5"
            ]
          },
          "metadata": {},
          "execution_count": 1061
        }
      ]
    },
    {
      "cell_type": "code",
      "source": [
        "final_df.to_csv(\"submission.csv\", index=False)"
      ],
      "metadata": {
        "id": "fEkOQR8vvL6S"
      },
      "execution_count": 1062,
      "outputs": []
    },
    {
      "cell_type": "code",
      "source": [
        "!head submission.csv"
      ],
      "metadata": {
        "colab": {
          "base_uri": "https://localhost:8080/"
        },
        "outputId": "c4730693-a158-47cf-9b69-41fd9ef3fd07",
        "id": "3m0IPv5kvL6S"
      },
      "execution_count": 1063,
      "outputs": [
        {
          "output_type": "stream",
          "name": "stdout",
          "text": [
            "title,box_off_num\n",
            "용서는 없다,4\n",
            "아빠가 여자를 좋아해,2\n",
            "하모니,7\n",
            "의형제,2\n",
            "평행 이론,5\n",
            "회오리 바람,2\n",
            "경계도시 2,2\n",
            "이웃집 남자,5\n",
            "아마존의 눈물 극장판,2\n"
          ]
        }
      ]
    },
    {
      "cell_type": "markdown",
      "source": [
        "##batch size 찾기"
      ],
      "metadata": {
        "id": "paL7tZiJvVf9"
      }
    },
    {
      "cell_type": "code",
      "source": [
        "import time\n",
        "\n",
        "for batch_size in [16,32,64,128,256,512, 512*2, 512*4, 512*8, 512*16]:\n",
        "  start = time.time()\n",
        "  history = model.fit(train_x, train_y, epochs=4, verbose=0, batch_size=batch_size, validation_split=0.1)\n",
        "  print(batch_size,\":\",time.time() - start)\n"
      ],
      "metadata": {
        "colab": {
          "base_uri": "https://localhost:8080/"
        },
        "id": "pKodjrkPvV0r",
        "outputId": "e0fd1f51-0be5-4ece-f114-d88ec5d46c21"
      },
      "execution_count": 1064,
      "outputs": [
        {
          "output_type": "stream",
          "name": "stdout",
          "text": [
            "16 : 0.31230711936950684\n",
            "32 : 0.2426447868347168\n",
            "64 : 0.34877657890319824\n",
            "128 : 0.18440604209899902\n",
            "256 : 0.16255807876586914\n",
            "512 : 0.17096781730651855\n",
            "1024 : 0.1533041000366211\n",
            "2048 : 0.15393352508544922\n",
            "4096 : 0.15926790237426758\n",
            "8192 : 0.14973855018615723\n"
          ]
        }
      ]
    },
    {
      "cell_type": "code",
      "source": [
        ""
      ],
      "metadata": {
        "id": "2XDB8O0ExSoc"
      },
      "execution_count": 1064,
      "outputs": []
    },
    {
      "cell_type": "markdown",
      "source": [
        "# 세번째 시도\n",
        "\n",
        "카테고리 데이터도 사용하자."
      ],
      "metadata": {
        "id": "tSf5J-2QxS5A"
      }
    },
    {
      "cell_type": "markdown",
      "source": [
        "##데이터 읽기"
      ],
      "metadata": {
        "id": "7155TgnXxS5B"
      }
    },
    {
      "cell_type": "code",
      "source": [
        "train_df = pd.read_csv('movies_train.csv')\n",
        "train_df.head()"
      ],
      "metadata": {
        "colab": {
          "base_uri": "https://localhost:8080/",
          "height": 206
        },
        "outputId": "7e43b694-c8a1-4bca-edc2-dc0a6e6a6b1e",
        "id": "hhHY24VUxS5B"
      },
      "execution_count": 1065,
      "outputs": [
        {
          "output_type": "execute_result",
          "data": {
            "text/html": [
              "\n",
              "  <div id=\"df-bddf8d13-8bac-4506-adfc-eec88c04908d\">\n",
              "    <div class=\"colab-df-container\">\n",
              "      <div>\n",
              "<style scoped>\n",
              "    .dataframe tbody tr th:only-of-type {\n",
              "        vertical-align: middle;\n",
              "    }\n",
              "\n",
              "    .dataframe tbody tr th {\n",
              "        vertical-align: top;\n",
              "    }\n",
              "\n",
              "    .dataframe thead th {\n",
              "        text-align: right;\n",
              "    }\n",
              "</style>\n",
              "<table border=\"1\" class=\"dataframe\">\n",
              "  <thead>\n",
              "    <tr style=\"text-align: right;\">\n",
              "      <th></th>\n",
              "      <th>title</th>\n",
              "      <th>distributor</th>\n",
              "      <th>genre</th>\n",
              "      <th>release_time</th>\n",
              "      <th>time</th>\n",
              "      <th>screening_rat</th>\n",
              "      <th>director</th>\n",
              "      <th>dir_prev_bfnum</th>\n",
              "      <th>dir_prev_num</th>\n",
              "      <th>num_staff</th>\n",
              "      <th>num_actor</th>\n",
              "      <th>box_off_num</th>\n",
              "    </tr>\n",
              "  </thead>\n",
              "  <tbody>\n",
              "    <tr>\n",
              "      <th>0</th>\n",
              "      <td>개들의 전쟁</td>\n",
              "      <td>롯데엔터테인먼트</td>\n",
              "      <td>액션</td>\n",
              "      <td>2012-11-22</td>\n",
              "      <td>96</td>\n",
              "      <td>청소년 관람불가</td>\n",
              "      <td>조병옥</td>\n",
              "      <td>NaN</td>\n",
              "      <td>0</td>\n",
              "      <td>91</td>\n",
              "      <td>2</td>\n",
              "      <td>23398</td>\n",
              "    </tr>\n",
              "    <tr>\n",
              "      <th>1</th>\n",
              "      <td>내부자들</td>\n",
              "      <td>(주)쇼박스</td>\n",
              "      <td>느와르</td>\n",
              "      <td>2015-11-19</td>\n",
              "      <td>130</td>\n",
              "      <td>청소년 관람불가</td>\n",
              "      <td>우민호</td>\n",
              "      <td>1161602.50</td>\n",
              "      <td>2</td>\n",
              "      <td>387</td>\n",
              "      <td>3</td>\n",
              "      <td>7072501</td>\n",
              "    </tr>\n",
              "    <tr>\n",
              "      <th>2</th>\n",
              "      <td>은밀하게 위대하게</td>\n",
              "      <td>(주)쇼박스</td>\n",
              "      <td>액션</td>\n",
              "      <td>2013-06-05</td>\n",
              "      <td>123</td>\n",
              "      <td>15세 관람가</td>\n",
              "      <td>장철수</td>\n",
              "      <td>220775.25</td>\n",
              "      <td>4</td>\n",
              "      <td>343</td>\n",
              "      <td>4</td>\n",
              "      <td>6959083</td>\n",
              "    </tr>\n",
              "    <tr>\n",
              "      <th>3</th>\n",
              "      <td>나는 공무원이다</td>\n",
              "      <td>(주)NEW</td>\n",
              "      <td>코미디</td>\n",
              "      <td>2012-07-12</td>\n",
              "      <td>101</td>\n",
              "      <td>전체 관람가</td>\n",
              "      <td>구자홍</td>\n",
              "      <td>23894.00</td>\n",
              "      <td>2</td>\n",
              "      <td>20</td>\n",
              "      <td>6</td>\n",
              "      <td>217866</td>\n",
              "    </tr>\n",
              "    <tr>\n",
              "      <th>4</th>\n",
              "      <td>불량남녀</td>\n",
              "      <td>쇼박스(주)미디어플렉스</td>\n",
              "      <td>코미디</td>\n",
              "      <td>2010-11-04</td>\n",
              "      <td>108</td>\n",
              "      <td>15세 관람가</td>\n",
              "      <td>신근호</td>\n",
              "      <td>1.00</td>\n",
              "      <td>1</td>\n",
              "      <td>251</td>\n",
              "      <td>2</td>\n",
              "      <td>483387</td>\n",
              "    </tr>\n",
              "  </tbody>\n",
              "</table>\n",
              "</div>\n",
              "      <button class=\"colab-df-convert\" onclick=\"convertToInteractive('df-bddf8d13-8bac-4506-adfc-eec88c04908d')\"\n",
              "              title=\"Convert this dataframe to an interactive table.\"\n",
              "              style=\"display:none;\">\n",
              "        \n",
              "  <svg xmlns=\"http://www.w3.org/2000/svg\" height=\"24px\"viewBox=\"0 0 24 24\"\n",
              "       width=\"24px\">\n",
              "    <path d=\"M0 0h24v24H0V0z\" fill=\"none\"/>\n",
              "    <path d=\"M18.56 5.44l.94 2.06.94-2.06 2.06-.94-2.06-.94-.94-2.06-.94 2.06-2.06.94zm-11 1L8.5 8.5l.94-2.06 2.06-.94-2.06-.94L8.5 2.5l-.94 2.06-2.06.94zm10 10l.94 2.06.94-2.06 2.06-.94-2.06-.94-.94-2.06-.94 2.06-2.06.94z\"/><path d=\"M17.41 7.96l-1.37-1.37c-.4-.4-.92-.59-1.43-.59-.52 0-1.04.2-1.43.59L10.3 9.45l-7.72 7.72c-.78.78-.78 2.05 0 2.83L4 21.41c.39.39.9.59 1.41.59.51 0 1.02-.2 1.41-.59l7.78-7.78 2.81-2.81c.8-.78.8-2.07 0-2.86zM5.41 20L4 18.59l7.72-7.72 1.47 1.35L5.41 20z\"/>\n",
              "  </svg>\n",
              "      </button>\n",
              "      \n",
              "  <style>\n",
              "    .colab-df-container {\n",
              "      display:flex;\n",
              "      flex-wrap:wrap;\n",
              "      gap: 12px;\n",
              "    }\n",
              "\n",
              "    .colab-df-convert {\n",
              "      background-color: #E8F0FE;\n",
              "      border: none;\n",
              "      border-radius: 50%;\n",
              "      cursor: pointer;\n",
              "      display: none;\n",
              "      fill: #1967D2;\n",
              "      height: 32px;\n",
              "      padding: 0 0 0 0;\n",
              "      width: 32px;\n",
              "    }\n",
              "\n",
              "    .colab-df-convert:hover {\n",
              "      background-color: #E2EBFA;\n",
              "      box-shadow: 0px 1px 2px rgba(60, 64, 67, 0.3), 0px 1px 3px 1px rgba(60, 64, 67, 0.15);\n",
              "      fill: #174EA6;\n",
              "    }\n",
              "\n",
              "    [theme=dark] .colab-df-convert {\n",
              "      background-color: #3B4455;\n",
              "      fill: #D2E3FC;\n",
              "    }\n",
              "\n",
              "    [theme=dark] .colab-df-convert:hover {\n",
              "      background-color: #434B5C;\n",
              "      box-shadow: 0px 1px 3px 1px rgba(0, 0, 0, 0.15);\n",
              "      filter: drop-shadow(0px 1px 2px rgba(0, 0, 0, 0.3));\n",
              "      fill: #FFFFFF;\n",
              "    }\n",
              "  </style>\n",
              "\n",
              "      <script>\n",
              "        const buttonEl =\n",
              "          document.querySelector('#df-bddf8d13-8bac-4506-adfc-eec88c04908d button.colab-df-convert');\n",
              "        buttonEl.style.display =\n",
              "          google.colab.kernel.accessAllowed ? 'block' : 'none';\n",
              "\n",
              "        async function convertToInteractive(key) {\n",
              "          const element = document.querySelector('#df-bddf8d13-8bac-4506-adfc-eec88c04908d');\n",
              "          const dataTable =\n",
              "            await google.colab.kernel.invokeFunction('convertToInteractive',\n",
              "                                                     [key], {});\n",
              "          if (!dataTable) return;\n",
              "\n",
              "          const docLinkHtml = 'Like what you see? Visit the ' +\n",
              "            '<a target=\"_blank\" href=https://colab.research.google.com/notebooks/data_table.ipynb>data table notebook</a>'\n",
              "            + ' to learn more about interactive tables.';\n",
              "          element.innerHTML = '';\n",
              "          dataTable['output_type'] = 'display_data';\n",
              "          await google.colab.output.renderOutput(dataTable, element);\n",
              "          const docLink = document.createElement('div');\n",
              "          docLink.innerHTML = docLinkHtml;\n",
              "          element.appendChild(docLink);\n",
              "        }\n",
              "      </script>\n",
              "    </div>\n",
              "  </div>\n",
              "  "
            ],
            "text/plain": [
              "       title   distributor genre  ... num_staff  num_actor box_off_num\n",
              "0     개들의 전쟁      롯데엔터테인먼트    액션  ...        91          2       23398\n",
              "1       내부자들        (주)쇼박스   느와르  ...       387          3     7072501\n",
              "2  은밀하게 위대하게        (주)쇼박스    액션  ...       343          4     6959083\n",
              "3   나는 공무원이다        (주)NEW   코미디  ...        20          6      217866\n",
              "4       불량남녀  쇼박스(주)미디어플렉스   코미디  ...       251          2      483387\n",
              "\n",
              "[5 rows x 12 columns]"
            ]
          },
          "metadata": {},
          "execution_count": 1065
        }
      ]
    },
    {
      "cell_type": "code",
      "source": [
        "submission_df = pd.read_csv('movies_test.csv')\n",
        "submission_df.head()"
      ],
      "metadata": {
        "colab": {
          "base_uri": "https://localhost:8080/",
          "height": 206
        },
        "outputId": "ef48265e-47ee-4a09-b30f-2192f12daa9d",
        "id": "65mMMuA1xS5B"
      },
      "execution_count": 1066,
      "outputs": [
        {
          "output_type": "execute_result",
          "data": {
            "text/html": [
              "\n",
              "  <div id=\"df-ea8369df-4ce6-436c-a3dc-591ba023554c\">\n",
              "    <div class=\"colab-df-container\">\n",
              "      <div>\n",
              "<style scoped>\n",
              "    .dataframe tbody tr th:only-of-type {\n",
              "        vertical-align: middle;\n",
              "    }\n",
              "\n",
              "    .dataframe tbody tr th {\n",
              "        vertical-align: top;\n",
              "    }\n",
              "\n",
              "    .dataframe thead th {\n",
              "        text-align: right;\n",
              "    }\n",
              "</style>\n",
              "<table border=\"1\" class=\"dataframe\">\n",
              "  <thead>\n",
              "    <tr style=\"text-align: right;\">\n",
              "      <th></th>\n",
              "      <th>title</th>\n",
              "      <th>distributor</th>\n",
              "      <th>genre</th>\n",
              "      <th>release_time</th>\n",
              "      <th>time</th>\n",
              "      <th>screening_rat</th>\n",
              "      <th>director</th>\n",
              "      <th>dir_prev_bfnum</th>\n",
              "      <th>dir_prev_num</th>\n",
              "      <th>num_staff</th>\n",
              "      <th>num_actor</th>\n",
              "    </tr>\n",
              "  </thead>\n",
              "  <tbody>\n",
              "    <tr>\n",
              "      <th>0</th>\n",
              "      <td>용서는 없다</td>\n",
              "      <td>시네마서비스</td>\n",
              "      <td>느와르</td>\n",
              "      <td>2010-01-07</td>\n",
              "      <td>125</td>\n",
              "      <td>청소년 관람불가</td>\n",
              "      <td>김형준</td>\n",
              "      <td>3.005290e+05</td>\n",
              "      <td>2</td>\n",
              "      <td>304</td>\n",
              "      <td>3</td>\n",
              "    </tr>\n",
              "    <tr>\n",
              "      <th>1</th>\n",
              "      <td>아빠가 여자를 좋아해</td>\n",
              "      <td>(주)쇼박스</td>\n",
              "      <td>멜로/로맨스</td>\n",
              "      <td>2010-01-14</td>\n",
              "      <td>113</td>\n",
              "      <td>12세 관람가</td>\n",
              "      <td>이광재</td>\n",
              "      <td>3.427002e+05</td>\n",
              "      <td>4</td>\n",
              "      <td>275</td>\n",
              "      <td>3</td>\n",
              "    </tr>\n",
              "    <tr>\n",
              "      <th>2</th>\n",
              "      <td>하모니</td>\n",
              "      <td>CJ 엔터테인먼트</td>\n",
              "      <td>드라마</td>\n",
              "      <td>2010-01-28</td>\n",
              "      <td>115</td>\n",
              "      <td>12세 관람가</td>\n",
              "      <td>강대규</td>\n",
              "      <td>4.206611e+06</td>\n",
              "      <td>3</td>\n",
              "      <td>419</td>\n",
              "      <td>7</td>\n",
              "    </tr>\n",
              "    <tr>\n",
              "      <th>3</th>\n",
              "      <td>의형제</td>\n",
              "      <td>(주)쇼박스</td>\n",
              "      <td>액션</td>\n",
              "      <td>2010-02-04</td>\n",
              "      <td>116</td>\n",
              "      <td>15세 관람가</td>\n",
              "      <td>장훈</td>\n",
              "      <td>6.913420e+05</td>\n",
              "      <td>2</td>\n",
              "      <td>408</td>\n",
              "      <td>2</td>\n",
              "    </tr>\n",
              "    <tr>\n",
              "      <th>4</th>\n",
              "      <td>평행 이론</td>\n",
              "      <td>CJ 엔터테인먼트</td>\n",
              "      <td>공포</td>\n",
              "      <td>2010-02-18</td>\n",
              "      <td>110</td>\n",
              "      <td>15세 관람가</td>\n",
              "      <td>권호영</td>\n",
              "      <td>3.173800e+04</td>\n",
              "      <td>1</td>\n",
              "      <td>380</td>\n",
              "      <td>1</td>\n",
              "    </tr>\n",
              "  </tbody>\n",
              "</table>\n",
              "</div>\n",
              "      <button class=\"colab-df-convert\" onclick=\"convertToInteractive('df-ea8369df-4ce6-436c-a3dc-591ba023554c')\"\n",
              "              title=\"Convert this dataframe to an interactive table.\"\n",
              "              style=\"display:none;\">\n",
              "        \n",
              "  <svg xmlns=\"http://www.w3.org/2000/svg\" height=\"24px\"viewBox=\"0 0 24 24\"\n",
              "       width=\"24px\">\n",
              "    <path d=\"M0 0h24v24H0V0z\" fill=\"none\"/>\n",
              "    <path d=\"M18.56 5.44l.94 2.06.94-2.06 2.06-.94-2.06-.94-.94-2.06-.94 2.06-2.06.94zm-11 1L8.5 8.5l.94-2.06 2.06-.94-2.06-.94L8.5 2.5l-.94 2.06-2.06.94zm10 10l.94 2.06.94-2.06 2.06-.94-2.06-.94-.94-2.06-.94 2.06-2.06.94z\"/><path d=\"M17.41 7.96l-1.37-1.37c-.4-.4-.92-.59-1.43-.59-.52 0-1.04.2-1.43.59L10.3 9.45l-7.72 7.72c-.78.78-.78 2.05 0 2.83L4 21.41c.39.39.9.59 1.41.59.51 0 1.02-.2 1.41-.59l7.78-7.78 2.81-2.81c.8-.78.8-2.07 0-2.86zM5.41 20L4 18.59l7.72-7.72 1.47 1.35L5.41 20z\"/>\n",
              "  </svg>\n",
              "      </button>\n",
              "      \n",
              "  <style>\n",
              "    .colab-df-container {\n",
              "      display:flex;\n",
              "      flex-wrap:wrap;\n",
              "      gap: 12px;\n",
              "    }\n",
              "\n",
              "    .colab-df-convert {\n",
              "      background-color: #E8F0FE;\n",
              "      border: none;\n",
              "      border-radius: 50%;\n",
              "      cursor: pointer;\n",
              "      display: none;\n",
              "      fill: #1967D2;\n",
              "      height: 32px;\n",
              "      padding: 0 0 0 0;\n",
              "      width: 32px;\n",
              "    }\n",
              "\n",
              "    .colab-df-convert:hover {\n",
              "      background-color: #E2EBFA;\n",
              "      box-shadow: 0px 1px 2px rgba(60, 64, 67, 0.3), 0px 1px 3px 1px rgba(60, 64, 67, 0.15);\n",
              "      fill: #174EA6;\n",
              "    }\n",
              "\n",
              "    [theme=dark] .colab-df-convert {\n",
              "      background-color: #3B4455;\n",
              "      fill: #D2E3FC;\n",
              "    }\n",
              "\n",
              "    [theme=dark] .colab-df-convert:hover {\n",
              "      background-color: #434B5C;\n",
              "      box-shadow: 0px 1px 3px 1px rgba(0, 0, 0, 0.15);\n",
              "      filter: drop-shadow(0px 1px 2px rgba(0, 0, 0, 0.3));\n",
              "      fill: #FFFFFF;\n",
              "    }\n",
              "  </style>\n",
              "\n",
              "      <script>\n",
              "        const buttonEl =\n",
              "          document.querySelector('#df-ea8369df-4ce6-436c-a3dc-591ba023554c button.colab-df-convert');\n",
              "        buttonEl.style.display =\n",
              "          google.colab.kernel.accessAllowed ? 'block' : 'none';\n",
              "\n",
              "        async function convertToInteractive(key) {\n",
              "          const element = document.querySelector('#df-ea8369df-4ce6-436c-a3dc-591ba023554c');\n",
              "          const dataTable =\n",
              "            await google.colab.kernel.invokeFunction('convertToInteractive',\n",
              "                                                     [key], {});\n",
              "          if (!dataTable) return;\n",
              "\n",
              "          const docLinkHtml = 'Like what you see? Visit the ' +\n",
              "            '<a target=\"_blank\" href=https://colab.research.google.com/notebooks/data_table.ipynb>data table notebook</a>'\n",
              "            + ' to learn more about interactive tables.';\n",
              "          element.innerHTML = '';\n",
              "          dataTable['output_type'] = 'display_data';\n",
              "          await google.colab.output.renderOutput(dataTable, element);\n",
              "          const docLink = document.createElement('div');\n",
              "          docLink.innerHTML = docLinkHtml;\n",
              "          element.appendChild(docLink);\n",
              "        }\n",
              "      </script>\n",
              "    </div>\n",
              "  </div>\n",
              "  "
            ],
            "text/plain": [
              "         title distributor   genre  ... dir_prev_num  num_staff num_actor\n",
              "0       용서는 없다      시네마서비스     느와르  ...            2        304         3\n",
              "1  아빠가 여자를 좋아해      (주)쇼박스  멜로/로맨스  ...            4        275         3\n",
              "2          하모니   CJ 엔터테인먼트     드라마  ...            3        419         7\n",
              "3          의형제      (주)쇼박스      액션  ...            2        408         2\n",
              "4        평행 이론   CJ 엔터테인먼트      공포  ...            1        380         1\n",
              "\n",
              "[5 rows x 11 columns]"
            ]
          },
          "metadata": {},
          "execution_count": 1066
        }
      ]
    },
    {
      "cell_type": "markdown",
      "source": [
        "## train+ submission데이터 합치기"
      ],
      "metadata": {
        "id": "yx3WEPXQxS5B"
      }
    },
    {
      "cell_type": "code",
      "source": [
        "all_df=pd.concat([train_df, submission_df])\n",
        "all_df.head()"
      ],
      "metadata": {
        "colab": {
          "base_uri": "https://localhost:8080/",
          "height": 206
        },
        "outputId": "5633ba51-442b-41d1-b3b8-ec5b9f978a64",
        "id": "wSB4K6OGxS5B"
      },
      "execution_count": 1067,
      "outputs": [
        {
          "output_type": "execute_result",
          "data": {
            "text/html": [
              "\n",
              "  <div id=\"df-7040f434-822b-4ed9-990c-3cfa77469b6e\">\n",
              "    <div class=\"colab-df-container\">\n",
              "      <div>\n",
              "<style scoped>\n",
              "    .dataframe tbody tr th:only-of-type {\n",
              "        vertical-align: middle;\n",
              "    }\n",
              "\n",
              "    .dataframe tbody tr th {\n",
              "        vertical-align: top;\n",
              "    }\n",
              "\n",
              "    .dataframe thead th {\n",
              "        text-align: right;\n",
              "    }\n",
              "</style>\n",
              "<table border=\"1\" class=\"dataframe\">\n",
              "  <thead>\n",
              "    <tr style=\"text-align: right;\">\n",
              "      <th></th>\n",
              "      <th>title</th>\n",
              "      <th>distributor</th>\n",
              "      <th>genre</th>\n",
              "      <th>release_time</th>\n",
              "      <th>time</th>\n",
              "      <th>screening_rat</th>\n",
              "      <th>director</th>\n",
              "      <th>dir_prev_bfnum</th>\n",
              "      <th>dir_prev_num</th>\n",
              "      <th>num_staff</th>\n",
              "      <th>num_actor</th>\n",
              "      <th>box_off_num</th>\n",
              "    </tr>\n",
              "  </thead>\n",
              "  <tbody>\n",
              "    <tr>\n",
              "      <th>0</th>\n",
              "      <td>개들의 전쟁</td>\n",
              "      <td>롯데엔터테인먼트</td>\n",
              "      <td>액션</td>\n",
              "      <td>2012-11-22</td>\n",
              "      <td>96</td>\n",
              "      <td>청소년 관람불가</td>\n",
              "      <td>조병옥</td>\n",
              "      <td>NaN</td>\n",
              "      <td>0</td>\n",
              "      <td>91</td>\n",
              "      <td>2</td>\n",
              "      <td>23398.0</td>\n",
              "    </tr>\n",
              "    <tr>\n",
              "      <th>1</th>\n",
              "      <td>내부자들</td>\n",
              "      <td>(주)쇼박스</td>\n",
              "      <td>느와르</td>\n",
              "      <td>2015-11-19</td>\n",
              "      <td>130</td>\n",
              "      <td>청소년 관람불가</td>\n",
              "      <td>우민호</td>\n",
              "      <td>1161602.50</td>\n",
              "      <td>2</td>\n",
              "      <td>387</td>\n",
              "      <td>3</td>\n",
              "      <td>7072501.0</td>\n",
              "    </tr>\n",
              "    <tr>\n",
              "      <th>2</th>\n",
              "      <td>은밀하게 위대하게</td>\n",
              "      <td>(주)쇼박스</td>\n",
              "      <td>액션</td>\n",
              "      <td>2013-06-05</td>\n",
              "      <td>123</td>\n",
              "      <td>15세 관람가</td>\n",
              "      <td>장철수</td>\n",
              "      <td>220775.25</td>\n",
              "      <td>4</td>\n",
              "      <td>343</td>\n",
              "      <td>4</td>\n",
              "      <td>6959083.0</td>\n",
              "    </tr>\n",
              "    <tr>\n",
              "      <th>3</th>\n",
              "      <td>나는 공무원이다</td>\n",
              "      <td>(주)NEW</td>\n",
              "      <td>코미디</td>\n",
              "      <td>2012-07-12</td>\n",
              "      <td>101</td>\n",
              "      <td>전체 관람가</td>\n",
              "      <td>구자홍</td>\n",
              "      <td>23894.00</td>\n",
              "      <td>2</td>\n",
              "      <td>20</td>\n",
              "      <td>6</td>\n",
              "      <td>217866.0</td>\n",
              "    </tr>\n",
              "    <tr>\n",
              "      <th>4</th>\n",
              "      <td>불량남녀</td>\n",
              "      <td>쇼박스(주)미디어플렉스</td>\n",
              "      <td>코미디</td>\n",
              "      <td>2010-11-04</td>\n",
              "      <td>108</td>\n",
              "      <td>15세 관람가</td>\n",
              "      <td>신근호</td>\n",
              "      <td>1.00</td>\n",
              "      <td>1</td>\n",
              "      <td>251</td>\n",
              "      <td>2</td>\n",
              "      <td>483387.0</td>\n",
              "    </tr>\n",
              "  </tbody>\n",
              "</table>\n",
              "</div>\n",
              "      <button class=\"colab-df-convert\" onclick=\"convertToInteractive('df-7040f434-822b-4ed9-990c-3cfa77469b6e')\"\n",
              "              title=\"Convert this dataframe to an interactive table.\"\n",
              "              style=\"display:none;\">\n",
              "        \n",
              "  <svg xmlns=\"http://www.w3.org/2000/svg\" height=\"24px\"viewBox=\"0 0 24 24\"\n",
              "       width=\"24px\">\n",
              "    <path d=\"M0 0h24v24H0V0z\" fill=\"none\"/>\n",
              "    <path d=\"M18.56 5.44l.94 2.06.94-2.06 2.06-.94-2.06-.94-.94-2.06-.94 2.06-2.06.94zm-11 1L8.5 8.5l.94-2.06 2.06-.94-2.06-.94L8.5 2.5l-.94 2.06-2.06.94zm10 10l.94 2.06.94-2.06 2.06-.94-2.06-.94-.94-2.06-.94 2.06-2.06.94z\"/><path d=\"M17.41 7.96l-1.37-1.37c-.4-.4-.92-.59-1.43-.59-.52 0-1.04.2-1.43.59L10.3 9.45l-7.72 7.72c-.78.78-.78 2.05 0 2.83L4 21.41c.39.39.9.59 1.41.59.51 0 1.02-.2 1.41-.59l7.78-7.78 2.81-2.81c.8-.78.8-2.07 0-2.86zM5.41 20L4 18.59l7.72-7.72 1.47 1.35L5.41 20z\"/>\n",
              "  </svg>\n",
              "      </button>\n",
              "      \n",
              "  <style>\n",
              "    .colab-df-container {\n",
              "      display:flex;\n",
              "      flex-wrap:wrap;\n",
              "      gap: 12px;\n",
              "    }\n",
              "\n",
              "    .colab-df-convert {\n",
              "      background-color: #E8F0FE;\n",
              "      border: none;\n",
              "      border-radius: 50%;\n",
              "      cursor: pointer;\n",
              "      display: none;\n",
              "      fill: #1967D2;\n",
              "      height: 32px;\n",
              "      padding: 0 0 0 0;\n",
              "      width: 32px;\n",
              "    }\n",
              "\n",
              "    .colab-df-convert:hover {\n",
              "      background-color: #E2EBFA;\n",
              "      box-shadow: 0px 1px 2px rgba(60, 64, 67, 0.3), 0px 1px 3px 1px rgba(60, 64, 67, 0.15);\n",
              "      fill: #174EA6;\n",
              "    }\n",
              "\n",
              "    [theme=dark] .colab-df-convert {\n",
              "      background-color: #3B4455;\n",
              "      fill: #D2E3FC;\n",
              "    }\n",
              "\n",
              "    [theme=dark] .colab-df-convert:hover {\n",
              "      background-color: #434B5C;\n",
              "      box-shadow: 0px 1px 3px 1px rgba(0, 0, 0, 0.15);\n",
              "      filter: drop-shadow(0px 1px 2px rgba(0, 0, 0, 0.3));\n",
              "      fill: #FFFFFF;\n",
              "    }\n",
              "  </style>\n",
              "\n",
              "      <script>\n",
              "        const buttonEl =\n",
              "          document.querySelector('#df-7040f434-822b-4ed9-990c-3cfa77469b6e button.colab-df-convert');\n",
              "        buttonEl.style.display =\n",
              "          google.colab.kernel.accessAllowed ? 'block' : 'none';\n",
              "\n",
              "        async function convertToInteractive(key) {\n",
              "          const element = document.querySelector('#df-7040f434-822b-4ed9-990c-3cfa77469b6e');\n",
              "          const dataTable =\n",
              "            await google.colab.kernel.invokeFunction('convertToInteractive',\n",
              "                                                     [key], {});\n",
              "          if (!dataTable) return;\n",
              "\n",
              "          const docLinkHtml = 'Like what you see? Visit the ' +\n",
              "            '<a target=\"_blank\" href=https://colab.research.google.com/notebooks/data_table.ipynb>data table notebook</a>'\n",
              "            + ' to learn more about interactive tables.';\n",
              "          element.innerHTML = '';\n",
              "          dataTable['output_type'] = 'display_data';\n",
              "          await google.colab.output.renderOutput(dataTable, element);\n",
              "          const docLink = document.createElement('div');\n",
              "          docLink.innerHTML = docLinkHtml;\n",
              "          element.appendChild(docLink);\n",
              "        }\n",
              "      </script>\n",
              "    </div>\n",
              "  </div>\n",
              "  "
            ],
            "text/plain": [
              "       title   distributor genre  ... num_staff  num_actor box_off_num\n",
              "0     개들의 전쟁      롯데엔터테인먼트    액션  ...        91          2     23398.0\n",
              "1       내부자들        (주)쇼박스   느와르  ...       387          3   7072501.0\n",
              "2  은밀하게 위대하게        (주)쇼박스    액션  ...       343          4   6959083.0\n",
              "3   나는 공무원이다        (주)NEW   코미디  ...        20          6    217866.0\n",
              "4       불량남녀  쇼박스(주)미디어플렉스   코미디  ...       251          2    483387.0\n",
              "\n",
              "[5 rows x 12 columns]"
            ]
          },
          "metadata": {},
          "execution_count": 1067
        }
      ]
    },
    {
      "cell_type": "code",
      "source": [
        "all_df.info()"
      ],
      "metadata": {
        "colab": {
          "base_uri": "https://localhost:8080/"
        },
        "outputId": "7116581e-4829-4906-9979-1492fc19f5da",
        "id": "snHcKM4bxS5B"
      },
      "execution_count": 1068,
      "outputs": [
        {
          "output_type": "stream",
          "name": "stdout",
          "text": [
            "<class 'pandas.core.frame.DataFrame'>\n",
            "Int64Index: 843 entries, 0 to 242\n",
            "Data columns (total 12 columns):\n",
            " #   Column          Non-Null Count  Dtype  \n",
            "---  ------          --------------  -----  \n",
            " 0   title           843 non-null    object \n",
            " 1   distributor     843 non-null    object \n",
            " 2   genre           843 non-null    object \n",
            " 3   release_time    843 non-null    object \n",
            " 4   time            843 non-null    int64  \n",
            " 5   screening_rat   843 non-null    object \n",
            " 6   director        843 non-null    object \n",
            " 7   dir_prev_bfnum  377 non-null    float64\n",
            " 8   dir_prev_num    843 non-null    int64  \n",
            " 9   num_staff       843 non-null    int64  \n",
            " 10  num_actor       843 non-null    int64  \n",
            " 11  box_off_num     600 non-null    float64\n",
            "dtypes: float64(2), int64(4), object(6)\n",
            "memory usage: 85.6+ KB\n"
          ]
        }
      ]
    },
    {
      "cell_type": "markdown",
      "source": [
        "##release_time값 조정\n",
        "\n",
        "'2021-12-31'같은 값을 '2021-12'로 변경"
      ],
      "metadata": {
        "id": "MI07ocy3yHX9"
      }
    },
    {
      "cell_type": "code",
      "source": [
        "print(all_df.release_time[:5])\n",
        "all_df['release_time'] = all_df.release_time.str[:7]\n",
        "print(all_df.release_time[:5])"
      ],
      "metadata": {
        "colab": {
          "base_uri": "https://localhost:8080/"
        },
        "id": "xRRGcvfAyh-V",
        "outputId": "7ad4c351-9f1c-490d-d276-cd670c330f70"
      },
      "execution_count": 1069,
      "outputs": [
        {
          "output_type": "stream",
          "name": "stdout",
          "text": [
            "0    2012-11-22\n",
            "1    2015-11-19\n",
            "2    2013-06-05\n",
            "3    2012-07-12\n",
            "4    2010-11-04\n",
            "Name: release_time, dtype: object\n",
            "0    2012-11\n",
            "1    2015-11\n",
            "2    2013-06\n",
            "3    2012-07\n",
            "4    2010-11\n",
            "Name: release_time, dtype: object\n"
          ]
        }
      ]
    },
    {
      "cell_type": "markdown",
      "source": [
        "##카테고리 데이터 인고딩"
      ],
      "metadata": {
        "id": "U3_mXYRoxS5B"
      }
    },
    {
      "cell_type": "code",
      "source": [
        "all_df.distributor = all_df.distributor.astype('category')\n",
        "all_df['distributor_code'] = all_df.distributor.cat.codes\n",
        "\n",
        "all_df.genre = all_df.genre.astype('category')\n",
        "all_df['genre_code'] = all_df.genre.cat.codes\n",
        "\n",
        "all_df.screening_rat = all_df.screening_rat.astype('category')\n",
        "all_df['screening_rat_code'] = all_df.screening_rat.cat.codes\n",
        "\n",
        "\n",
        "all_df.release_time = all_df.release_time.astype('category')\n",
        "all_df['release_time_code'] = all_df.release_time.cat.codes"
      ],
      "metadata": {
        "id": "Ap3PIXt7xS5B"
      },
      "execution_count": 1070,
      "outputs": []
    },
    {
      "cell_type": "markdown",
      "source": [
        "##카테코리 데이터 one-hot 인코딩"
      ],
      "metadata": {
        "id": "mwdHL0pRxS5B"
      }
    },
    {
      "cell_type": "code",
      "source": [
        "all_df = pd.get_dummies(all_df, columns = ['distributor_code'])\n",
        "all_df = pd.get_dummies(all_df, columns = ['genre_code'])\n",
        "all_df = pd.get_dummies(all_df, columns = ['screening_rat_code'])\n",
        "all_df = pd.get_dummies(all_df, columns = ['release_time_code'])"
      ],
      "metadata": {
        "id": "XtMyu_-6xS5B"
      },
      "execution_count": 1071,
      "outputs": []
    },
    {
      "cell_type": "code",
      "source": [
        "all_df.info()"
      ],
      "metadata": {
        "colab": {
          "base_uri": "https://localhost:8080/"
        },
        "outputId": "bedb0ba7-d70b-4da0-f797-d77d2f4e2272",
        "id": "unp3XE2rxS5B"
      },
      "execution_count": 1072,
      "outputs": [
        {
          "output_type": "stream",
          "name": "stdout",
          "text": [
            "<class 'pandas.core.frame.DataFrame'>\n",
            "Int64Index: 843 entries, 0 to 242\n",
            "Columns: 304 entries, title to release_time_code_71\n",
            "dtypes: category(4), float64(2), int64(4), object(2), uint8(292)\n",
            "memory usage: 319.0+ KB\n"
          ]
        }
      ]
    },
    {
      "cell_type": "markdown",
      "source": [
        "##안쓸 컬럼 삭제"
      ],
      "metadata": {
        "id": "qZci5kbjxS5C"
      }
    },
    {
      "cell_type": "code",
      "source": [
        "all_df.drop(columns=[\"title\", \n",
        "                     \"distributor\", \n",
        "                     \"genre\", \n",
        "                     \"release_time\", \n",
        "                     \"screening_rat\", \n",
        "                     \"director\"], inplace=True)\n",
        "all_df.info()"
      ],
      "metadata": {
        "colab": {
          "base_uri": "https://localhost:8080/"
        },
        "outputId": "53f1f752-d2ef-49b7-df02-1b96c6752609",
        "id": "B9PMnet5xS5C"
      },
      "execution_count": 1073,
      "outputs": [
        {
          "output_type": "stream",
          "name": "stdout",
          "text": [
            "<class 'pandas.core.frame.DataFrame'>\n",
            "Int64Index: 843 entries, 0 to 242\n",
            "Columns: 298 entries, time to release_time_code_71\n",
            "dtypes: float64(2), int64(4), uint8(292)\n",
            "memory usage: 286.5 KB\n"
          ]
        }
      ]
    },
    {
      "cell_type": "markdown",
      "source": [
        "##결측치 처리"
      ],
      "metadata": {
        "id": "k4Gdj84-xS5C"
      }
    },
    {
      "cell_type": "code",
      "source": [
        "all_df = all_df.fillna(0)"
      ],
      "metadata": {
        "id": "3SUMqsbYxS5C"
      },
      "execution_count": 1074,
      "outputs": []
    },
    {
      "cell_type": "code",
      "source": [
        "all_df.info()"
      ],
      "metadata": {
        "colab": {
          "base_uri": "https://localhost:8080/"
        },
        "outputId": "026261c0-54cc-44e1-f68a-1440c8f0905c",
        "id": "N4MBA0ekxS5C"
      },
      "execution_count": 1075,
      "outputs": [
        {
          "output_type": "stream",
          "name": "stdout",
          "text": [
            "<class 'pandas.core.frame.DataFrame'>\n",
            "Int64Index: 843 entries, 0 to 242\n",
            "Columns: 298 entries, time to release_time_code_71\n",
            "dtypes: float64(2), int64(4), uint8(292)\n",
            "memory usage: 286.5 KB\n"
          ]
        }
      ]
    },
    {
      "cell_type": "markdown",
      "source": [
        "##전처리 전의 데이터 분포 보기"
      ],
      "metadata": {
        "id": "kD-Rs-UUxS5C"
      }
    },
    {
      "cell_type": "markdown",
      "source": [
        "###time"
      ],
      "metadata": {
        "id": "aUSPWjvvxS5C"
      }
    },
    {
      "cell_type": "code",
      "source": [
        "plt.hist(all_df.time, bins=100)\n",
        "plt.show()"
      ],
      "metadata": {
        "colab": {
          "base_uri": "https://localhost:8080/",
          "height": 264
        },
        "outputId": "c1872ef2-fe65-4a90-f76b-ca76c7ee7bce",
        "id": "IRyjZRbSxS5C"
      },
      "execution_count": 1076,
      "outputs": [
        {
          "output_type": "display_data",
          "data": {
            "image/png": "[encoded data removed]",
            "text/plain": [
              "<Figure size 432x288 with 1 Axes>"
            ]
          },
          "metadata": {
            "needs_background": "light"
          }
        }
      ]
    },
    {
      "cell_type": "markdown",
      "source": [
        "###dir_prev_bfnum"
      ],
      "metadata": {
        "id": "dWsZE-BVxS5C"
      }
    },
    {
      "cell_type": "code",
      "source": [
        "plt.hist(all_df.dir_prev_bfnum, bins=100)\n",
        "plt.show()"
      ],
      "metadata": {
        "colab": {
          "base_uri": "https://localhost:8080/",
          "height": 277
        },
        "outputId": "dfcdffd0-6a36-4a6d-f89f-696e6b238442",
        "id": "DGooJe4HxS5C"
      },
      "execution_count": 1077,
      "outputs": [
        {
          "output_type": "display_data",
          "data": {
            "image/png": "[encoded data removed]",
            "text/plain": [
              "<Figure size 432x288 with 1 Axes>"
            ]
          },
          "metadata": {
            "needs_background": "light"
          }
        }
      ]
    },
    {
      "cell_type": "markdown",
      "source": [
        "###dir_prev_num"
      ],
      "metadata": {
        "id": "m0x2CMmgxS5C"
      }
    },
    {
      "cell_type": "code",
      "source": [
        "plt.hist(all_df.dir_prev_num, bins=100)\n",
        "plt.show()"
      ],
      "metadata": {
        "colab": {
          "base_uri": "https://localhost:8080/",
          "height": 264
        },
        "outputId": "c2797d39-d4d6-440b-adf8-d25cd76cf794",
        "id": "lYFiXYYsxS5C"
      },
      "execution_count": 1078,
      "outputs": [
        {
          "output_type": "display_data",
          "data": {
            "image/png": "[encoded data removed]",
            "text/plain": [
              "<Figure size 432x288 with 1 Axes>"
            ]
          },
          "metadata": {
            "needs_background": "light"
          }
        }
      ]
    },
    {
      "cell_type": "markdown",
      "source": [
        "###num_staff"
      ],
      "metadata": {
        "id": "q1j70gBlxS5D"
      }
    },
    {
      "cell_type": "code",
      "source": [
        "plt.hist(all_df.num_staff, bins=100)\n",
        "plt.show()"
      ],
      "metadata": {
        "colab": {
          "base_uri": "https://localhost:8080/",
          "height": 265
        },
        "outputId": "cf4a5b48-1b91-468e-945c-be4288d48c41",
        "id": "ToseNN8ZxS5D"
      },
      "execution_count": 1079,
      "outputs": [
        {
          "output_type": "display_data",
          "data": {
            "image/png": "[encoded data removed]",
            "text/plain": [
              "<Figure size 432x288 with 1 Axes>"
            ]
          },
          "metadata": {
            "needs_background": "light"
          }
        }
      ]
    },
    {
      "cell_type": "markdown",
      "source": [
        "###num_actor"
      ],
      "metadata": {
        "id": "TzbOltHGxS5D"
      }
    },
    {
      "cell_type": "code",
      "source": [
        "plt.hist(all_df.num_actor, bins=100)\n",
        "plt.show()"
      ],
      "metadata": {
        "colab": {
          "base_uri": "https://localhost:8080/",
          "height": 264
        },
        "outputId": "46ee0c77-0f66-4029-f328-1b3ccb77f251",
        "id": "3WwNvyazxS5D"
      },
      "execution_count": 1080,
      "outputs": [
        {
          "output_type": "display_data",
          "data": {
            "image/png": "[encoded data removed]",
            "text/plain": [
              "<Figure size 432x288 with 1 Axes>"
            ]
          },
          "metadata": {
            "needs_background": "light"
          }
        }
      ]
    },
    {
      "cell_type": "markdown",
      "source": [
        "###box_off_num"
      ],
      "metadata": {
        "id": "54WrggGWxS5D"
      }
    },
    {
      "cell_type": "code",
      "source": [
        "plt.hist(all_df.box_off_num, bins=100)\n",
        "plt.show()"
      ],
      "metadata": {
        "colab": {
          "base_uri": "https://localhost:8080/",
          "height": 277
        },
        "outputId": "7cde931f-7b69-4b58-9699-67626bbd3955",
        "id": "-rOj8jv_xS5D"
      },
      "execution_count": 1081,
      "outputs": [
        {
          "output_type": "display_data",
          "data": {
            "image/png": "[encoded data removed]",
            "text/plain": [
              "<Figure size 432x288 with 1 Axes>"
            ]
          },
          "metadata": {
            "needs_background": "light"
          }
        }
      ]
    },
    {
      "cell_type": "markdown",
      "source": [
        "##컬럼 별 전처리"
      ],
      "metadata": {
        "id": "WAKGtm6OxS5D"
      }
    },
    {
      "cell_type": "markdown",
      "source": [
        "###time\n"
      ],
      "metadata": {
        "id": "nYKNr_1HxS5D"
      }
    },
    {
      "cell_type": "code",
      "source": [
        "all_df.loc[all_df.time>200, 'time'] =200"
      ],
      "metadata": {
        "id": "-4H5W88wxS5D"
      },
      "execution_count": 1082,
      "outputs": []
    },
    {
      "cell_type": "markdown",
      "source": [
        "###dir_prev_bfum"
      ],
      "metadata": {
        "id": "iD8bAOVtxS5D"
      }
    },
    {
      "cell_type": "code",
      "source": [
        "all_df['dir_prev_bfnum']=np.log1p(all_df.dir_prev_bfnum)"
      ],
      "metadata": {
        "id": "dFYKMD3zxS5D"
      },
      "execution_count": 1083,
      "outputs": []
    },
    {
      "cell_type": "markdown",
      "source": [
        "###num_staff \n",
        "####1을 더한 로그처리한다."
      ],
      "metadata": {
        "id": "nF9RWu7jxS5D"
      }
    },
    {
      "cell_type": "code",
      "source": [
        "all_df['num_staff']= np.log1p(all_df.num_staff)"
      ],
      "metadata": {
        "id": "qeiXb_SexS5D"
      },
      "execution_count": 1084,
      "outputs": []
    },
    {
      "cell_type": "markdown",
      "source": [
        "###num_actor\n",
        "####10보다 큰 이상치를 10으로 변환"
      ],
      "metadata": {
        "id": "ZX155yyMxS5E"
      }
    },
    {
      "cell_type": "code",
      "source": [
        "all_df.loc[all_df.num_actor>10, 'num_actor'] = 10"
      ],
      "metadata": {
        "id": "P3CUnjxRxS5E"
      },
      "execution_count": 1085,
      "outputs": []
    },
    {
      "cell_type": "markdown",
      "source": [
        "###box_off_num\n",
        "####1을 더한 로그처리한다."
      ],
      "metadata": {
        "id": "1fInDRhGxS5E"
      }
    },
    {
      "cell_type": "code",
      "source": [
        "all_df['box_off_num']= np.log1p(all_df.box_off_num)"
      ],
      "metadata": {
        "id": "PgBabfaNxS5E"
      },
      "execution_count": 1086,
      "outputs": []
    },
    {
      "cell_type": "markdown",
      "source": [
        "## Normalization"
      ],
      "metadata": {
        "id": "fvorGYBpxS5E"
      }
    },
    {
      "cell_type": "code",
      "source": [
        "all_df['time']            = (all_df.time - all_df.time.min()) / ( all_df.time.max() - all_df.time.min())\n",
        "all_df['dir_prev_bfnum']  = (all_df.dir_prev_bfnum - all_df.dir_prev_bfnum.min()) / ( all_df.dir_prev_bfnum.max() - all_df.dir_prev_bfnum.min())\n",
        "all_df['dir_prev_num']    = (all_df.dir_prev_num - all_df.dir_prev_num.min()) / ( all_df.dir_prev_num.max() - all_df.dir_prev_num.min())\n",
        "all_df['num_staff']       = (all_df.num_staff - all_df.num_staff.min()) / ( all_df.num_staff.max() - all_df.num_staff.min())\n",
        "all_df['num_actor']       = (all_df.num_actor - all_df.num_actor.min()) / ( all_df.num_actor.max() - all_df.num_actor.min())"
      ],
      "metadata": {
        "id": "H4pdaOk2xS5E"
      },
      "execution_count": 1087,
      "outputs": []
    },
    {
      "cell_type": "code",
      "source": [
        "y_max= all_df.box_off_num.max()\n",
        "y_min= all_df.box_off_num.min()\n",
        "\n",
        "all_df['box_off_num'] = (all_df.box_off_num - y_min) / ( y_max - y_min )"
      ],
      "metadata": {
        "id": "IxPwotgExS5E"
      },
      "execution_count": 1088,
      "outputs": []
    },
    {
      "cell_type": "markdown",
      "source": [
        "##전처리 후의 데이터 분포 보기"
      ],
      "metadata": {
        "id": "Ob3_Dj0yxS5E"
      }
    },
    {
      "cell_type": "markdown",
      "source": [
        "###time"
      ],
      "metadata": {
        "id": "4hHDaARzxS5E"
      }
    },
    {
      "cell_type": "code",
      "source": [
        "plt.hist(all_df.time, bins=100)\n",
        "plt.show()"
      ],
      "metadata": {
        "colab": {
          "base_uri": "https://localhost:8080/",
          "height": 264
        },
        "outputId": "495f185a-4be1-4d01-8977-95978749c60d",
        "id": "9MbxWfnCxS5E"
      },
      "execution_count": 1089,
      "outputs": [
        {
          "output_type": "display_data",
          "data": {
            "image/png": "[encoded data removed]",
            "text/plain": [
              "<Figure size 432x288 with 1 Axes>"
            ]
          },
          "metadata": {
            "needs_background": "light"
          }
        }
      ]
    },
    {
      "cell_type": "markdown",
      "source": [
        "###dir_prev_bfnum"
      ],
      "metadata": {
        "id": "RnJjPovFxS5E"
      }
    },
    {
      "cell_type": "code",
      "source": [
        "plt.hist(all_df.dir_prev_bfnum, bins=100)\n",
        "plt.show()"
      ],
      "metadata": {
        "colab": {
          "base_uri": "https://localhost:8080/",
          "height": 264
        },
        "outputId": "f1ce9574-5164-4a3b-8560-50a170476833",
        "id": "1zSUAxh6xS5E"
      },
      "execution_count": 1090,
      "outputs": [
        {
          "output_type": "display_data",
          "data": {
            "image/png": "[encoded data removed]",
            "text/plain": [
              "<Figure size 432x288 with 1 Axes>"
            ]
          },
          "metadata": {
            "needs_background": "light"
          }
        }
      ]
    },
    {
      "cell_type": "markdown",
      "source": [
        "###dir_prev_num"
      ],
      "metadata": {
        "id": "oCy6miUnxS5E"
      }
    },
    {
      "cell_type": "code",
      "source": [
        "plt.hist(all_df.dir_prev_num, bins=100)\n",
        "plt.show()"
      ],
      "metadata": {
        "colab": {
          "base_uri": "https://localhost:8080/",
          "height": 264
        },
        "outputId": "23ef9454-2bcd-41e3-ca1d-45c61611c2c5",
        "id": "jI5I1RxRxS5E"
      },
      "execution_count": 1091,
      "outputs": [
        {
          "output_type": "display_data",
          "data": {
            "image/png": "[encoded data removed]",
            "text/plain": [
              "<Figure size 432x288 with 1 Axes>"
            ]
          },
          "metadata": {
            "needs_background": "light"
          }
        }
      ]
    },
    {
      "cell_type": "markdown",
      "source": [
        "###num_staff"
      ],
      "metadata": {
        "id": "3E3rsq_9xS5F"
      }
    },
    {
      "cell_type": "code",
      "source": [
        "plt.hist(all_df.num_staff, bins=100)\n",
        "plt.show()"
      ],
      "metadata": {
        "colab": {
          "base_uri": "https://localhost:8080/",
          "height": 264
        },
        "outputId": "639e7994-21c6-414b-abab-e7eb1ce80944",
        "id": "E6gVyR_UxS5F"
      },
      "execution_count": 1092,
      "outputs": [
        {
          "output_type": "display_data",
          "data": {
            "image/png": "[encoded data removed]",
            "text/plain": [
              "<Figure size 432x288 with 1 Axes>"
            ]
          },
          "metadata": {
            "needs_background": "light"
          }
        }
      ]
    },
    {
      "cell_type": "markdown",
      "source": [
        "###num_actor"
      ],
      "metadata": {
        "id": "fVaQ8F0ZxS5F"
      }
    },
    {
      "cell_type": "code",
      "source": [
        "plt.hist(all_df.num_actor, bins=100)\n",
        "plt.show()"
      ],
      "metadata": {
        "colab": {
          "base_uri": "https://localhost:8080/",
          "height": 264
        },
        "outputId": "aa973655-895d-48b5-9d22-e9f749b72872",
        "id": "btlwDxlvxS5F"
      },
      "execution_count": 1093,
      "outputs": [
        {
          "output_type": "display_data",
          "data": {
            "image/png": "[encoded data removed]",
            "text/plain": [
              "<Figure size 432x288 with 1 Axes>"
            ]
          },
          "metadata": {
            "needs_background": "light"
          }
        }
      ]
    },
    {
      "cell_type": "markdown",
      "source": [
        "###box_off_num"
      ],
      "metadata": {
        "id": "AGmJk3LsxS5F"
      }
    },
    {
      "cell_type": "code",
      "source": [
        "plt.hist(all_df.box_off_num, bins=100)\n",
        "plt.show()"
      ],
      "metadata": {
        "colab": {
          "base_uri": "https://localhost:8080/",
          "height": 264
        },
        "outputId": "c50bf752-eae6-477b-ac42-6b121eafa16b",
        "id": "BfhniQxsxS5F"
      },
      "execution_count": 1094,
      "outputs": [
        {
          "output_type": "display_data",
          "data": {
            "image/png": "[encoded data removed]",
            "text/plain": [
              "<Figure size 432x288 with 1 Axes>"
            ]
          },
          "metadata": {
            "needs_background": "light"
          }
        }
      ]
    },
    {
      "cell_type": "markdown",
      "source": [
        "##train, test, submission 데이터 분리"
      ],
      "metadata": {
        "id": "fJuomnVVxS5F"
      }
    },
    {
      "cell_type": "code",
      "source": [
        "train_df = all_df[0:500]\n",
        "test_df = all_df[500:600]\n",
        "submission_df = all_df[600:]\n",
        "\n",
        "print(len(train_df))\n",
        "print(len(test_df))\n",
        "print(len(submission_df))"
      ],
      "metadata": {
        "colab": {
          "base_uri": "https://localhost:8080/"
        },
        "outputId": "c41066ae-59eb-4dad-d18c-12d7d3408488",
        "id": "-opPV4EqxS5F"
      },
      "execution_count": 1095,
      "outputs": [
        {
          "output_type": "stream",
          "name": "stdout",
          "text": [
            "500\n",
            "100\n",
            "243\n"
          ]
        }
      ]
    },
    {
      "cell_type": "markdown",
      "source": [
        "## x,y로 분리"
      ],
      "metadata": {
        "id": "U3cW8hXWxS5F"
      }
    },
    {
      "cell_type": "code",
      "source": [
        "train_y = train_df.box_off_num.to_numpy()\n",
        "\n",
        "train_x_df= train_df.drop(columns=['box_off_num'])\n",
        "\n",
        "train_x = train_x_df.to_numpy()\n",
        "\n",
        "print(train_x.shape)\n",
        "print(train_y.shape)"
      ],
      "metadata": {
        "colab": {
          "base_uri": "https://localhost:8080/"
        },
        "outputId": "ad069b0f-1c68-4b30-ff51-4006d2ef6fd3",
        "id": "nGg9u4uixS5F"
      },
      "execution_count": 1096,
      "outputs": [
        {
          "output_type": "stream",
          "name": "stdout",
          "text": [
            "(500, 297)\n",
            "(500,)\n"
          ]
        }
      ]
    },
    {
      "cell_type": "code",
      "source": [
        "test_y = test_df.box_off_num.to_numpy()\n",
        "\n",
        "test_x_df= test_df.drop(columns=['box_off_num'])\n",
        "\n",
        "test_x = test_x_df.to_numpy()\n",
        "\n",
        "print(test_x.shape)\n",
        "print(test_y.shape)"
      ],
      "metadata": {
        "colab": {
          "base_uri": "https://localhost:8080/"
        },
        "outputId": "cc7216ee-5ef3-4f48-bae7-82b8d7c1c135",
        "id": "llIYAhHvxS5F"
      },
      "execution_count": 1097,
      "outputs": [
        {
          "output_type": "stream",
          "name": "stdout",
          "text": [
            "(100, 297)\n",
            "(100,)\n"
          ]
        }
      ]
    },
    {
      "cell_type": "code",
      "source": [
        "submission_x_df= submission_df.drop(columns=['box_off_num'])\n",
        "submission_x = submission_x_df.to_numpy()\n",
        "print(submission_x.shape)"
      ],
      "metadata": {
        "colab": {
          "base_uri": "https://localhost:8080/"
        },
        "outputId": "b2f12b6b-e065-4b40-9f5a-a1f1d54d3beb",
        "id": "7ALW3enwxS5F"
      },
      "execution_count": 1098,
      "outputs": [
        {
          "output_type": "stream",
          "name": "stdout",
          "text": [
            "(243, 297)\n"
          ]
        }
      ]
    },
    {
      "cell_type": "markdown",
      "source": [
        "##딥러닝 학습"
      ],
      "metadata": {
        "id": "6nqW7hB9xS5G"
      }
    },
    {
      "cell_type": "code",
      "source": [
        "print(train_x.shape)\n",
        "print(train_x.shape[1])"
      ],
      "metadata": {
        "colab": {
          "base_uri": "https://localhost:8080/"
        },
        "outputId": "7d1733d3-7843-45f3-b809-24d46e3ba966",
        "id": "-o7_V6wrxS5G"
      },
      "execution_count": 1099,
      "outputs": [
        {
          "output_type": "stream",
          "name": "stdout",
          "text": [
            "(500, 297)\n",
            "297\n"
          ]
        }
      ]
    },
    {
      "cell_type": "code",
      "source": [
        "import numpy as np\n",
        "import pandas as pd\n",
        "import matplotlib.pyplot as plt\n",
        "\n",
        "import tensorflow as tf\n",
        "\n",
        "from tensorflow import keras\n",
        "from tensorflow.keras import optimizers\n",
        "from tensorflow.keras.layers import Dense\n",
        "\n",
        "model = keras.Sequential()\n",
        "model.add(Dense(10, activation='relu', input_shape=(train_x.shape[1],)))\n",
        "model.add(Dense(10, activation='relu'))\n",
        "model.add(Dense(1))\n",
        "\n",
        "model.compile(optimizer=\"SGD\", loss=\"mse\", metrics=[\"mape\"])\n",
        "model.summary()\n",
        "\n",
        "history = model.fit(train_x, train_y, epochs=1, verbose=0, batch_size=512, validation_split=0.1)\n",
        "\n",
        "plt.plot(history.history['loss'])\n",
        "plt.plot(history.history['val_loss'])\n",
        "plt.show()\n"
      ],
      "metadata": {
        "colab": {
          "base_uri": "https://localhost:8080/",
          "height": 542
        },
        "outputId": "265a7537-b795-4d3e-b12e-6561ea38045e",
        "id": "5Hfs0hVsxS5G"
      },
      "execution_count": 1100,
      "outputs": [
        {
          "output_type": "stream",
          "name": "stdout",
          "text": [
            "Model: \"sequential_36\"\n",
            "_________________________________________________________________\n",
            " Layer (type)                Output Shape              Param #   \n",
            "=================================================================\n",
            " dense_102 (Dense)           (None, 10)                2980      \n",
            "                                                                 \n",
            " dense_103 (Dense)           (None, 10)                110       \n",
            "                                                                 \n",
            " dense_104 (Dense)           (None, 1)                 11        \n",
            "                                                                 \n",
            "=================================================================\n",
            "Total params: 3,101\n",
            "Trainable params: 3,101\n",
            "Non-trainable params: 0\n",
            "_________________________________________________________________\n"
          ]
        },
        {
          "output_type": "display_data",
          "data": {
            "image/png": "[encoded data removed]",
            "text/plain": [
              "<Figure size 432x288 with 1 Axes>"
            ]
          },
          "metadata": {
            "needs_background": "light"
          }
        }
      ]
    },
    {
      "cell_type": "code",
      "source": [
        "plt.plot(history.history['loss'][-500:])\n",
        "plt.plot(history.history['val_loss'][-500:])\n",
        "plt.show()\n"
      ],
      "metadata": {
        "colab": {
          "base_uri": "https://localhost:8080/",
          "height": 264
        },
        "id": "HHVyURGZ3caO",
        "outputId": "3ad2fa19-f768-4351-8787-1c06c9f8bd27"
      },
      "execution_count": 1101,
      "outputs": [
        {
          "output_type": "display_data",
          "data": {
            "image/png": "[encoded data removed]",
            "text/plain": [
              "<Figure size 432x288 with 1 Axes>"
            ]
          },
          "metadata": {
            "needs_background": "light"
          }
        }
      ]
    },
    {
      "cell_type": "code",
      "source": [
        "loss, mape = model.evaluate(test_x, test_y)\n",
        "print(\"loss=\", loss)\n",
        "print(\"mape=\", mape)\n",
        "\n",
        "y_ = model.predict(test_x)\n",
        "\n",
        "plt.scatter(test_y, y_)\n",
        "plt.show()"
      ],
      "metadata": {
        "colab": {
          "base_uri": "https://localhost:8080/",
          "height": 324
        },
        "id": "06sooAZz3_r9",
        "outputId": "f8f1fb26-908f-491a-c9dd-4b7a27bed471"
      },
      "execution_count": 1102,
      "outputs": [
        {
          "output_type": "stream",
          "name": "stdout",
          "text": [
            "4/4 [==============================] - 0s 3ms/step - loss: 0.3908 - mape: 97.6427\n",
            "loss= 0.3907738924026489\n",
            "mape= 97.64273071289062\n"
          ]
        },
        {
          "output_type": "display_data",
          "data": {
            "image/png": "[encoded data removed]",
            "text/plain": [
              "<Figure size 432x288 with 1 Axes>"
            ]
          },
          "metadata": {
            "needs_background": "light"
          }
        }
      ]
    },
    {
      "cell_type": "markdown",
      "source": [
        "##RMSE계산하기"
      ],
      "metadata": {
        "id": "mNcWKDKuxS5G"
      }
    },
    {
      "cell_type": "code",
      "source": [
        "from tensorflow.keras.metrics import RootMeanSquaredError\n",
        "\n",
        "predicted = y_ * ( y_max - y_min) + y_min\n",
        "predicted = np.exp(predicted) - 1.\n",
        "\n",
        "org_test_y = test_y * ( y_max - y_min) + y_min\n",
        "org_test_y = np.exp(org_test_y) - 1.\n",
        "\n",
        "\n",
        "rmse = RootMeanSquaredError()(org_test_y, predicted)\n",
        "print(\"rmse = \", rmse)\n",
        "\n",
        "plt.hist(predicted, bins=100)\n",
        "plt.show()\n",
        "plt.hist(org_test_y, bins=100)\n",
        "plt.show()  \n"
      ],
      "metadata": {
        "colab": {
          "base_uri": "https://localhost:8080/",
          "height": 547
        },
        "outputId": "6ad0ab76-f0d7-4962-bdf2-445b9c1dbca8",
        "id": "xkZ887_5xS5G"
      },
      "execution_count": 1103,
      "outputs": [
        {
          "output_type": "stream",
          "name": "stdout",
          "text": [
            "rmse =  tf.Tensor(1953054.9, shape=(), dtype=float32)\n"
          ]
        },
        {
          "output_type": "display_data",
          "data": {
            "image/png": "[encoded data removed]",
            "text/plain": [
              "<Figure size 432x288 with 1 Axes>"
            ]
          },
          "metadata": {
            "needs_background": "light"
          }
        },
        {
          "output_type": "display_data",
          "data": {
            "image/png": "[encoded data removed]",
            "text/plain": [
              "<Figure size 432x288 with 1 Axes>"
            ]
          },
          "metadata": {
            "needs_background": "light"
          }
        }
      ]
    },
    {
      "cell_type": "markdown",
      "source": [
        "##예측하기"
      ],
      "metadata": {
        "id": "7ojcmTKixS5G"
      }
    },
    {
      "cell_type": "code",
      "source": [
        "predicted = model.predict(submission_x)"
      ],
      "metadata": {
        "id": "nQ1ZSkRbxS5G"
      },
      "execution_count": 1104,
      "outputs": []
    },
    {
      "cell_type": "code",
      "source": [
        "plt.hist(predicted, bins=100)\n",
        "plt.show()"
      ],
      "metadata": {
        "colab": {
          "base_uri": "https://localhost:8080/",
          "height": 264
        },
        "outputId": "31a9ec48-e85f-4e78-a1e2-7c0a25938aec",
        "id": "pLqHXT_hxS5G"
      },
      "execution_count": 1105,
      "outputs": [
        {
          "output_type": "display_data",
          "data": {
            "image/png": "[encoded data removed]",
            "text/plain": [
              "<Figure size 432x288 with 1 Axes>"
            ]
          },
          "metadata": {
            "needs_background": "light"
          }
        }
      ]
    },
    {
      "cell_type": "markdown",
      "source": [
        "normalized = (t-min) / (max-min)\n",
        "\n",
        "t-min = mormalized*(min-max)\n",
        "\n",
        "t=normalized*(max-min)+min"
      ],
      "metadata": {
        "id": "ygGtgm4RxS5G"
      }
    },
    {
      "cell_type": "code",
      "source": [
        "predicted = predicted * (y_max - y_min) + y_min"
      ],
      "metadata": {
        "id": "r1PcTK-6xS5G"
      },
      "execution_count": 1106,
      "outputs": []
    },
    {
      "cell_type": "code",
      "source": [
        "plt.hist(predicted, bins=100)\n",
        "plt.show()"
      ],
      "metadata": {
        "colab": {
          "base_uri": "https://localhost:8080/",
          "height": 264
        },
        "outputId": "5024a60f-5ff0-42dd-88e3-4585fb949f5d",
        "id": "Vj_bi98GxS5G"
      },
      "execution_count": 1107,
      "outputs": [
        {
          "output_type": "display_data",
          "data": {
            "image/png": "[encoded data removed]",
            "text/plain": [
              "<Figure size 432x288 with 1 Axes>"
            ]
          },
          "metadata": {
            "needs_background": "light"
          }
        }
      ]
    },
    {
      "cell_type": "code",
      "source": [
        "predicted = np.exp(predicted) - 1"
      ],
      "metadata": {
        "id": "OIf293sxxS5H"
      },
      "execution_count": 1108,
      "outputs": []
    },
    {
      "cell_type": "code",
      "source": [
        "plt.hist(predicted, bins=100)\n",
        "plt.show()"
      ],
      "metadata": {
        "colab": {
          "base_uri": "https://localhost:8080/",
          "height": 267
        },
        "outputId": "97c995ca-61dc-4ab4-ddeb-fca24912444c",
        "id": "m8MdDTJJxS5H"
      },
      "execution_count": 1109,
      "outputs": [
        {
          "output_type": "display_data",
          "data": {
            "image/png": "[encoded data removed]",
            "text/plain": [
              "<Figure size 432x288 with 1 Axes>"
            ]
          },
          "metadata": {
            "needs_background": "light"
          }
        }
      ]
    },
    {
      "cell_type": "markdown",
      "source": [
        "##submisssion 파일 만들기"
      ],
      "metadata": {
        "id": "uujVrzJ0xS5H"
      }
    },
    {
      "cell_type": "code",
      "source": [
        "!head submission.csv"
      ],
      "metadata": {
        "colab": {
          "base_uri": "https://localhost:8080/"
        },
        "outputId": "b3961db1-7da7-46a0-b268-09860348fe8b",
        "id": "wrLW3TQxxS5H"
      },
      "execution_count": 1110,
      "outputs": [
        {
          "output_type": "stream",
          "name": "stdout",
          "text": [
            "title,box_off_num\n",
            "용서는 없다,4\n",
            "아빠가 여자를 좋아해,2\n",
            "하모니,7\n",
            "의형제,2\n",
            "평행 이론,5\n",
            "회오리 바람,2\n",
            "경계도시 2,2\n",
            "이웃집 남자,5\n",
            "아마존의 눈물 극장판,2\n"
          ]
        }
      ]
    },
    {
      "cell_type": "code",
      "source": [
        "submission_df= pd.read_csv('movies_test.csv')"
      ],
      "metadata": {
        "id": "vGDs-O_2xS5H"
      },
      "execution_count": 1111,
      "outputs": []
    },
    {
      "cell_type": "code",
      "source": [
        "final_df = pd.DataFrame(submission_df.title)\n",
        "final_df.head()"
      ],
      "metadata": {
        "colab": {
          "base_uri": "https://localhost:8080/",
          "height": 206
        },
        "outputId": "18c22081-16d1-4dea-8afb-686a500367f3",
        "id": "sf_uRN78xS5H"
      },
      "execution_count": 1112,
      "outputs": [
        {
          "output_type": "execute_result",
          "data": {
            "text/html": [
              "\n",
              "  <div id=\"df-a7159fad-6c60-4c49-a646-d5cf85a7117c\">\n",
              "    <div class=\"colab-df-container\">\n",
              "      <div>\n",
              "<style scoped>\n",
              "    .dataframe tbody tr th:only-of-type {\n",
              "        vertical-align: middle;\n",
              "    }\n",
              "\n",
              "    .dataframe tbody tr th {\n",
              "        vertical-align: top;\n",
              "    }\n",
              "\n",
              "    .dataframe thead th {\n",
              "        text-align: right;\n",
              "    }\n",
              "</style>\n",
              "<table border=\"1\" class=\"dataframe\">\n",
              "  <thead>\n",
              "    <tr style=\"text-align: right;\">\n",
              "      <th></th>\n",
              "      <th>title</th>\n",
              "    </tr>\n",
              "  </thead>\n",
              "  <tbody>\n",
              "    <tr>\n",
              "      <th>0</th>\n",
              "      <td>용서는 없다</td>\n",
              "    </tr>\n",
              "    <tr>\n",
              "      <th>1</th>\n",
              "      <td>아빠가 여자를 좋아해</td>\n",
              "    </tr>\n",
              "    <tr>\n",
              "      <th>2</th>\n",
              "      <td>하모니</td>\n",
              "    </tr>\n",
              "    <tr>\n",
              "      <th>3</th>\n",
              "      <td>의형제</td>\n",
              "    </tr>\n",
              "    <tr>\n",
              "      <th>4</th>\n",
              "      <td>평행 이론</td>\n",
              "    </tr>\n",
              "  </tbody>\n",
              "</table>\n",
              "</div>\n",
              "      <button class=\"colab-df-convert\" onclick=\"convertToInteractive('df-a7159fad-6c60-4c49-a646-d5cf85a7117c')\"\n",
              "              title=\"Convert this dataframe to an interactive table.\"\n",
              "              style=\"display:none;\">\n",
              "        \n",
              "  <svg xmlns=\"http://www.w3.org/2000/svg\" height=\"24px\"viewBox=\"0 0 24 24\"\n",
              "       width=\"24px\">\n",
              "    <path d=\"M0 0h24v24H0V0z\" fill=\"none\"/>\n",
              "    <path d=\"M18.56 5.44l.94 2.06.94-2.06 2.06-.94-2.06-.94-.94-2.06-.94 2.06-2.06.94zm-11 1L8.5 8.5l.94-2.06 2.06-.94-2.06-.94L8.5 2.5l-.94 2.06-2.06.94zm10 10l.94 2.06.94-2.06 2.06-.94-2.06-.94-.94-2.06-.94 2.06-2.06.94z\"/><path d=\"M17.41 7.96l-1.37-1.37c-.4-.4-.92-.59-1.43-.59-.52 0-1.04.2-1.43.59L10.3 9.45l-7.72 7.72c-.78.78-.78 2.05 0 2.83L4 21.41c.39.39.9.59 1.41.59.51 0 1.02-.2 1.41-.59l7.78-7.78 2.81-2.81c.8-.78.8-2.07 0-2.86zM5.41 20L4 18.59l7.72-7.72 1.47 1.35L5.41 20z\"/>\n",
              "  </svg>\n",
              "      </button>\n",
              "      \n",
              "  <style>\n",
              "    .colab-df-container {\n",
              "      display:flex;\n",
              "      flex-wrap:wrap;\n",
              "      gap: 12px;\n",
              "    }\n",
              "\n",
              "    .colab-df-convert {\n",
              "      background-color: #E8F0FE;\n",
              "      border: none;\n",
              "      border-radius: 50%;\n",
              "      cursor: pointer;\n",
              "      display: none;\n",
              "      fill: #1967D2;\n",
              "      height: 32px;\n",
              "      padding: 0 0 0 0;\n",
              "      width: 32px;\n",
              "    }\n",
              "\n",
              "    .colab-df-convert:hover {\n",
              "      background-color: #E2EBFA;\n",
              "      box-shadow: 0px 1px 2px rgba(60, 64, 67, 0.3), 0px 1px 3px 1px rgba(60, 64, 67, 0.15);\n",
              "      fill: #174EA6;\n",
              "    }\n",
              "\n",
              "    [theme=dark] .colab-df-convert {\n",
              "      background-color: #3B4455;\n",
              "      fill: #D2E3FC;\n",
              "    }\n",
              "\n",
              "    [theme=dark] .colab-df-convert:hover {\n",
              "      background-color: #434B5C;\n",
              "      box-shadow: 0px 1px 3px 1px rgba(0, 0, 0, 0.15);\n",
              "      filter: drop-shadow(0px 1px 2px rgba(0, 0, 0, 0.3));\n",
              "      fill: #FFFFFF;\n",
              "    }\n",
              "  </style>\n",
              "\n",
              "      <script>\n",
              "        const buttonEl =\n",
              "          document.querySelector('#df-a7159fad-6c60-4c49-a646-d5cf85a7117c button.colab-df-convert');\n",
              "        buttonEl.style.display =\n",
              "          google.colab.kernel.accessAllowed ? 'block' : 'none';\n",
              "\n",
              "        async function convertToInteractive(key) {\n",
              "          const element = document.querySelector('#df-a7159fad-6c60-4c49-a646-d5cf85a7117c');\n",
              "          const dataTable =\n",
              "            await google.colab.kernel.invokeFunction('convertToInteractive',\n",
              "                                                     [key], {});\n",
              "          if (!dataTable) return;\n",
              "\n",
              "          const docLinkHtml = 'Like what you see? Visit the ' +\n",
              "            '<a target=\"_blank\" href=https://colab.research.google.com/notebooks/data_table.ipynb>data table notebook</a>'\n",
              "            + ' to learn more about interactive tables.';\n",
              "          element.innerHTML = '';\n",
              "          dataTable['output_type'] = 'display_data';\n",
              "          await google.colab.output.renderOutput(dataTable, element);\n",
              "          const docLink = document.createElement('div');\n",
              "          docLink.innerHTML = docLinkHtml;\n",
              "          element.appendChild(docLink);\n",
              "        }\n",
              "      </script>\n",
              "    </div>\n",
              "  </div>\n",
              "  "
            ],
            "text/plain": [
              "         title\n",
              "0       용서는 없다\n",
              "1  아빠가 여자를 좋아해\n",
              "2          하모니\n",
              "3          의형제\n",
              "4        평행 이론"
            ]
          },
          "metadata": {},
          "execution_count": 1112
        }
      ]
    },
    {
      "cell_type": "code",
      "source": [
        "final_df['box_off_num'] = predicted.astype(np.int)\n",
        "final_df.head()"
      ],
      "metadata": {
        "colab": {
          "base_uri": "https://localhost:8080/",
          "height": 206
        },
        "outputId": "d7dc9c18-caa9-464e-dc9b-17e18b6e91e8",
        "id": "FhkAKLw4xS5H"
      },
      "execution_count": 1113,
      "outputs": [
        {
          "output_type": "execute_result",
          "data": {
            "text/html": [
              "\n",
              "  <div id=\"df-9590923f-c7b0-43b1-80c4-fb044e92387b\">\n",
              "    <div class=\"colab-df-container\">\n",
              "      <div>\n",
              "<style scoped>\n",
              "    .dataframe tbody tr th:only-of-type {\n",
              "        vertical-align: middle;\n",
              "    }\n",
              "\n",
              "    .dataframe tbody tr th {\n",
              "        vertical-align: top;\n",
              "    }\n",
              "\n",
              "    .dataframe thead th {\n",
              "        text-align: right;\n",
              "    }\n",
              "</style>\n",
              "<table border=\"1\" class=\"dataframe\">\n",
              "  <thead>\n",
              "    <tr style=\"text-align: right;\">\n",
              "      <th></th>\n",
              "      <th>title</th>\n",
              "      <th>box_off_num</th>\n",
              "    </tr>\n",
              "  </thead>\n",
              "  <tbody>\n",
              "    <tr>\n",
              "      <th>0</th>\n",
              "      <td>용서는 없다</td>\n",
              "      <td>0</td>\n",
              "    </tr>\n",
              "    <tr>\n",
              "      <th>1</th>\n",
              "      <td>아빠가 여자를 좋아해</td>\n",
              "      <td>3</td>\n",
              "    </tr>\n",
              "    <tr>\n",
              "      <th>2</th>\n",
              "      <td>하모니</td>\n",
              "      <td>0</td>\n",
              "    </tr>\n",
              "    <tr>\n",
              "      <th>3</th>\n",
              "      <td>의형제</td>\n",
              "      <td>0</td>\n",
              "    </tr>\n",
              "    <tr>\n",
              "      <th>4</th>\n",
              "      <td>평행 이론</td>\n",
              "      <td>0</td>\n",
              "    </tr>\n",
              "  </tbody>\n",
              "</table>\n",
              "</div>\n",
              "      <button class=\"colab-df-convert\" onclick=\"convertToInteractive('df-9590923f-c7b0-43b1-80c4-fb044e92387b')\"\n",
              "              title=\"Convert this dataframe to an interactive table.\"\n",
              "              style=\"display:none;\">\n",
              "        \n",
              "  <svg xmlns=\"http://www.w3.org/2000/svg\" height=\"24px\"viewBox=\"0 0 24 24\"\n",
              "       width=\"24px\">\n",
              "    <path d=\"M0 0h24v24H0V0z\" fill=\"none\"/>\n",
              "    <path d=\"M18.56 5.44l.94 2.06.94-2.06 2.06-.94-2.06-.94-.94-2.06-.94 2.06-2.06.94zm-11 1L8.5 8.5l.94-2.06 2.06-.94-2.06-.94L8.5 2.5l-.94 2.06-2.06.94zm10 10l.94 2.06.94-2.06 2.06-.94-2.06-.94-.94-2.06-.94 2.06-2.06.94z\"/><path d=\"M17.41 7.96l-1.37-1.37c-.4-.4-.92-.59-1.43-.59-.52 0-1.04.2-1.43.59L10.3 9.45l-7.72 7.72c-.78.78-.78 2.05 0 2.83L4 21.41c.39.39.9.59 1.41.59.51 0 1.02-.2 1.41-.59l7.78-7.78 2.81-2.81c.8-.78.8-2.07 0-2.86zM5.41 20L4 18.59l7.72-7.72 1.47 1.35L5.41 20z\"/>\n",
              "  </svg>\n",
              "      </button>\n",
              "      \n",
              "  <style>\n",
              "    .colab-df-container {\n",
              "      display:flex;\n",
              "      flex-wrap:wrap;\n",
              "      gap: 12px;\n",
              "    }\n",
              "\n",
              "    .colab-df-convert {\n",
              "      background-color: #E8F0FE;\n",
              "      border: none;\n",
              "      border-radius: 50%;\n",
              "      cursor: pointer;\n",
              "      display: none;\n",
              "      fill: #1967D2;\n",
              "      height: 32px;\n",
              "      padding: 0 0 0 0;\n",
              "      width: 32px;\n",
              "    }\n",
              "\n",
              "    .colab-df-convert:hover {\n",
              "      background-color: #E2EBFA;\n",
              "      box-shadow: 0px 1px 2px rgba(60, 64, 67, 0.3), 0px 1px 3px 1px rgba(60, 64, 67, 0.15);\n",
              "      fill: #174EA6;\n",
              "    }\n",
              "\n",
              "    [theme=dark] .colab-df-convert {\n",
              "      background-color: #3B4455;\n",
              "      fill: #D2E3FC;\n",
              "    }\n",
              "\n",
              "    [theme=dark] .colab-df-convert:hover {\n",
              "      background-color: #434B5C;\n",
              "      box-shadow: 0px 1px 3px 1px rgba(0, 0, 0, 0.15);\n",
              "      filter: drop-shadow(0px 1px 2px rgba(0, 0, 0, 0.3));\n",
              "      fill: #FFFFFF;\n",
              "    }\n",
              "  </style>\n",
              "\n",
              "      <script>\n",
              "        const buttonEl =\n",
              "          document.querySelector('#df-9590923f-c7b0-43b1-80c4-fb044e92387b button.colab-df-convert');\n",
              "        buttonEl.style.display =\n",
              "          google.colab.kernel.accessAllowed ? 'block' : 'none';\n",
              "\n",
              "        async function convertToInteractive(key) {\n",
              "          const element = document.querySelector('#df-9590923f-c7b0-43b1-80c4-fb044e92387b');\n",
              "          const dataTable =\n",
              "            await google.colab.kernel.invokeFunction('convertToInteractive',\n",
              "                                                     [key], {});\n",
              "          if (!dataTable) return;\n",
              "\n",
              "          const docLinkHtml = 'Like what you see? Visit the ' +\n",
              "            '<a target=\"_blank\" href=https://colab.research.google.com/notebooks/data_table.ipynb>data table notebook</a>'\n",
              "            + ' to learn more about interactive tables.';\n",
              "          element.innerHTML = '';\n",
              "          dataTable['output_type'] = 'display_data';\n",
              "          await google.colab.output.renderOutput(dataTable, element);\n",
              "          const docLink = document.createElement('div');\n",
              "          docLink.innerHTML = docLinkHtml;\n",
              "          element.appendChild(docLink);\n",
              "        }\n",
              "      </script>\n",
              "    </div>\n",
              "  </div>\n",
              "  "
            ],
            "text/plain": [
              "         title  box_off_num\n",
              "0       용서는 없다            0\n",
              "1  아빠가 여자를 좋아해            3\n",
              "2          하모니            0\n",
              "3          의형제            0\n",
              "4        평행 이론            0"
            ]
          },
          "metadata": {},
          "execution_count": 1113
        }
      ]
    },
    {
      "cell_type": "code",
      "source": [
        "final_df.to_csv(\"submission.csv\", index=False)"
      ],
      "metadata": {
        "id": "EDVZgYwUxS5H"
      },
      "execution_count": 1114,
      "outputs": []
    },
    {
      "cell_type": "code",
      "source": [
        "!head submission.csv"
      ],
      "metadata": {
        "colab": {
          "base_uri": "https://localhost:8080/"
        },
        "outputId": "6611c8f6-6cb6-4d1e-bc3c-e5ac21087be0",
        "id": "7JT2TvTUxS5H"
      },
      "execution_count": 1115,
      "outputs": [
        {
          "output_type": "stream",
          "name": "stdout",
          "text": [
            "title,box_off_num\n",
            "용서는 없다,0\n",
            "아빠가 여자를 좋아해,3\n",
            "하모니,0\n",
            "의형제,0\n",
            "평행 이론,0\n",
            "회오리 바람,0\n",
            "경계도시 2,1\n",
            "이웃집 남자,0\n",
            "아마존의 눈물 극장판,3\n"
          ]
        }
      ]
    },
    {
      "cell_type": "markdown",
      "source": [
        "##batch size 찾기"
      ],
      "metadata": {
        "id": "dYmT3-F1xS5I"
      }
    },
    {
      "cell_type": "code",
      "source": [
        "import time\n",
        "\n",
        "for batch_size in [16,32,64,128,256,512, 512*2, 512*4, 512*8, 512*16]:\n",
        "  start = time.time()\n",
        "  history = model.fit(train_x, train_y, epochs=4, verbose=0, batch_size=batch_size, validation_split=0.1)\n",
        "  print(batch_size,\":\",time.time() - start)\n"
      ],
      "metadata": {
        "colab": {
          "base_uri": "https://localhost:8080/"
        },
        "outputId": "63017c29-a24a-4aaf-fcb0-7425b348e645",
        "id": "3e37wBdOxS5I"
      },
      "execution_count": 1116,
      "outputs": [
        {
          "output_type": "stream",
          "name": "stdout",
          "text": [
            "16 : 0.35739588737487793\n",
            "32 : 0.22803401947021484\n",
            "64 : 0.19909191131591797\n",
            "128 : 0.19457769393920898\n",
            "256 : 0.16062569618225098\n",
            "512 : 0.1615583896636963\n",
            "1024 : 0.15482854843139648\n",
            "2048 : 0.1732957363128662\n",
            "4096 : 0.15617799758911133\n",
            "8192 : 0.16302013397216797\n"
          ]
        }
      ]
    },
    {
      "cell_type": "code",
      "source": [
        ""
      ],
      "metadata": {
        "id": "g8VRlY_j4o9N"
      },
      "execution_count": 1116,
      "outputs": []
    },
    {
      "cell_type": "code",
      "source": [
        ""
      ],
      "metadata": {
        "id": "OAZigzBo4pBN"
      },
      "execution_count": 1116,
      "outputs": []
    },
    {
      "cell_type": "markdown",
      "source": [
        "# 네번째 시도\n",
        "\n",
        "카테고리 데이터도 사용하자."
      ],
      "metadata": {
        "id": "AkYElSxb4qMN"
      }
    },
    {
      "cell_type": "markdown",
      "source": [
        "##데이터 읽기"
      ],
      "metadata": {
        "id": "iwH2j0bO4qMN"
      }
    },
    {
      "cell_type": "code",
      "source": [
        "train_df = pd.read_csv('movies_train.csv')\n",
        "train_df.head()"
      ],
      "metadata": {
        "colab": {
          "base_uri": "https://localhost:8080/",
          "height": 206
        },
        "outputId": "2a10e6f1-a333-4ab3-9d00-4a4ae3a023f0",
        "id": "wE9ohSsF4qMN"
      },
      "execution_count": 1117,
      "outputs": [
        {
          "output_type": "execute_result",
          "data": {
            "text/html": [
              "\n",
              "  <div id=\"df-05c8fe3a-177b-4d81-a391-27171a671405\">\n",
              "    <div class=\"colab-df-container\">\n",
              "      <div>\n",
              "<style scoped>\n",
              "    .dataframe tbody tr th:only-of-type {\n",
              "        vertical-align: middle;\n",
              "    }\n",
              "\n",
              "    .dataframe tbody tr th {\n",
              "        vertical-align: top;\n",
              "    }\n",
              "\n",
              "    .dataframe thead th {\n",
              "        text-align: right;\n",
              "    }\n",
              "</style>\n",
              "<table border=\"1\" class=\"dataframe\">\n",
              "  <thead>\n",
              "    <tr style=\"text-align: right;\">\n",
              "      <th></th>\n",
              "      <th>title</th>\n",
              "      <th>distributor</th>\n",
              "      <th>genre</th>\n",
              "      <th>release_time</th>\n",
              "      <th>time</th>\n",
              "      <th>screening_rat</th>\n",
              "      <th>director</th>\n",
              "      <th>dir_prev_bfnum</th>\n",
              "      <th>dir_prev_num</th>\n",
              "      <th>num_staff</th>\n",
              "      <th>num_actor</th>\n",
              "      <th>box_off_num</th>\n",
              "    </tr>\n",
              "  </thead>\n",
              "  <tbody>\n",
              "    <tr>\n",
              "      <th>0</th>\n",
              "      <td>개들의 전쟁</td>\n",
              "      <td>롯데엔터테인먼트</td>\n",
              "      <td>액션</td>\n",
              "      <td>2012-11-22</td>\n",
              "      <td>96</td>\n",
              "      <td>청소년 관람불가</td>\n",
              "      <td>조병옥</td>\n",
              "      <td>NaN</td>\n",
              "      <td>0</td>\n",
              "      <td>91</td>\n",
              "      <td>2</td>\n",
              "      <td>23398</td>\n",
              "    </tr>\n",
              "    <tr>\n",
              "      <th>1</th>\n",
              "      <td>내부자들</td>\n",
              "      <td>(주)쇼박스</td>\n",
              "      <td>느와르</td>\n",
              "      <td>2015-11-19</td>\n",
              "      <td>130</td>\n",
              "      <td>청소년 관람불가</td>\n",
              "      <td>우민호</td>\n",
              "      <td>1161602.50</td>\n",
              "      <td>2</td>\n",
              "      <td>387</td>\n",
              "      <td>3</td>\n",
              "      <td>7072501</td>\n",
              "    </tr>\n",
              "    <tr>\n",
              "      <th>2</th>\n",
              "      <td>은밀하게 위대하게</td>\n",
              "      <td>(주)쇼박스</td>\n",
              "      <td>액션</td>\n",
              "      <td>2013-06-05</td>\n",
              "      <td>123</td>\n",
              "      <td>15세 관람가</td>\n",
              "      <td>장철수</td>\n",
              "      <td>220775.25</td>\n",
              "      <td>4</td>\n",
              "      <td>343</td>\n",
              "      <td>4</td>\n",
              "      <td>6959083</td>\n",
              "    </tr>\n",
              "    <tr>\n",
              "      <th>3</th>\n",
              "      <td>나는 공무원이다</td>\n",
              "      <td>(주)NEW</td>\n",
              "      <td>코미디</td>\n",
              "      <td>2012-07-12</td>\n",
              "      <td>101</td>\n",
              "      <td>전체 관람가</td>\n",
              "      <td>구자홍</td>\n",
              "      <td>23894.00</td>\n",
              "      <td>2</td>\n",
              "      <td>20</td>\n",
              "      <td>6</td>\n",
              "      <td>217866</td>\n",
              "    </tr>\n",
              "    <tr>\n",
              "      <th>4</th>\n",
              "      <td>불량남녀</td>\n",
              "      <td>쇼박스(주)미디어플렉스</td>\n",
              "      <td>코미디</td>\n",
              "      <td>2010-11-04</td>\n",
              "      <td>108</td>\n",
              "      <td>15세 관람가</td>\n",
              "      <td>신근호</td>\n",
              "      <td>1.00</td>\n",
              "      <td>1</td>\n",
              "      <td>251</td>\n",
              "      <td>2</td>\n",
              "      <td>483387</td>\n",
              "    </tr>\n",
              "  </tbody>\n",
              "</table>\n",
              "</div>\n",
              "      <button class=\"colab-df-convert\" onclick=\"convertToInteractive('df-05c8fe3a-177b-4d81-a391-27171a671405')\"\n",
              "              title=\"Convert this dataframe to an interactive table.\"\n",
              "              style=\"display:none;\">\n",
              "        \n",
              "  <svg xmlns=\"http://www.w3.org/2000/svg\" height=\"24px\"viewBox=\"0 0 24 24\"\n",
              "       width=\"24px\">\n",
              "    <path d=\"M0 0h24v24H0V0z\" fill=\"none\"/>\n",
              "    <path d=\"M18.56 5.44l.94 2.06.94-2.06 2.06-.94-2.06-.94-.94-2.06-.94 2.06-2.06.94zm-11 1L8.5 8.5l.94-2.06 2.06-.94-2.06-.94L8.5 2.5l-.94 2.06-2.06.94zm10 10l.94 2.06.94-2.06 2.06-.94-2.06-.94-.94-2.06-.94 2.06-2.06.94z\"/><path d=\"M17.41 7.96l-1.37-1.37c-.4-.4-.92-.59-1.43-.59-.52 0-1.04.2-1.43.59L10.3 9.45l-7.72 7.72c-.78.78-.78 2.05 0 2.83L4 21.41c.39.39.9.59 1.41.59.51 0 1.02-.2 1.41-.59l7.78-7.78 2.81-2.81c.8-.78.8-2.07 0-2.86zM5.41 20L4 18.59l7.72-7.72 1.47 1.35L5.41 20z\"/>\n",
              "  </svg>\n",
              "      </button>\n",
              "      \n",
              "  <style>\n",
              "    .colab-df-container {\n",
              "      display:flex;\n",
              "      flex-wrap:wrap;\n",
              "      gap: 12px;\n",
              "    }\n",
              "\n",
              "    .colab-df-convert {\n",
              "      background-color: #E8F0FE;\n",
              "      border: none;\n",
              "      border-radius: 50%;\n",
              "      cursor: pointer;\n",
              "      display: none;\n",
              "      fill: #1967D2;\n",
              "      height: 32px;\n",
              "      padding: 0 0 0 0;\n",
              "      width: 32px;\n",
              "    }\n",
              "\n",
              "    .colab-df-convert:hover {\n",
              "      background-color: #E2EBFA;\n",
              "      box-shadow: 0px 1px 2px rgba(60, 64, 67, 0.3), 0px 1px 3px 1px rgba(60, 64, 67, 0.15);\n",
              "      fill: #174EA6;\n",
              "    }\n",
              "\n",
              "    [theme=dark] .colab-df-convert {\n",
              "      background-color: #3B4455;\n",
              "      fill: #D2E3FC;\n",
              "    }\n",
              "\n",
              "    [theme=dark] .colab-df-convert:hover {\n",
              "      background-color: #434B5C;\n",
              "      box-shadow: 0px 1px 3px 1px rgba(0, 0, 0, 0.15);\n",
              "      filter: drop-shadow(0px 1px 2px rgba(0, 0, 0, 0.3));\n",
              "      fill: #FFFFFF;\n",
              "    }\n",
              "  </style>\n",
              "\n",
              "      <script>\n",
              "        const buttonEl =\n",
              "          document.querySelector('#df-05c8fe3a-177b-4d81-a391-27171a671405 button.colab-df-convert');\n",
              "        buttonEl.style.display =\n",
              "          google.colab.kernel.accessAllowed ? 'block' : 'none';\n",
              "\n",
              "        async function convertToInteractive(key) {\n",
              "          const element = document.querySelector('#df-05c8fe3a-177b-4d81-a391-27171a671405');\n",
              "          const dataTable =\n",
              "            await google.colab.kernel.invokeFunction('convertToInteractive',\n",
              "                                                     [key], {});\n",
              "          if (!dataTable) return;\n",
              "\n",
              "          const docLinkHtml = 'Like what you see? Visit the ' +\n",
              "            '<a target=\"_blank\" href=https://colab.research.google.com/notebooks/data_table.ipynb>data table notebook</a>'\n",
              "            + ' to learn more about interactive tables.';\n",
              "          element.innerHTML = '';\n",
              "          dataTable['output_type'] = 'display_data';\n",
              "          await google.colab.output.renderOutput(dataTable, element);\n",
              "          const docLink = document.createElement('div');\n",
              "          docLink.innerHTML = docLinkHtml;\n",
              "          element.appendChild(docLink);\n",
              "        }\n",
              "      </script>\n",
              "    </div>\n",
              "  </div>\n",
              "  "
            ],
            "text/plain": [
              "       title   distributor genre  ... num_staff  num_actor box_off_num\n",
              "0     개들의 전쟁      롯데엔터테인먼트    액션  ...        91          2       23398\n",
              "1       내부자들        (주)쇼박스   느와르  ...       387          3     7072501\n",
              "2  은밀하게 위대하게        (주)쇼박스    액션  ...       343          4     6959083\n",
              "3   나는 공무원이다        (주)NEW   코미디  ...        20          6      217866\n",
              "4       불량남녀  쇼박스(주)미디어플렉스   코미디  ...       251          2      483387\n",
              "\n",
              "[5 rows x 12 columns]"
            ]
          },
          "metadata": {},
          "execution_count": 1117
        }
      ]
    },
    {
      "cell_type": "code",
      "source": [
        "submission_df = pd.read_csv('movies_test.csv')\n",
        "submission_df.head()"
      ],
      "metadata": {
        "colab": {
          "base_uri": "https://localhost:8080/",
          "height": 206
        },
        "outputId": "3b080804-be29-4dab-fc7f-e0511e86c7b4",
        "id": "kAnVO_Zp4qMN"
      },
      "execution_count": 1118,
      "outputs": [
        {
          "output_type": "execute_result",
          "data": {
            "text/html": [
              "\n",
              "  <div id=\"df-9a2e11c6-016c-48a4-a4da-c87a688bfcc7\">\n",
              "    <div class=\"colab-df-container\">\n",
              "      <div>\n",
              "<style scoped>\n",
              "    .dataframe tbody tr th:only-of-type {\n",
              "        vertical-align: middle;\n",
              "    }\n",
              "\n",
              "    .dataframe tbody tr th {\n",
              "        vertical-align: top;\n",
              "    }\n",
              "\n",
              "    .dataframe thead th {\n",
              "        text-align: right;\n",
              "    }\n",
              "</style>\n",
              "<table border=\"1\" class=\"dataframe\">\n",
              "  <thead>\n",
              "    <tr style=\"text-align: right;\">\n",
              "      <th></th>\n",
              "      <th>title</th>\n",
              "      <th>distributor</th>\n",
              "      <th>genre</th>\n",
              "      <th>release_time</th>\n",
              "      <th>time</th>\n",
              "      <th>screening_rat</th>\n",
              "      <th>director</th>\n",
              "      <th>dir_prev_bfnum</th>\n",
              "      <th>dir_prev_num</th>\n",
              "      <th>num_staff</th>\n",
              "      <th>num_actor</th>\n",
              "    </tr>\n",
              "  </thead>\n",
              "  <tbody>\n",
              "    <tr>\n",
              "      <th>0</th>\n",
              "      <td>용서는 없다</td>\n",
              "      <td>시네마서비스</td>\n",
              "      <td>느와르</td>\n",
              "      <td>2010-01-07</td>\n",
              "      <td>125</td>\n",
              "      <td>청소년 관람불가</td>\n",
              "      <td>김형준</td>\n",
              "      <td>3.005290e+05</td>\n",
              "      <td>2</td>\n",
              "      <td>304</td>\n",
              "      <td>3</td>\n",
              "    </tr>\n",
              "    <tr>\n",
              "      <th>1</th>\n",
              "      <td>아빠가 여자를 좋아해</td>\n",
              "      <td>(주)쇼박스</td>\n",
              "      <td>멜로/로맨스</td>\n",
              "      <td>2010-01-14</td>\n",
              "      <td>113</td>\n",
              "      <td>12세 관람가</td>\n",
              "      <td>이광재</td>\n",
              "      <td>3.427002e+05</td>\n",
              "      <td>4</td>\n",
              "      <td>275</td>\n",
              "      <td>3</td>\n",
              "    </tr>\n",
              "    <tr>\n",
              "      <th>2</th>\n",
              "      <td>하모니</td>\n",
              "      <td>CJ 엔터테인먼트</td>\n",
              "      <td>드라마</td>\n",
              "      <td>2010-01-28</td>\n",
              "      <td>115</td>\n",
              "      <td>12세 관람가</td>\n",
              "      <td>강대규</td>\n",
              "      <td>4.206611e+06</td>\n",
              "      <td>3</td>\n",
              "      <td>419</td>\n",
              "      <td>7</td>\n",
              "    </tr>\n",
              "    <tr>\n",
              "      <th>3</th>\n",
              "      <td>의형제</td>\n",
              "      <td>(주)쇼박스</td>\n",
              "      <td>액션</td>\n",
              "      <td>2010-02-04</td>\n",
              "      <td>116</td>\n",
              "      <td>15세 관람가</td>\n",
              "      <td>장훈</td>\n",
              "      <td>6.913420e+05</td>\n",
              "      <td>2</td>\n",
              "      <td>408</td>\n",
              "      <td>2</td>\n",
              "    </tr>\n",
              "    <tr>\n",
              "      <th>4</th>\n",
              "      <td>평행 이론</td>\n",
              "      <td>CJ 엔터테인먼트</td>\n",
              "      <td>공포</td>\n",
              "      <td>2010-02-18</td>\n",
              "      <td>110</td>\n",
              "      <td>15세 관람가</td>\n",
              "      <td>권호영</td>\n",
              "      <td>3.173800e+04</td>\n",
              "      <td>1</td>\n",
              "      <td>380</td>\n",
              "      <td>1</td>\n",
              "    </tr>\n",
              "  </tbody>\n",
              "</table>\n",
              "</div>\n",
              "      <button class=\"colab-df-convert\" onclick=\"convertToInteractive('df-9a2e11c6-016c-48a4-a4da-c87a688bfcc7')\"\n",
              "              title=\"Convert this dataframe to an interactive table.\"\n",
              "              style=\"display:none;\">\n",
              "        \n",
              "  <svg xmlns=\"http://www.w3.org/2000/svg\" height=\"24px\"viewBox=\"0 0 24 24\"\n",
              "       width=\"24px\">\n",
              "    <path d=\"M0 0h24v24H0V0z\" fill=\"none\"/>\n",
              "    <path d=\"M18.56 5.44l.94 2.06.94-2.06 2.06-.94-2.06-.94-.94-2.06-.94 2.06-2.06.94zm-11 1L8.5 8.5l.94-2.06 2.06-.94-2.06-.94L8.5 2.5l-.94 2.06-2.06.94zm10 10l.94 2.06.94-2.06 2.06-.94-2.06-.94-.94-2.06-.94 2.06-2.06.94z\"/><path d=\"M17.41 7.96l-1.37-1.37c-.4-.4-.92-.59-1.43-.59-.52 0-1.04.2-1.43.59L10.3 9.45l-7.72 7.72c-.78.78-.78 2.05 0 2.83L4 21.41c.39.39.9.59 1.41.59.51 0 1.02-.2 1.41-.59l7.78-7.78 2.81-2.81c.8-.78.8-2.07 0-2.86zM5.41 20L4 18.59l7.72-7.72 1.47 1.35L5.41 20z\"/>\n",
              "  </svg>\n",
              "      </button>\n",
              "      \n",
              "  <style>\n",
              "    .colab-df-container {\n",
              "      display:flex;\n",
              "      flex-wrap:wrap;\n",
              "      gap: 12px;\n",
              "    }\n",
              "\n",
              "    .colab-df-convert {\n",
              "      background-color: #E8F0FE;\n",
              "      border: none;\n",
              "      border-radius: 50%;\n",
              "      cursor: pointer;\n",
              "      display: none;\n",
              "      fill: #1967D2;\n",
              "      height: 32px;\n",
              "      padding: 0 0 0 0;\n",
              "      width: 32px;\n",
              "    }\n",
              "\n",
              "    .colab-df-convert:hover {\n",
              "      background-color: #E2EBFA;\n",
              "      box-shadow: 0px 1px 2px rgba(60, 64, 67, 0.3), 0px 1px 3px 1px rgba(60, 64, 67, 0.15);\n",
              "      fill: #174EA6;\n",
              "    }\n",
              "\n",
              "    [theme=dark] .colab-df-convert {\n",
              "      background-color: #3B4455;\n",
              "      fill: #D2E3FC;\n",
              "    }\n",
              "\n",
              "    [theme=dark] .colab-df-convert:hover {\n",
              "      background-color: #434B5C;\n",
              "      box-shadow: 0px 1px 3px 1px rgba(0, 0, 0, 0.15);\n",
              "      filter: drop-shadow(0px 1px 2px rgba(0, 0, 0, 0.3));\n",
              "      fill: #FFFFFF;\n",
              "    }\n",
              "  </style>\n",
              "\n",
              "      <script>\n",
              "        const buttonEl =\n",
              "          document.querySelector('#df-9a2e11c6-016c-48a4-a4da-c87a688bfcc7 button.colab-df-convert');\n",
              "        buttonEl.style.display =\n",
              "          google.colab.kernel.accessAllowed ? 'block' : 'none';\n",
              "\n",
              "        async function convertToInteractive(key) {\n",
              "          const element = document.querySelector('#df-9a2e11c6-016c-48a4-a4da-c87a688bfcc7');\n",
              "          const dataTable =\n",
              "            await google.colab.kernel.invokeFunction('convertToInteractive',\n",
              "                                                     [key], {});\n",
              "          if (!dataTable) return;\n",
              "\n",
              "          const docLinkHtml = 'Like what you see? Visit the ' +\n",
              "            '<a target=\"_blank\" href=https://colab.research.google.com/notebooks/data_table.ipynb>data table notebook</a>'\n",
              "            + ' to learn more about interactive tables.';\n",
              "          element.innerHTML = '';\n",
              "          dataTable['output_type'] = 'display_data';\n",
              "          await google.colab.output.renderOutput(dataTable, element);\n",
              "          const docLink = document.createElement('div');\n",
              "          docLink.innerHTML = docLinkHtml;\n",
              "          element.appendChild(docLink);\n",
              "        }\n",
              "      </script>\n",
              "    </div>\n",
              "  </div>\n",
              "  "
            ],
            "text/plain": [
              "         title distributor   genre  ... dir_prev_num  num_staff num_actor\n",
              "0       용서는 없다      시네마서비스     느와르  ...            2        304         3\n",
              "1  아빠가 여자를 좋아해      (주)쇼박스  멜로/로맨스  ...            4        275         3\n",
              "2          하모니   CJ 엔터테인먼트     드라마  ...            3        419         7\n",
              "3          의형제      (주)쇼박스      액션  ...            2        408         2\n",
              "4        평행 이론   CJ 엔터테인먼트      공포  ...            1        380         1\n",
              "\n",
              "[5 rows x 11 columns]"
            ]
          },
          "metadata": {},
          "execution_count": 1118
        }
      ]
    },
    {
      "cell_type": "markdown",
      "source": [
        "## train+ submission데이터 합치기"
      ],
      "metadata": {
        "id": "O85iZj6-4qMO"
      }
    },
    {
      "cell_type": "code",
      "source": [
        "all_df=pd.concat([train_df, submission_df])\n",
        "all_df.head()"
      ],
      "metadata": {
        "colab": {
          "base_uri": "https://localhost:8080/",
          "height": 206
        },
        "outputId": "79b9b54a-c8df-481f-b3de-e9d467ab5d54",
        "id": "Grz154Cw4qMO"
      },
      "execution_count": 1119,
      "outputs": [
        {
          "output_type": "execute_result",
          "data": {
            "text/html": [
              "\n",
              "  <div id=\"df-c4d6ab28-ac24-4937-b735-a4369f5f9aae\">\n",
              "    <div class=\"colab-df-container\">\n",
              "      <div>\n",
              "<style scoped>\n",
              "    .dataframe tbody tr th:only-of-type {\n",
              "        vertical-align: middle;\n",
              "    }\n",
              "\n",
              "    .dataframe tbody tr th {\n",
              "        vertical-align: top;\n",
              "    }\n",
              "\n",
              "    .dataframe thead th {\n",
              "        text-align: right;\n",
              "    }\n",
              "</style>\n",
              "<table border=\"1\" class=\"dataframe\">\n",
              "  <thead>\n",
              "    <tr style=\"text-align: right;\">\n",
              "      <th></th>\n",
              "      <th>title</th>\n",
              "      <th>distributor</th>\n",
              "      <th>genre</th>\n",
              "      <th>release_time</th>\n",
              "      <th>time</th>\n",
              "      <th>screening_rat</th>\n",
              "      <th>director</th>\n",
              "      <th>dir_prev_bfnum</th>\n",
              "      <th>dir_prev_num</th>\n",
              "      <th>num_staff</th>\n",
              "      <th>num_actor</th>\n",
              "      <th>box_off_num</th>\n",
              "    </tr>\n",
              "  </thead>\n",
              "  <tbody>\n",
              "    <tr>\n",
              "      <th>0</th>\n",
              "      <td>개들의 전쟁</td>\n",
              "      <td>롯데엔터테인먼트</td>\n",
              "      <td>액션</td>\n",
              "      <td>2012-11-22</td>\n",
              "      <td>96</td>\n",
              "      <td>청소년 관람불가</td>\n",
              "      <td>조병옥</td>\n",
              "      <td>NaN</td>\n",
              "      <td>0</td>\n",
              "      <td>91</td>\n",
              "      <td>2</td>\n",
              "      <td>23398.0</td>\n",
              "    </tr>\n",
              "    <tr>\n",
              "      <th>1</th>\n",
              "      <td>내부자들</td>\n",
              "      <td>(주)쇼박스</td>\n",
              "      <td>느와르</td>\n",
              "      <td>2015-11-19</td>\n",
              "      <td>130</td>\n",
              "      <td>청소년 관람불가</td>\n",
              "      <td>우민호</td>\n",
              "      <td>1161602.50</td>\n",
              "      <td>2</td>\n",
              "      <td>387</td>\n",
              "      <td>3</td>\n",
              "      <td>7072501.0</td>\n",
              "    </tr>\n",
              "    <tr>\n",
              "      <th>2</th>\n",
              "      <td>은밀하게 위대하게</td>\n",
              "      <td>(주)쇼박스</td>\n",
              "      <td>액션</td>\n",
              "      <td>2013-06-05</td>\n",
              "      <td>123</td>\n",
              "      <td>15세 관람가</td>\n",
              "      <td>장철수</td>\n",
              "      <td>220775.25</td>\n",
              "      <td>4</td>\n",
              "      <td>343</td>\n",
              "      <td>4</td>\n",
              "      <td>6959083.0</td>\n",
              "    </tr>\n",
              "    <tr>\n",
              "      <th>3</th>\n",
              "      <td>나는 공무원이다</td>\n",
              "      <td>(주)NEW</td>\n",
              "      <td>코미디</td>\n",
              "      <td>2012-07-12</td>\n",
              "      <td>101</td>\n",
              "      <td>전체 관람가</td>\n",
              "      <td>구자홍</td>\n",
              "      <td>23894.00</td>\n",
              "      <td>2</td>\n",
              "      <td>20</td>\n",
              "      <td>6</td>\n",
              "      <td>217866.0</td>\n",
              "    </tr>\n",
              "    <tr>\n",
              "      <th>4</th>\n",
              "      <td>불량남녀</td>\n",
              "      <td>쇼박스(주)미디어플렉스</td>\n",
              "      <td>코미디</td>\n",
              "      <td>2010-11-04</td>\n",
              "      <td>108</td>\n",
              "      <td>15세 관람가</td>\n",
              "      <td>신근호</td>\n",
              "      <td>1.00</td>\n",
              "      <td>1</td>\n",
              "      <td>251</td>\n",
              "      <td>2</td>\n",
              "      <td>483387.0</td>\n",
              "    </tr>\n",
              "  </tbody>\n",
              "</table>\n",
              "</div>\n",
              "      <button class=\"colab-df-convert\" onclick=\"convertToInteractive('df-c4d6ab28-ac24-4937-b735-a4369f5f9aae')\"\n",
              "              title=\"Convert this dataframe to an interactive table.\"\n",
              "              style=\"display:none;\">\n",
              "        \n",
              "  <svg xmlns=\"http://www.w3.org/2000/svg\" height=\"24px\"viewBox=\"0 0 24 24\"\n",
              "       width=\"24px\">\n",
              "    <path d=\"M0 0h24v24H0V0z\" fill=\"none\"/>\n",
              "    <path d=\"M18.56 5.44l.94 2.06.94-2.06 2.06-.94-2.06-.94-.94-2.06-.94 2.06-2.06.94zm-11 1L8.5 8.5l.94-2.06 2.06-.94-2.06-.94L8.5 2.5l-.94 2.06-2.06.94zm10 10l.94 2.06.94-2.06 2.06-.94-2.06-.94-.94-2.06-.94 2.06-2.06.94z\"/><path d=\"M17.41 7.96l-1.37-1.37c-.4-.4-.92-.59-1.43-.59-.52 0-1.04.2-1.43.59L10.3 9.45l-7.72 7.72c-.78.78-.78 2.05 0 2.83L4 21.41c.39.39.9.59 1.41.59.51 0 1.02-.2 1.41-.59l7.78-7.78 2.81-2.81c.8-.78.8-2.07 0-2.86zM5.41 20L4 18.59l7.72-7.72 1.47 1.35L5.41 20z\"/>\n",
              "  </svg>\n",
              "      </button>\n",
              "      \n",
              "  <style>\n",
              "    .colab-df-container {\n",
              "      display:flex;\n",
              "      flex-wrap:wrap;\n",
              "      gap: 12px;\n",
              "    }\n",
              "\n",
              "    .colab-df-convert {\n",
              "      background-color: #E8F0FE;\n",
              "      border: none;\n",
              "      border-radius: 50%;\n",
              "      cursor: pointer;\n",
              "      display: none;\n",
              "      fill: #1967D2;\n",
              "      height: 32px;\n",
              "      padding: 0 0 0 0;\n",
              "      width: 32px;\n",
              "    }\n",
              "\n",
              "    .colab-df-convert:hover {\n",
              "      background-color: #E2EBFA;\n",
              "      box-shadow: 0px 1px 2px rgba(60, 64, 67, 0.3), 0px 1px 3px 1px rgba(60, 64, 67, 0.15);\n",
              "      fill: #174EA6;\n",
              "    }\n",
              "\n",
              "    [theme=dark] .colab-df-convert {\n",
              "      background-color: #3B4455;\n",
              "      fill: #D2E3FC;\n",
              "    }\n",
              "\n",
              "    [theme=dark] .colab-df-convert:hover {\n",
              "      background-color: #434B5C;\n",
              "      box-shadow: 0px 1px 3px 1px rgba(0, 0, 0, 0.15);\n",
              "      filter: drop-shadow(0px 1px 2px rgba(0, 0, 0, 0.3));\n",
              "      fill: #FFFFFF;\n",
              "    }\n",
              "  </style>\n",
              "\n",
              "      <script>\n",
              "        const buttonEl =\n",
              "          document.querySelector('#df-c4d6ab28-ac24-4937-b735-a4369f5f9aae button.colab-df-convert');\n",
              "        buttonEl.style.display =\n",
              "          google.colab.kernel.accessAllowed ? 'block' : 'none';\n",
              "\n",
              "        async function convertToInteractive(key) {\n",
              "          const element = document.querySelector('#df-c4d6ab28-ac24-4937-b735-a4369f5f9aae');\n",
              "          const dataTable =\n",
              "            await google.colab.kernel.invokeFunction('convertToInteractive',\n",
              "                                                     [key], {});\n",
              "          if (!dataTable) return;\n",
              "\n",
              "          const docLinkHtml = 'Like what you see? Visit the ' +\n",
              "            '<a target=\"_blank\" href=https://colab.research.google.com/notebooks/data_table.ipynb>data table notebook</a>'\n",
              "            + ' to learn more about interactive tables.';\n",
              "          element.innerHTML = '';\n",
              "          dataTable['output_type'] = 'display_data';\n",
              "          await google.colab.output.renderOutput(dataTable, element);\n",
              "          const docLink = document.createElement('div');\n",
              "          docLink.innerHTML = docLinkHtml;\n",
              "          element.appendChild(docLink);\n",
              "        }\n",
              "      </script>\n",
              "    </div>\n",
              "  </div>\n",
              "  "
            ],
            "text/plain": [
              "       title   distributor genre  ... num_staff  num_actor box_off_num\n",
              "0     개들의 전쟁      롯데엔터테인먼트    액션  ...        91          2     23398.0\n",
              "1       내부자들        (주)쇼박스   느와르  ...       387          3   7072501.0\n",
              "2  은밀하게 위대하게        (주)쇼박스    액션  ...       343          4   6959083.0\n",
              "3   나는 공무원이다        (주)NEW   코미디  ...        20          6    217866.0\n",
              "4       불량남녀  쇼박스(주)미디어플렉스   코미디  ...       251          2    483387.0\n",
              "\n",
              "[5 rows x 12 columns]"
            ]
          },
          "metadata": {},
          "execution_count": 1119
        }
      ]
    },
    {
      "cell_type": "code",
      "source": [
        "all_df.info()"
      ],
      "metadata": {
        "colab": {
          "base_uri": "https://localhost:8080/"
        },
        "outputId": "82b1dce6-f8c2-4785-be1b-5180158f5696",
        "id": "bXtKttsk4qMO"
      },
      "execution_count": 1120,
      "outputs": [
        {
          "output_type": "stream",
          "name": "stdout",
          "text": [
            "<class 'pandas.core.frame.DataFrame'>\n",
            "Int64Index: 843 entries, 0 to 242\n",
            "Data columns (total 12 columns):\n",
            " #   Column          Non-Null Count  Dtype  \n",
            "---  ------          --------------  -----  \n",
            " 0   title           843 non-null    object \n",
            " 1   distributor     843 non-null    object \n",
            " 2   genre           843 non-null    object \n",
            " 3   release_time    843 non-null    object \n",
            " 4   time            843 non-null    int64  \n",
            " 5   screening_rat   843 non-null    object \n",
            " 6   director        843 non-null    object \n",
            " 7   dir_prev_bfnum  377 non-null    float64\n",
            " 8   dir_prev_num    843 non-null    int64  \n",
            " 9   num_staff       843 non-null    int64  \n",
            " 10  num_actor       843 non-null    int64  \n",
            " 11  box_off_num     600 non-null    float64\n",
            "dtypes: float64(2), int64(4), object(6)\n",
            "memory usage: 85.6+ KB\n"
          ]
        }
      ]
    },
    {
      "cell_type": "markdown",
      "source": [
        "##release_time값 조정\n",
        "\n",
        "'2021-12-31'같은 값을 '2021-12'로 변경"
      ],
      "metadata": {
        "id": "R1uf8n0V4qMO"
      }
    },
    {
      "cell_type": "code",
      "source": [
        "print(all_df.release_time[:5])\n",
        "all_df['release_time'] = all_df.release_time.str[:7]\n",
        "print(all_df.release_time[:5])"
      ],
      "metadata": {
        "colab": {
          "base_uri": "https://localhost:8080/"
        },
        "outputId": "3d2f84ff-ccdf-4a2c-d9cf-b5bb4b469ef1",
        "id": "4gNmaA624qMO"
      },
      "execution_count": 1121,
      "outputs": [
        {
          "output_type": "stream",
          "name": "stdout",
          "text": [
            "0    2012-11-22\n",
            "1    2015-11-19\n",
            "2    2013-06-05\n",
            "3    2012-07-12\n",
            "4    2010-11-04\n",
            "Name: release_time, dtype: object\n",
            "0    2012-11\n",
            "1    2015-11\n",
            "2    2013-06\n",
            "3    2012-07\n",
            "4    2010-11\n",
            "Name: release_time, dtype: object\n"
          ]
        }
      ]
    },
    {
      "cell_type": "markdown",
      "source": [
        "##director 컬럼 카테고리화"
      ],
      "metadata": {
        "id": "ooNET9FN44zX"
      }
    },
    {
      "cell_type": "code",
      "source": [
        "print(len(all_df.director.unique()))\n",
        "\n",
        "all_df.loc[all_df.dir_prev_num==0, 'director'] = '무명감독'\n",
        "print(len(all_df.director.unique()))\n"
      ],
      "metadata": {
        "colab": {
          "base_uri": "https://localhost:8080/"
        },
        "id": "Kcvev6kS49_H",
        "outputId": "abc800f2-2ec3-40dd-ea01-6bfdf4606668"
      },
      "execution_count": 1122,
      "outputs": [
        {
          "output_type": "stream",
          "name": "stdout",
          "text": [
            "614\n",
            "291\n"
          ]
        }
      ]
    },
    {
      "cell_type": "code",
      "source": [
        ""
      ],
      "metadata": {
        "id": "PfU72TNy4-Ne"
      },
      "execution_count": 1122,
      "outputs": []
    },
    {
      "cell_type": "markdown",
      "source": [
        "##카테고리 데이터 인고딩"
      ],
      "metadata": {
        "id": "jTQq1d8d4qMO"
      }
    },
    {
      "cell_type": "code",
      "source": [
        "all_df.distributor = all_df.distributor.astype('category')\n",
        "all_df['distributor_code'] = all_df.distributor.cat.codes\n",
        "\n",
        "all_df.genre = all_df.genre.astype('category')\n",
        "all_df['genre_code'] = all_df.genre.cat.codes\n",
        "\n",
        "all_df.screening_rat = all_df.screening_rat.astype('category')\n",
        "all_df['screening_rat_code'] = all_df.screening_rat.cat.codes\n",
        "\n",
        "\n",
        "all_df.release_time = all_df.release_time.astype('category')\n",
        "all_df['release_time_code'] = all_df.release_time.cat.codes\n",
        "\n",
        "all_df.director = all_df.director.astype('category')\n",
        "all_df['director_code'] = all_df.director.cat.codes"
      ],
      "metadata": {
        "id": "ywK5nyWB4qMO"
      },
      "execution_count": 1123,
      "outputs": []
    },
    {
      "cell_type": "markdown",
      "source": [
        "##카테코리 데이터 one-hot 인코딩"
      ],
      "metadata": {
        "id": "XErnjPOY4qMO"
      }
    },
    {
      "cell_type": "code",
      "source": [
        "all_df = pd.get_dummies(all_df, columns = ['distributor_code'])\n",
        "all_df = pd.get_dummies(all_df, columns = ['genre_code'])\n",
        "all_df = pd.get_dummies(all_df, columns = ['screening_rat_code'])\n",
        "all_df = pd.get_dummies(all_df, columns = ['release_time_code'])\n",
        "all_df = pd.get_dummies(all_df, columns = ['director_code'])\n"
      ],
      "metadata": {
        "id": "n8116dqS4qMO"
      },
      "execution_count": 1124,
      "outputs": []
    },
    {
      "cell_type": "code",
      "source": [
        "all_df.info()"
      ],
      "metadata": {
        "colab": {
          "base_uri": "https://localhost:8080/"
        },
        "outputId": "26fd4236-7ada-43d6-accd-1cec849e2224",
        "id": "o-lsJKZU4qMO"
      },
      "execution_count": 1125,
      "outputs": [
        {
          "output_type": "stream",
          "name": "stdout",
          "text": [
            "<class 'pandas.core.frame.DataFrame'>\n",
            "Int64Index: 843 entries, 0 to 242\n",
            "Columns: 595 entries, title to director_code_290\n",
            "dtypes: category(5), float64(2), int64(4), object(1), uint8(583)\n",
            "memory usage: 565.9+ KB\n"
          ]
        }
      ]
    },
    {
      "cell_type": "markdown",
      "source": [
        "##안쓸 컬럼 삭제"
      ],
      "metadata": {
        "id": "snP4auiE4qMO"
      }
    },
    {
      "cell_type": "code",
      "source": [
        "all_df.drop(columns=[\"title\", \n",
        "                     \"distributor\", \n",
        "                     \"genre\", \n",
        "                     \"release_time\", \n",
        "                     \"screening_rat\", \n",
        "                     \"director\"], inplace=True)\n",
        "all_df.info()"
      ],
      "metadata": {
        "colab": {
          "base_uri": "https://localhost:8080/"
        },
        "outputId": "bfcc4afe-1a8c-4418-ac24-0901766e26a0",
        "id": "0C-LK3Dx4qMO"
      },
      "execution_count": 1126,
      "outputs": [
        {
          "output_type": "stream",
          "name": "stdout",
          "text": [
            "<class 'pandas.core.frame.DataFrame'>\n",
            "Int64Index: 843 entries, 0 to 242\n",
            "Columns: 589 entries, time to director_code_290\n",
            "dtypes: float64(2), int64(4), uint8(583)\n",
            "memory usage: 526.1 KB\n"
          ]
        }
      ]
    },
    {
      "cell_type": "markdown",
      "source": [
        "##결측치 처리"
      ],
      "metadata": {
        "id": "Ntpu9t754qMO"
      }
    },
    {
      "cell_type": "code",
      "source": [
        "all_df = all_df.fillna(0)"
      ],
      "metadata": {
        "id": "M88gThie4qMO"
      },
      "execution_count": 1127,
      "outputs": []
    },
    {
      "cell_type": "code",
      "source": [
        "all_df.info()"
      ],
      "metadata": {
        "colab": {
          "base_uri": "https://localhost:8080/"
        },
        "outputId": "5b0274cd-2334-487b-c47a-edfe644036f2",
        "id": "8_MLx2tm4qMP"
      },
      "execution_count": 1128,
      "outputs": [
        {
          "output_type": "stream",
          "name": "stdout",
          "text": [
            "<class 'pandas.core.frame.DataFrame'>\n",
            "Int64Index: 843 entries, 0 to 242\n",
            "Columns: 589 entries, time to director_code_290\n",
            "dtypes: float64(2), int64(4), uint8(583)\n",
            "memory usage: 526.1 KB\n"
          ]
        }
      ]
    },
    {
      "cell_type": "markdown",
      "source": [
        "##전처리 전의 데이터 분포 보기"
      ],
      "metadata": {
        "id": "pyyAK2-P4qMP"
      }
    },
    {
      "cell_type": "markdown",
      "source": [
        "###time"
      ],
      "metadata": {
        "id": "SSHH_4Z64qMP"
      }
    },
    {
      "cell_type": "code",
      "source": [
        "plt.hist(all_df.time, bins=100)\n",
        "plt.show()"
      ],
      "metadata": {
        "colab": {
          "base_uri": "https://localhost:8080/",
          "height": 264
        },
        "outputId": "48b72fb1-a879-450e-9f24-bcec0d8060fd",
        "id": "Mu_3r9An4qMP"
      },
      "execution_count": 1129,
      "outputs": [
        {
          "output_type": "display_data",
          "data": {
            "image/png": "[encoded data removed]",
            "text/plain": [
              "<Figure size 432x288 with 1 Axes>"
            ]
          },
          "metadata": {
            "needs_background": "light"
          }
        }
      ]
    },
    {
      "cell_type": "markdown",
      "source": [
        "###dir_prev_bfnum"
      ],
      "metadata": {
        "id": "q-CK8zC74qMP"
      }
    },
    {
      "cell_type": "code",
      "source": [
        "plt.hist(all_df.dir_prev_bfnum, bins=100)\n",
        "plt.show()"
      ],
      "metadata": {
        "colab": {
          "base_uri": "https://localhost:8080/",
          "height": 277
        },
        "outputId": "cb3d09de-18f5-4e8d-cc4b-fd47ea423129",
        "id": "zQYnuV_R4qMP"
      },
      "execution_count": 1130,
      "outputs": [
        {
          "output_type": "display_data",
          "data": {
            "image/png": "[encoded data removed]",
            "text/plain": [
              "<Figure size 432x288 with 1 Axes>"
            ]
          },
          "metadata": {
            "needs_background": "light"
          }
        }
      ]
    },
    {
      "cell_type": "markdown",
      "source": [
        "###dir_prev_num"
      ],
      "metadata": {
        "id": "7W9xLvBY4qMP"
      }
    },
    {
      "cell_type": "code",
      "source": [
        "plt.hist(all_df.dir_prev_num, bins=100)\n",
        "plt.show()"
      ],
      "metadata": {
        "colab": {
          "base_uri": "https://localhost:8080/",
          "height": 264
        },
        "outputId": "3deadbc6-6787-4147-d845-6dfbf7c63b25",
        "id": "KTq-9NtS4qMP"
      },
      "execution_count": 1131,
      "outputs": [
        {
          "output_type": "display_data",
          "data": {
            "image/png": "[encoded data removed]",
            "text/plain": [
              "<Figure size 432x288 with 1 Axes>"
            ]
          },
          "metadata": {
            "needs_background": "light"
          }
        }
      ]
    },
    {
      "cell_type": "markdown",
      "source": [
        "###num_staff"
      ],
      "metadata": {
        "id": "nCqgO4_s4qMP"
      }
    },
    {
      "cell_type": "code",
      "source": [
        "plt.hist(all_df.num_staff, bins=100)\n",
        "plt.show()"
      ],
      "metadata": {
        "colab": {
          "base_uri": "https://localhost:8080/",
          "height": 265
        },
        "outputId": "96203be5-fbd4-46c6-9c4c-e8ec22b28a0b",
        "id": "lX0KTMou4qMP"
      },
      "execution_count": 1132,
      "outputs": [
        {
          "output_type": "display_data",
          "data": {
            "image/png": "[encoded data removed]",
            "text/plain": [
              "<Figure size 432x288 with 1 Axes>"
            ]
          },
          "metadata": {
            "needs_background": "light"
          }
        }
      ]
    },
    {
      "cell_type": "markdown",
      "source": [
        "###num_actor"
      ],
      "metadata": {
        "id": "MgWSo0oI4qMP"
      }
    },
    {
      "cell_type": "code",
      "source": [
        "plt.hist(all_df.num_actor, bins=100)\n",
        "plt.show()"
      ],
      "metadata": {
        "colab": {
          "base_uri": "https://localhost:8080/",
          "height": 264
        },
        "outputId": "64e8fe43-1da8-4f30-e7bc-2fb46cfaf151",
        "id": "Pe5zdpFN4qMP"
      },
      "execution_count": 1133,
      "outputs": [
        {
          "output_type": "display_data",
          "data": {
            "image/png": "[encoded data removed]",
            "text/plain": [
              "<Figure size 432x288 with 1 Axes>"
            ]
          },
          "metadata": {
            "needs_background": "light"
          }
        }
      ]
    },
    {
      "cell_type": "markdown",
      "source": [
        "###box_off_num"
      ],
      "metadata": {
        "id": "Yx4oS1WV4qMP"
      }
    },
    {
      "cell_type": "code",
      "source": [
        "plt.hist(all_df.box_off_num, bins=100)\n",
        "plt.show()"
      ],
      "metadata": {
        "colab": {
          "base_uri": "https://localhost:8080/",
          "height": 277
        },
        "outputId": "a843835a-2743-4abf-80ef-abf2d3fa861d",
        "id": "J5rC1oQw4qMP"
      },
      "execution_count": 1134,
      "outputs": [
        {
          "output_type": "display_data",
          "data": {
            "image/png": "[encoded data removed]",
            "text/plain": [
              "<Figure size 432x288 with 1 Axes>"
            ]
          },
          "metadata": {
            "needs_background": "light"
          }
        }
      ]
    },
    {
      "cell_type": "markdown",
      "source": [
        "##컬럼 별 전처리"
      ],
      "metadata": {
        "id": "hi_Hc7_m4qMQ"
      }
    },
    {
      "cell_type": "markdown",
      "source": [
        "###time\n"
      ],
      "metadata": {
        "id": "I-TBat9y4qMQ"
      }
    },
    {
      "cell_type": "code",
      "source": [
        "all_df.loc[all_df.time>200, 'time'] =200"
      ],
      "metadata": {
        "id": "gvhVmqUQ4qMQ"
      },
      "execution_count": 1135,
      "outputs": []
    },
    {
      "cell_type": "markdown",
      "source": [
        "###dir_prev_bfum"
      ],
      "metadata": {
        "id": "qvhOHz-D4qMQ"
      }
    },
    {
      "cell_type": "code",
      "source": [
        "all_df['dir_prev_bfnum']=np.log1p(all_df.dir_prev_bfnum)"
      ],
      "metadata": {
        "id": "YOGyQP8r4qMQ"
      },
      "execution_count": 1136,
      "outputs": []
    },
    {
      "cell_type": "markdown",
      "source": [
        "###num_staff \n",
        "####1을 더한 로그처리한다."
      ],
      "metadata": {
        "id": "OwiZUxrt4qMQ"
      }
    },
    {
      "cell_type": "code",
      "source": [
        "all_df['num_staff']= np.log1p(all_df.num_staff)"
      ],
      "metadata": {
        "id": "ReiK7JgW4qMQ"
      },
      "execution_count": 1137,
      "outputs": []
    },
    {
      "cell_type": "markdown",
      "source": [
        "###num_actor\n",
        "####10보다 큰 이상치를 10으로 변환"
      ],
      "metadata": {
        "id": "8flS2pfe4qMQ"
      }
    },
    {
      "cell_type": "code",
      "source": [
        "all_df.loc[all_df.num_actor>10, 'num_actor'] = 10"
      ],
      "metadata": {
        "id": "vUwse1134qMQ"
      },
      "execution_count": 1138,
      "outputs": []
    },
    {
      "cell_type": "markdown",
      "source": [
        "###box_off_num\n",
        "####1을 더한 로그처리한다."
      ],
      "metadata": {
        "id": "x00cnWh54qMQ"
      }
    },
    {
      "cell_type": "code",
      "source": [
        "all_df['box_off_num']= np.log1p(all_df.box_off_num)"
      ],
      "metadata": {
        "id": "42N40Zfz4qMQ"
      },
      "execution_count": 1139,
      "outputs": []
    },
    {
      "cell_type": "markdown",
      "source": [
        "## Normalization"
      ],
      "metadata": {
        "id": "YpLO8lGZ4qMQ"
      }
    },
    {
      "cell_type": "code",
      "source": [
        "all_df['time']            = (all_df.time - all_df.time.min()) / ( all_df.time.max() - all_df.time.min())\n",
        "all_df['dir_prev_bfnum']  = (all_df.dir_prev_bfnum - all_df.dir_prev_bfnum.min()) / ( all_df.dir_prev_bfnum.max() - all_df.dir_prev_bfnum.min())\n",
        "all_df['dir_prev_num']    = (all_df.dir_prev_num - all_df.dir_prev_num.min()) / ( all_df.dir_prev_num.max() - all_df.dir_prev_num.min())\n",
        "all_df['num_staff']       = (all_df.num_staff - all_df.num_staff.min()) / ( all_df.num_staff.max() - all_df.num_staff.min())\n",
        "all_df['num_actor']       = (all_df.num_actor - all_df.num_actor.min()) / ( all_df.num_actor.max() - all_df.num_actor.min())"
      ],
      "metadata": {
        "id": "2ddKGQaN4qMQ"
      },
      "execution_count": 1140,
      "outputs": []
    },
    {
      "cell_type": "code",
      "source": [
        "y_max= all_df.box_off_num.max()\n",
        "y_min= all_df.box_off_num.min()\n",
        "\n",
        "all_df['box_off_num'] = (all_df.box_off_num - y_min) / ( y_max - y_min )"
      ],
      "metadata": {
        "id": "HfLaSHXr4qMQ"
      },
      "execution_count": 1141,
      "outputs": []
    },
    {
      "cell_type": "markdown",
      "source": [
        "##전처리 후의 데이터 분포 보기"
      ],
      "metadata": {
        "id": "Z5Rv1Hlz4qMQ"
      }
    },
    {
      "cell_type": "markdown",
      "source": [
        "###time"
      ],
      "metadata": {
        "id": "78kafH414qMR"
      }
    },
    {
      "cell_type": "code",
      "source": [
        "plt.hist(all_df.time, bins=100)\n",
        "plt.show()"
      ],
      "metadata": {
        "colab": {
          "base_uri": "https://localhost:8080/",
          "height": 264
        },
        "outputId": "6635e07e-eade-4806-fa69-05aec5127d1a",
        "id": "ohLY-3xL4qMR"
      },
      "execution_count": 1142,
      "outputs": [
        {
          "output_type": "display_data",
          "data": {
            "image/png": "[encoded data removed]",
            "text/plain": [
              "<Figure size 432x288 with 1 Axes>"
            ]
          },
          "metadata": {
            "needs_background": "light"
          }
        }
      ]
    },
    {
      "cell_type": "markdown",
      "source": [
        "###dir_prev_bfnum"
      ],
      "metadata": {
        "id": "cNF8vIA54qMR"
      }
    },
    {
      "cell_type": "code",
      "source": [
        "plt.hist(all_df.dir_prev_bfnum, bins=100)\n",
        "plt.show()"
      ],
      "metadata": {
        "colab": {
          "base_uri": "https://localhost:8080/",
          "height": 264
        },
        "outputId": "4ba6f318-699c-4147-ad35-fe68a7f1c3d1",
        "id": "N1ueHeJk4qMR"
      },
      "execution_count": 1143,
      "outputs": [
        {
          "output_type": "display_data",
          "data": {
            "image/png": "[encoded data removed]",
            "text/plain": [
              "<Figure size 432x288 with 1 Axes>"
            ]
          },
          "metadata": {
            "needs_background": "light"
          }
        }
      ]
    },
    {
      "cell_type": "markdown",
      "source": [
        "###dir_prev_num"
      ],
      "metadata": {
        "id": "gIK4VQ9c4qMR"
      }
    },
    {
      "cell_type": "code",
      "source": [
        "plt.hist(all_df.dir_prev_num, bins=100)\n",
        "plt.show()"
      ],
      "metadata": {
        "colab": {
          "base_uri": "https://localhost:8080/",
          "height": 264
        },
        "outputId": "29c27b7b-664b-4126-d55d-3a0503dd7bcf",
        "id": "CVqmYDEw4qMR"
      },
      "execution_count": 1144,
      "outputs": [
        {
          "output_type": "display_data",
          "data": {
            "image/png": "[encoded data removed]",
            "text/plain": [
              "<Figure size 432x288 with 1 Axes>"
            ]
          },
          "metadata": {
            "needs_background": "light"
          }
        }
      ]
    },
    {
      "cell_type": "markdown",
      "source": [
        "###num_staff"
      ],
      "metadata": {
        "id": "k_7HLkjM4qMR"
      }
    },
    {
      "cell_type": "code",
      "source": [
        "plt.hist(all_df.num_staff, bins=100)\n",
        "plt.show()"
      ],
      "metadata": {
        "colab": {
          "base_uri": "https://localhost:8080/",
          "height": 264
        },
        "outputId": "57d31f89-3e7e-4373-a2b4-4f9e91c307d6",
        "id": "He5wgUp_4qMR"
      },
      "execution_count": 1145,
      "outputs": [
        {
          "output_type": "display_data",
          "data": {
            "image/png": "[encoded data removed]",
            "text/plain": [
              "<Figure size 432x288 with 1 Axes>"
            ]
          },
          "metadata": {
            "needs_background": "light"
          }
        }
      ]
    },
    {
      "cell_type": "markdown",
      "source": [
        "###num_actor"
      ],
      "metadata": {
        "id": "fYhrUa3v4qMR"
      }
    },
    {
      "cell_type": "code",
      "source": [
        "plt.hist(all_df.num_actor, bins=100)\n",
        "plt.show()"
      ],
      "metadata": {
        "colab": {
          "base_uri": "https://localhost:8080/",
          "height": 264
        },
        "outputId": "d79e5250-e85f-402d-bf78-95d7e54e09cc",
        "id": "sSsi3H9v4qMR"
      },
      "execution_count": 1146,
      "outputs": [
        {
          "output_type": "display_data",
          "data": {
            "image/png": "[encoded data removed]",
            "text/plain": [
              "<Figure size 432x288 with 1 Axes>"
            ]
          },
          "metadata": {
            "needs_background": "light"
          }
        }
      ]
    },
    {
      "cell_type": "markdown",
      "source": [
        "###box_off_num"
      ],
      "metadata": {
        "id": "3OTkN8Pz4qMR"
      }
    },
    {
      "cell_type": "code",
      "source": [
        "plt.hist(all_df.box_off_num, bins=100)\n",
        "plt.show()"
      ],
      "metadata": {
        "colab": {
          "base_uri": "https://localhost:8080/",
          "height": 264
        },
        "outputId": "168a13f4-bffa-4953-bb5f-eddeaea00de9",
        "id": "EZALzs744qMR"
      },
      "execution_count": 1147,
      "outputs": [
        {
          "output_type": "display_data",
          "data": {
            "image/png": "[encoded data removed]",
            "text/plain": [
              "<Figure size 432x288 with 1 Axes>"
            ]
          },
          "metadata": {
            "needs_background": "light"
          }
        }
      ]
    },
    {
      "cell_type": "markdown",
      "source": [
        "##train, test, submission 데이터 분리"
      ],
      "metadata": {
        "id": "skT3KmmY4qMS"
      }
    },
    {
      "cell_type": "code",
      "source": [
        "train_df = all_df[0:500]\n",
        "test_df = all_df[500:600]\n",
        "submission_df = all_df[600:]\n",
        "\n",
        "print(len(train_df))\n",
        "print(len(test_df))\n",
        "print(len(submission_df))"
      ],
      "metadata": {
        "colab": {
          "base_uri": "https://localhost:8080/"
        },
        "outputId": "d132c7dc-0977-4e8a-f641-29d9f213f9d9",
        "id": "OG9Kjo7K4qMS"
      },
      "execution_count": 1148,
      "outputs": [
        {
          "output_type": "stream",
          "name": "stdout",
          "text": [
            "500\n",
            "100\n",
            "243\n"
          ]
        }
      ]
    },
    {
      "cell_type": "markdown",
      "source": [
        "## x,y로 분리"
      ],
      "metadata": {
        "id": "rMlGv5wK4qMS"
      }
    },
    {
      "cell_type": "code",
      "source": [
        "train_y = train_df.box_off_num.to_numpy()\n",
        "\n",
        "train_x_df= train_df.drop(columns=['box_off_num'])\n",
        "\n",
        "train_x = train_x_df.to_numpy()\n",
        "\n",
        "print(train_x.shape)\n",
        "print(train_y.shape)"
      ],
      "metadata": {
        "colab": {
          "base_uri": "https://localhost:8080/"
        },
        "outputId": "5efca149-7495-4747-a465-0b5c692fab49",
        "id": "kBwd5efw4qMS"
      },
      "execution_count": 1149,
      "outputs": [
        {
          "output_type": "stream",
          "name": "stdout",
          "text": [
            "(500, 588)\n",
            "(500,)\n"
          ]
        }
      ]
    },
    {
      "cell_type": "code",
      "source": [
        "test_y = test_df.box_off_num.to_numpy()\n",
        "\n",
        "test_x_df= test_df.drop(columns=['box_off_num'])\n",
        "\n",
        "test_x = test_x_df.to_numpy()\n",
        "\n",
        "print(test_x.shape)\n",
        "print(test_y.shape)"
      ],
      "metadata": {
        "colab": {
          "base_uri": "https://localhost:8080/"
        },
        "outputId": "58154ef3-67d3-4505-8dbb-51b504f51290",
        "id": "t949sPeJ4qMS"
      },
      "execution_count": 1150,
      "outputs": [
        {
          "output_type": "stream",
          "name": "stdout",
          "text": [
            "(100, 588)\n",
            "(100,)\n"
          ]
        }
      ]
    },
    {
      "cell_type": "code",
      "source": [
        "submission_x_df= submission_df.drop(columns=['box_off_num'])\n",
        "submission_x = submission_x_df.to_numpy()\n",
        "print(submission_x.shape)"
      ],
      "metadata": {
        "colab": {
          "base_uri": "https://localhost:8080/"
        },
        "outputId": "a6cee7db-e60e-4862-fd9a-cacde9897ec8",
        "id": "O7iisLff4qMS"
      },
      "execution_count": 1151,
      "outputs": [
        {
          "output_type": "stream",
          "name": "stdout",
          "text": [
            "(243, 588)\n"
          ]
        }
      ]
    },
    {
      "cell_type": "markdown",
      "source": [
        "##딥러닝 학습"
      ],
      "metadata": {
        "id": "SXptqzfA4qMS"
      }
    },
    {
      "cell_type": "code",
      "source": [
        "print(train_x.shape)\n",
        "print(train_x.shape[1])"
      ],
      "metadata": {
        "colab": {
          "base_uri": "https://localhost:8080/"
        },
        "outputId": "4c34e9d4-caa7-4901-a042-11cf0d30fcad",
        "id": "hztQ9GgU4qMS"
      },
      "execution_count": 1152,
      "outputs": [
        {
          "output_type": "stream",
          "name": "stdout",
          "text": [
            "(500, 588)\n",
            "588\n"
          ]
        }
      ]
    },
    {
      "cell_type": "code",
      "source": [
        "import numpy as np\n",
        "import pandas as pd\n",
        "import matplotlib.pyplot as plt\n",
        "\n",
        "import tensorflow as tf\n",
        "\n",
        "from tensorflow import keras\n",
        "from tensorflow.keras import optimizers\n",
        "from tensorflow.keras.layers import Dense\n",
        "\n",
        "model = keras.Sequential()\n",
        "model.add(Dense(256, activation='relu', input_shape=(train_x.shape[1],)))\n",
        "model.add(Dense(10, activation='relu'))\n",
        "model.add(Dense(1))\n",
        "\n",
        "model.compile(optimizer=\"SGD\", loss=\"mse\", metrics=[\"mape\"])\n",
        "model.summary()\n",
        "\n",
        "history = model.fit(train_x, train_y, epochs=1000*2, verbose=0, batch_size=512, validation_split=0.1)\n",
        "\n",
        "plt.plot(history.history['loss'])\n",
        "plt.plot(history.history['val_loss'])\n",
        "plt.show()\n"
      ],
      "metadata": {
        "colab": {
          "base_uri": "https://localhost:8080/",
          "height": 542
        },
        "outputId": "8cc5e47f-00f5-4da3-f68c-5a3570dbffbf",
        "id": "nIuFr5194qMS"
      },
      "execution_count": 1175,
      "outputs": [
        {
          "output_type": "stream",
          "name": "stdout",
          "text": [
            "Model: \"sequential_40\"\n",
            "_________________________________________________________________\n",
            " Layer (type)                Output Shape              Param #   \n",
            "=================================================================\n",
            " dense_114 (Dense)           (None, 256)               150784    \n",
            "                                                                 \n",
            " dense_115 (Dense)           (None, 10)                2570      \n",
            "                                                                 \n",
            " dense_116 (Dense)           (None, 1)                 11        \n",
            "                                                                 \n",
            "=================================================================\n",
            "Total params: 153,365\n",
            "Trainable params: 153,365\n",
            "Non-trainable params: 0\n",
            "_________________________________________________________________\n"
          ]
        },
        {
          "output_type": "display_data",
          "data": {
            "image/png": "[encoded data removed]",
            "text/plain": [
              "<Figure size 432x288 with 1 Axes>"
            ]
          },
          "metadata": {
            "needs_background": "light"
          }
        }
      ]
    },
    {
      "cell_type": "code",
      "source": [
        "plt.plot(history.history['loss'][-500:])\n",
        "plt.plot(history.history['val_loss'][-500:])\n",
        "plt.show()\n"
      ],
      "metadata": {
        "colab": {
          "base_uri": "https://localhost:8080/",
          "height": 264
        },
        "outputId": "f00bbe53-59de-4f55-c6b2-656ced8272f3",
        "id": "8V_o5Y2c4qMS"
      },
      "execution_count": 1176,
      "outputs": [
        {
          "output_type": "display_data",
          "data": {
            "image/png": "[encoded data removed]",
            "text/plain": [
              "<Figure size 432x288 with 1 Axes>"
            ]
          },
          "metadata": {
            "needs_background": "light"
          }
        }
      ]
    },
    {
      "cell_type": "code",
      "source": [
        "loss, mape = model.evaluate(test_x, test_y)\n",
        "print(\"loss=\", loss)\n",
        "print(\"mape=\", mape)\n",
        "\n",
        "y_ = model.predict(test_x)\n",
        "\n",
        "plt.scatter(test_y, y_)\n",
        "plt.show()"
      ],
      "metadata": {
        "colab": {
          "base_uri": "https://localhost:8080/",
          "height": 320
        },
        "outputId": "d5555fc2-55c2-4556-ceb0-c4ee1dee93f8",
        "id": "q0i_jzsw4qMS"
      },
      "execution_count": 1179,
      "outputs": [
        {
          "output_type": "stream",
          "name": "stdout",
          "text": [
            "4/4 [==============================] - 0s 3ms/step - loss: 0.0146 - mape: 17.5441\n",
            "loss= 0.01464888546615839\n",
            "mape= 17.5440731048584\n"
          ]
        },
        {
          "output_type": "display_data",
          "data": {
            "image/png": "[encoded data removed]",
            "text/plain": [
              "<Figure size 432x288 with 1 Axes>"
            ]
          },
          "metadata": {
            "needs_background": "light"
          }
        }
      ]
    },
    {
      "cell_type": "markdown",
      "source": [
        "##RMSE계산하기"
      ],
      "metadata": {
        "id": "VmGZhE0O4qMS"
      }
    },
    {
      "cell_type": "code",
      "source": [
        "from tensorflow.keras.metrics import RootMeanSquaredError\n",
        "\n",
        "predicted = y_ * ( y_max - y_min) + y_min\n",
        "predicted = np.exp(predicted) - 1.\n",
        "\n",
        "org_test_y = test_y * ( y_max - y_min) + y_min\n",
        "org_test_y = np.exp(org_test_y) - 1.\n",
        "\n",
        "\n",
        "rmse = RootMeanSquaredError()(org_test_y, predicted)\n",
        "print(\"rmse = \", rmse)\n",
        "\n",
        "plt.hist(predicted, bins=100)\n",
        "plt.show()\n",
        "plt.hist(org_test_y, bins=100)\n",
        "plt.show()  \n"
      ],
      "metadata": {
        "colab": {
          "base_uri": "https://localhost:8080/",
          "height": 560
        },
        "outputId": "7fcce4d6-8148-46bb-f1b7-8b51973c7732",
        "id": "Z3kj5RBJ4qMT"
      },
      "execution_count": 1180,
      "outputs": [
        {
          "output_type": "stream",
          "name": "stdout",
          "text": [
            "rmse =  tf.Tensor(1615026.0, shape=(), dtype=float32)\n"
          ]
        },
        {
          "output_type": "display_data",
          "data": {
            "image/png": "[encoded data removed]",
            "text/plain": [
              "<Figure size 432x288 with 1 Axes>"
            ]
          },
          "metadata": {
            "needs_background": "light"
          }
        },
        {
          "output_type": "display_data",
          "data": {
            "image/png": "[encoded data removed]",
            "text/plain": [
              "<Figure size 432x288 with 1 Axes>"
            ]
          },
          "metadata": {
            "needs_background": "light"
          }
        }
      ]
    },
    {
      "cell_type": "markdown",
      "source": [
        "##예측하기"
      ],
      "metadata": {
        "id": "D3LvZazz4qMT"
      }
    },
    {
      "cell_type": "code",
      "source": [
        "predicted = model.predict(submission_x)"
      ],
      "metadata": {
        "id": "koagU_wq4qMT"
      },
      "execution_count": 1181,
      "outputs": []
    },
    {
      "cell_type": "code",
      "source": [
        "plt.hist(predicted, bins=100)\n",
        "plt.show()"
      ],
      "metadata": {
        "colab": {
          "base_uri": "https://localhost:8080/",
          "height": 264
        },
        "outputId": "e08b7a7c-e11f-44cd-832e-1112c56246d6",
        "id": "YNnGyktN4qMT"
      },
      "execution_count": 1182,
      "outputs": [
        {
          "output_type": "display_data",
          "data": {
            "image/png": "[encoded data removed]",
            "text/plain": [
              "<Figure size 432x288 with 1 Axes>"
            ]
          },
          "metadata": {
            "needs_background": "light"
          }
        }
      ]
    },
    {
      "cell_type": "markdown",
      "source": [
        "normalized = (t-min) / (max-min)\n",
        "\n",
        "t-min = mormalized*(min-max)\n",
        "\n",
        "t=normalized*(max-min)+min"
      ],
      "metadata": {
        "id": "lnMcYgFB4qMT"
      }
    },
    {
      "cell_type": "code",
      "source": [
        "predicted = predicted * (y_max - y_min) + y_min"
      ],
      "metadata": {
        "id": "MAFid8H94qMT"
      },
      "execution_count": 1183,
      "outputs": []
    },
    {
      "cell_type": "code",
      "source": [
        "plt.hist(predicted, bins=100)\n",
        "plt.show()"
      ],
      "metadata": {
        "colab": {
          "base_uri": "https://localhost:8080/",
          "height": 264
        },
        "outputId": "f9e7ed4a-86c6-4ef7-e93f-362ac25fcf6a",
        "id": "ILqHxFQo4qMT"
      },
      "execution_count": 1184,
      "outputs": [
        {
          "output_type": "display_data",
          "data": {
            "image/png": "[encoded data removed]",
            "text/plain": [
              "<Figure size 432x288 with 1 Axes>"
            ]
          },
          "metadata": {
            "needs_background": "light"
          }
        }
      ]
    },
    {
      "cell_type": "code",
      "source": [
        "predicted = np.exp(predicted) - 1"
      ],
      "metadata": {
        "id": "iIWCiWFO4qMT"
      },
      "execution_count": 1185,
      "outputs": []
    },
    {
      "cell_type": "code",
      "source": [
        "plt.hist(predicted, bins=100)\n",
        "plt.show()"
      ],
      "metadata": {
        "colab": {
          "base_uri": "https://localhost:8080/",
          "height": 277
        },
        "outputId": "cd0eb1fe-c5f9-449f-bf0b-88ae94766d1e",
        "id": "uqfhBbKQ4qMT"
      },
      "execution_count": 1186,
      "outputs": [
        {
          "output_type": "display_data",
          "data": {
            "image/png": "[encoded data removed]",
            "text/plain": [
              "<Figure size 432x288 with 1 Axes>"
            ]
          },
          "metadata": {
            "needs_background": "light"
          }
        }
      ]
    },
    {
      "cell_type": "markdown",
      "source": [
        "##submisssion 파일 만들기"
      ],
      "metadata": {
        "id": "kHM2ZNwn4qMT"
      }
    },
    {
      "cell_type": "code",
      "source": [
        "!head submission.csv"
      ],
      "metadata": {
        "colab": {
          "base_uri": "https://localhost:8080/"
        },
        "outputId": "846278f5-1292-49ca-9f08-1277b3ef21c3",
        "id": "PAPmyb0S4qMT"
      },
      "execution_count": 1195,
      "outputs": [
        {
          "output_type": "stream",
          "name": "stdout",
          "text": [
            "head: cannot open 'submission.csv' for reading: No such file or directory\n"
          ]
        }
      ]
    },
    {
      "cell_type": "code",
      "source": [
        "submission_df= pd.read_csv('movies_test.csv')"
      ],
      "metadata": {
        "id": "mni8ngz84qMT"
      },
      "execution_count": 1196,
      "outputs": []
    },
    {
      "cell_type": "code",
      "source": [
        "final_df = pd.DataFrame(submission_df.title)\n",
        "final_df.head()"
      ],
      "metadata": {
        "colab": {
          "base_uri": "https://localhost:8080/",
          "height": 206
        },
        "outputId": "feb30ffa-7321-4225-ce51-c85eda870a71",
        "id": "CPZ0J-rf4qMT"
      },
      "execution_count": 1197,
      "outputs": [
        {
          "output_type": "execute_result",
          "data": {
            "text/html": [
              "\n",
              "  <div id=\"df-6d575c35-8432-4830-862b-f0dd943e8454\">\n",
              "    <div class=\"colab-df-container\">\n",
              "      <div>\n",
              "<style scoped>\n",
              "    .dataframe tbody tr th:only-of-type {\n",
              "        vertical-align: middle;\n",
              "    }\n",
              "\n",
              "    .dataframe tbody tr th {\n",
              "        vertical-align: top;\n",
              "    }\n",
              "\n",
              "    .dataframe thead th {\n",
              "        text-align: right;\n",
              "    }\n",
              "</style>\n",
              "<table border=\"1\" class=\"dataframe\">\n",
              "  <thead>\n",
              "    <tr style=\"text-align: right;\">\n",
              "      <th></th>\n",
              "      <th>title</th>\n",
              "    </tr>\n",
              "  </thead>\n",
              "  <tbody>\n",
              "    <tr>\n",
              "      <th>0</th>\n",
              "      <td>용서는 없다</td>\n",
              "    </tr>\n",
              "    <tr>\n",
              "      <th>1</th>\n",
              "      <td>아빠가 여자를 좋아해</td>\n",
              "    </tr>\n",
              "    <tr>\n",
              "      <th>2</th>\n",
              "      <td>하모니</td>\n",
              "    </tr>\n",
              "    <tr>\n",
              "      <th>3</th>\n",
              "      <td>의형제</td>\n",
              "    </tr>\n",
              "    <tr>\n",
              "      <th>4</th>\n",
              "      <td>평행 이론</td>\n",
              "    </tr>\n",
              "  </tbody>\n",
              "</table>\n",
              "</div>\n",
              "      <button class=\"colab-df-convert\" onclick=\"convertToInteractive('df-6d575c35-8432-4830-862b-f0dd943e8454')\"\n",
              "              title=\"Convert this dataframe to an interactive table.\"\n",
              "              style=\"display:none;\">\n",
              "        \n",
              "  <svg xmlns=\"http://www.w3.org/2000/svg\" height=\"24px\"viewBox=\"0 0 24 24\"\n",
              "       width=\"24px\">\n",
              "    <path d=\"M0 0h24v24H0V0z\" fill=\"none\"/>\n",
              "    <path d=\"M18.56 5.44l.94 2.06.94-2.06 2.06-.94-2.06-.94-.94-2.06-.94 2.06-2.06.94zm-11 1L8.5 8.5l.94-2.06 2.06-.94-2.06-.94L8.5 2.5l-.94 2.06-2.06.94zm10 10l.94 2.06.94-2.06 2.06-.94-2.06-.94-.94-2.06-.94 2.06-2.06.94z\"/><path d=\"M17.41 7.96l-1.37-1.37c-.4-.4-.92-.59-1.43-.59-.52 0-1.04.2-1.43.59L10.3 9.45l-7.72 7.72c-.78.78-.78 2.05 0 2.83L4 21.41c.39.39.9.59 1.41.59.51 0 1.02-.2 1.41-.59l7.78-7.78 2.81-2.81c.8-.78.8-2.07 0-2.86zM5.41 20L4 18.59l7.72-7.72 1.47 1.35L5.41 20z\"/>\n",
              "  </svg>\n",
              "      </button>\n",
              "      \n",
              "  <style>\n",
              "    .colab-df-container {\n",
              "      display:flex;\n",
              "      flex-wrap:wrap;\n",
              "      gap: 12px;\n",
              "    }\n",
              "\n",
              "    .colab-df-convert {\n",
              "      background-color: #E8F0FE;\n",
              "      border: none;\n",
              "      border-radius: 50%;\n",
              "      cursor: pointer;\n",
              "      display: none;\n",
              "      fill: #1967D2;\n",
              "      height: 32px;\n",
              "      padding: 0 0 0 0;\n",
              "      width: 32px;\n",
              "    }\n",
              "\n",
              "    .colab-df-convert:hover {\n",
              "      background-color: #E2EBFA;\n",
              "      box-shadow: 0px 1px 2px rgba(60, 64, 67, 0.3), 0px 1px 3px 1px rgba(60, 64, 67, 0.15);\n",
              "      fill: #174EA6;\n",
              "    }\n",
              "\n",
              "    [theme=dark] .colab-df-convert {\n",
              "      background-color: #3B4455;\n",
              "      fill: #D2E3FC;\n",
              "    }\n",
              "\n",
              "    [theme=dark] .colab-df-convert:hover {\n",
              "      background-color: #434B5C;\n",
              "      box-shadow: 0px 1px 3px 1px rgba(0, 0, 0, 0.15);\n",
              "      filter: drop-shadow(0px 1px 2px rgba(0, 0, 0, 0.3));\n",
              "      fill: #FFFFFF;\n",
              "    }\n",
              "  </style>\n",
              "\n",
              "      <script>\n",
              "        const buttonEl =\n",
              "          document.querySelector('#df-6d575c35-8432-4830-862b-f0dd943e8454 button.colab-df-convert');\n",
              "        buttonEl.style.display =\n",
              "          google.colab.kernel.accessAllowed ? 'block' : 'none';\n",
              "\n",
              "        async function convertToInteractive(key) {\n",
              "          const element = document.querySelector('#df-6d575c35-8432-4830-862b-f0dd943e8454');\n",
              "          const dataTable =\n",
              "            await google.colab.kernel.invokeFunction('convertToInteractive',\n",
              "                                                     [key], {});\n",
              "          if (!dataTable) return;\n",
              "\n",
              "          const docLinkHtml = 'Like what you see? Visit the ' +\n",
              "            '<a target=\"_blank\" href=https://colab.research.google.com/notebooks/data_table.ipynb>data table notebook</a>'\n",
              "            + ' to learn more about interactive tables.';\n",
              "          element.innerHTML = '';\n",
              "          dataTable['output_type'] = 'display_data';\n",
              "          await google.colab.output.renderOutput(dataTable, element);\n",
              "          const docLink = document.createElement('div');\n",
              "          docLink.innerHTML = docLinkHtml;\n",
              "          element.appendChild(docLink);\n",
              "        }\n",
              "      </script>\n",
              "    </div>\n",
              "  </div>\n",
              "  "
            ],
            "text/plain": [
              "         title\n",
              "0       용서는 없다\n",
              "1  아빠가 여자를 좋아해\n",
              "2          하모니\n",
              "3          의형제\n",
              "4        평행 이론"
            ]
          },
          "metadata": {},
          "execution_count": 1197
        }
      ]
    },
    {
      "cell_type": "code",
      "source": [
        "final_df['box_off_num'] = predicted.astype(np.int)\n",
        "final_df.head()"
      ],
      "metadata": {
        "colab": {
          "base_uri": "https://localhost:8080/",
          "height": 206
        },
        "outputId": "1f86fe34-082b-4114-ace3-057f535dece0",
        "id": "lVa7NaJB4qMU"
      },
      "execution_count": 1198,
      "outputs": [
        {
          "output_type": "execute_result",
          "data": {
            "text/html": [
              "\n",
              "  <div id=\"df-ba31d2a1-1938-478e-ad99-fcf4a7b8f139\">\n",
              "    <div class=\"colab-df-container\">\n",
              "      <div>\n",
              "<style scoped>\n",
              "    .dataframe tbody tr th:only-of-type {\n",
              "        vertical-align: middle;\n",
              "    }\n",
              "\n",
              "    .dataframe tbody tr th {\n",
              "        vertical-align: top;\n",
              "    }\n",
              "\n",
              "    .dataframe thead th {\n",
              "        text-align: right;\n",
              "    }\n",
              "</style>\n",
              "<table border=\"1\" class=\"dataframe\">\n",
              "  <thead>\n",
              "    <tr style=\"text-align: right;\">\n",
              "      <th></th>\n",
              "      <th>title</th>\n",
              "      <th>box_off_num</th>\n",
              "    </tr>\n",
              "  </thead>\n",
              "  <tbody>\n",
              "    <tr>\n",
              "      <th>0</th>\n",
              "      <td>용서는 없다</td>\n",
              "      <td>44875</td>\n",
              "    </tr>\n",
              "    <tr>\n",
              "      <th>1</th>\n",
              "      <td>아빠가 여자를 좋아해</td>\n",
              "      <td>456621</td>\n",
              "    </tr>\n",
              "    <tr>\n",
              "      <th>2</th>\n",
              "      <td>하모니</td>\n",
              "      <td>474259</td>\n",
              "    </tr>\n",
              "    <tr>\n",
              "      <th>3</th>\n",
              "      <td>의형제</td>\n",
              "      <td>3284112</td>\n",
              "    </tr>\n",
              "    <tr>\n",
              "      <th>4</th>\n",
              "      <td>평행 이론</td>\n",
              "      <td>269100</td>\n",
              "    </tr>\n",
              "  </tbody>\n",
              "</table>\n",
              "</div>\n",
              "      <button class=\"colab-df-convert\" onclick=\"convertToInteractive('df-ba31d2a1-1938-478e-ad99-fcf4a7b8f139')\"\n",
              "              title=\"Convert this dataframe to an interactive table.\"\n",
              "              style=\"display:none;\">\n",
              "        \n",
              "  <svg xmlns=\"http://www.w3.org/2000/svg\" height=\"24px\"viewBox=\"0 0 24 24\"\n",
              "       width=\"24px\">\n",
              "    <path d=\"M0 0h24v24H0V0z\" fill=\"none\"/>\n",
              "    <path d=\"M18.56 5.44l.94 2.06.94-2.06 2.06-.94-2.06-.94-.94-2.06-.94 2.06-2.06.94zm-11 1L8.5 8.5l.94-2.06 2.06-.94-2.06-.94L8.5 2.5l-.94 2.06-2.06.94zm10 10l.94 2.06.94-2.06 2.06-.94-2.06-.94-.94-2.06-.94 2.06-2.06.94z\"/><path d=\"M17.41 7.96l-1.37-1.37c-.4-.4-.92-.59-1.43-.59-.52 0-1.04.2-1.43.59L10.3 9.45l-7.72 7.72c-.78.78-.78 2.05 0 2.83L4 21.41c.39.39.9.59 1.41.59.51 0 1.02-.2 1.41-.59l7.78-7.78 2.81-2.81c.8-.78.8-2.07 0-2.86zM5.41 20L4 18.59l7.72-7.72 1.47 1.35L5.41 20z\"/>\n",
              "  </svg>\n",
              "      </button>\n",
              "      \n",
              "  <style>\n",
              "    .colab-df-container {\n",
              "      display:flex;\n",
              "      flex-wrap:wrap;\n",
              "      gap: 12px;\n",
              "    }\n",
              "\n",
              "    .colab-df-convert {\n",
              "      background-color: #E8F0FE;\n",
              "      border: none;\n",
              "      border-radius: 50%;\n",
              "      cursor: pointer;\n",
              "      display: none;\n",
              "      fill: #1967D2;\n",
              "      height: 32px;\n",
              "      padding: 0 0 0 0;\n",
              "      width: 32px;\n",
              "    }\n",
              "\n",
              "    .colab-df-convert:hover {\n",
              "      background-color: #E2EBFA;\n",
              "      box-shadow: 0px 1px 2px rgba(60, 64, 67, 0.3), 0px 1px 3px 1px rgba(60, 64, 67, 0.15);\n",
              "      fill: #174EA6;\n",
              "    }\n",
              "\n",
              "    [theme=dark] .colab-df-convert {\n",
              "      background-color: #3B4455;\n",
              "      fill: #D2E3FC;\n",
              "    }\n",
              "\n",
              "    [theme=dark] .colab-df-convert:hover {\n",
              "      background-color: #434B5C;\n",
              "      box-shadow: 0px 1px 3px 1px rgba(0, 0, 0, 0.15);\n",
              "      filter: drop-shadow(0px 1px 2px rgba(0, 0, 0, 0.3));\n",
              "      fill: #FFFFFF;\n",
              "    }\n",
              "  </style>\n",
              "\n",
              "      <script>\n",
              "        const buttonEl =\n",
              "          document.querySelector('#df-ba31d2a1-1938-478e-ad99-fcf4a7b8f139 button.colab-df-convert');\n",
              "        buttonEl.style.display =\n",
              "          google.colab.kernel.accessAllowed ? 'block' : 'none';\n",
              "\n",
              "        async function convertToInteractive(key) {\n",
              "          const element = document.querySelector('#df-ba31d2a1-1938-478e-ad99-fcf4a7b8f139');\n",
              "          const dataTable =\n",
              "            await google.colab.kernel.invokeFunction('convertToInteractive',\n",
              "                                                     [key], {});\n",
              "          if (!dataTable) return;\n",
              "\n",
              "          const docLinkHtml = 'Like what you see? Visit the ' +\n",
              "            '<a target=\"_blank\" href=https://colab.research.google.com/notebooks/data_table.ipynb>data table notebook</a>'\n",
              "            + ' to learn more about interactive tables.';\n",
              "          element.innerHTML = '';\n",
              "          dataTable['output_type'] = 'display_data';\n",
              "          await google.colab.output.renderOutput(dataTable, element);\n",
              "          const docLink = document.createElement('div');\n",
              "          docLink.innerHTML = docLinkHtml;\n",
              "          element.appendChild(docLink);\n",
              "        }\n",
              "      </script>\n",
              "    </div>\n",
              "  </div>\n",
              "  "
            ],
            "text/plain": [
              "         title  box_off_num\n",
              "0       용서는 없다        44875\n",
              "1  아빠가 여자를 좋아해       456621\n",
              "2          하모니       474259\n",
              "3          의형제      3284112\n",
              "4        평행 이론       269100"
            ]
          },
          "metadata": {},
          "execution_count": 1198
        }
      ]
    },
    {
      "cell_type": "code",
      "source": [
        "final_df.to_csv(\"submission.csv\", index=False)"
      ],
      "metadata": {
        "id": "sdIGz73J4qMU"
      },
      "execution_count": 1199,
      "outputs": []
    },
    {
      "cell_type": "code",
      "source": [
        "!head submission.csv"
      ],
      "metadata": {
        "colab": {
          "base_uri": "https://localhost:8080/"
        },
        "outputId": "1a5d148c-c03d-43f7-d138-e4cac4297967",
        "id": "FVc8SBw74qMU"
      },
      "execution_count": 1200,
      "outputs": [
        {
          "output_type": "stream",
          "name": "stdout",
          "text": [
            "title,box_off_num\n",
            "용서는 없다,44875\n",
            "아빠가 여자를 좋아해,456621\n",
            "하모니,474259\n",
            "의형제,3284112\n",
            "평행 이론,269100\n",
            "회오리 바람,10782\n",
            "경계도시 2,6472\n",
            "이웃집 남자,18359\n",
            "아마존의 눈물 극장판,19796\n"
          ]
        }
      ]
    },
    {
      "cell_type": "markdown",
      "source": [
        "##batch size 찾기"
      ],
      "metadata": {
        "id": "moVbgKDK4qMU"
      }
    },
    {
      "cell_type": "code",
      "source": [
        "import time\n",
        "\n",
        "for batch_size in [16,32,64,128,256,512, 512*2, 512*4, 512*8, 512*16]:\n",
        "  start = time.time()\n",
        "  history = model.fit(train_x, train_y, epochs=4, verbose=0, batch_size=batch_size, validation_split=0.1)\n",
        "  print(batch_size,\":\",time.time() - start)\n"
      ],
      "metadata": {
        "colab": {
          "base_uri": "https://localhost:8080/"
        },
        "outputId": "6272d813-4fd1-4478-aab8-c20adbbcefbd",
        "id": "9vNQrRhQ4qMU"
      },
      "execution_count": 1201,
      "outputs": [
        {
          "output_type": "stream",
          "name": "stdout",
          "text": [
            "16 : 0.6170334815979004\n",
            "32 : 0.7334625720977783\n",
            "64 : 0.43222904205322266\n",
            "128 : 0.3804056644439697\n",
            "256 : 0.3315560817718506\n",
            "512 : 0.7523982524871826\n",
            "1024 : 0.27388763427734375\n",
            "2048 : 0.2928178310394287\n",
            "4096 : 0.2894420623779297\n",
            "8192 : 0.32500195503234863\n"
          ]
        }
      ]
    },
    {
      "cell_type": "markdown",
      "source": [
        "##변환검증"
      ],
      "metadata": {
        "id": "v3ls0sAs-Dbg"
      }
    },
    {
      "cell_type": "code",
      "source": [
        "train_df = pd.read_csv(\"movies_train.csv\")\n",
        "target = train_df.box_off_num\n",
        "\n",
        "plt.hist(target, bins=100)\n",
        "plt.show()\n",
        "\n",
        "target = np.log1p(target)\n",
        "target = (target - y_min) / (y_max - y_min)\n",
        "plt.hist(target, bins=100)\n",
        "plt.show()\n",
        "\n",
        "reconstruced = target * (y_max - y_min) + y_min\n",
        "reconstruced = np.exp(reconstruced) - 1\n",
        "plt.hist(reconstruced, bins=100)\n",
        "plt.show()\n",
        "\n",
        "target = np.log1p(reconstruced)\n",
        "target = (target - y_min) / (y_max - y_min)\n",
        "plt.hist(target, bins=100)\n",
        "plt.show()\n",
        "\n",
        "reconstruced = target * (y_max - y_min) + y_min\n",
        "reconstruced = np.exp(reconstruced) - 1\n",
        "plt.hist(reconstruced, bins=100)\n",
        "plt.show()\n"
      ],
      "metadata": {
        "colab": {
          "base_uri": "https://localhost:8080/",
          "height": 1000
        },
        "id": "aUkrRqQq-IiK",
        "outputId": "2e564fcc-c461-4335-8d48-03f855e0a264"
      },
      "execution_count": 1202,
      "outputs": [
        {
          "output_type": "display_data",
          "data": {
            "image/png": "[encoded data removed]",
            "text/plain": [
              "<Figure size 432x288 with 1 Axes>"
            ]
          },
          "metadata": {
            "needs_background": "light"
          }
        },
        {
          "output_type": "display_data",
          "data": {
            "image/png": "[encoded data removed]",
            "text/plain": [
              "<Figure size 432x288 with 1 Axes>"
            ]
          },
          "metadata": {
            "needs_background": "light"
          }
        },
        {
          "output_type": "display_data",
          "data": {
            "image/png": "[encoded data removed]",
            "text/plain": [
              "<Figure size 432x288 with 1 Axes>"
            ]
          },
          "metadata": {
            "needs_background": "light"
          }
        },
        {
          "output_type": "display_data",
          "data": {
            "image/png": "[encoded data removed]",
            "text/plain": [
              "<Figure size 432x288 with 1 Axes>"
            ]
          },
          "metadata": {
            "needs_background": "light"
          }
        },
        {
          "output_type": "display_data",
          "data": {
            "image/png": "[encoded data removed]",
            "text/plain": [
              "<Figure size 432x288 with 1 Axes>"
            ]
          },
          "metadata": {
            "needs_background": "light"
          }
        }
      ]
    }
  ]
}